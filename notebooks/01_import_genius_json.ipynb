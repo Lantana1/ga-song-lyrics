{
 "cells": [
  {
   "cell_type": "markdown",
   "metadata": {},
   "source": [
    "# Load and Munge Song Lyric Data\n",
    "Loads data, process, and munge for follow-on tasks."
   ]
  },
  {
   "cell_type": "markdown",
   "metadata": {},
   "source": [
    "### Imports\n",
    "Common data manipulation and data viz toolsets plus regex."
   ]
  },
  {
   "cell_type": "code",
   "execution_count": 2,
   "metadata": {
    "ExecuteTime": {
     "end_time": "2020-03-02T17:53:00.334105Z",
     "start_time": "2020-03-02T17:52:58.398185Z"
    }
   },
   "outputs": [],
   "source": [
    "# Data manipulation\n",
    "import pandas as pd\n",
    "import numpy as np\n",
    "\n",
    "# ... and regex\n",
    "import regex as re\n",
    "\n",
    "# Options for pandas\n",
    "pd.options.display.max_columns = 50\n",
    "pd.options.display.max_rows = 50\n",
    "\n",
    "# Display all cell outputs\n",
    "from IPython.core.interactiveshell import InteractiveShell\n",
    "InteractiveShell.ast_node_interactivity = 'all'\n",
    "\n",
    "from IPython import get_ipython\n",
    "ipython = get_ipython()\n",
    "\n",
    "# autoreload extension\n",
    "if 'autoreload' not in ipython.extension_manager.loaded:\n",
    "    %load_ext autoreload\n",
    "\n",
    "%autoreload 2\n",
    "\n",
    "# Prevent future/deprecation warnings from showing in output\n",
    "import warnings\n",
    "warnings.filterwarnings(action='ignore')"
   ]
  },
  {
   "cell_type": "code",
   "execution_count": 3,
   "metadata": {
    "ExecuteTime": {
     "end_time": "2020-03-02T17:53:02.922340Z",
     "start_time": "2020-03-02T17:53:02.896090Z"
    }
   },
   "outputs": [],
   "source": [
    "# Project file imports, exports\n",
    "import os\n",
    "# Create an output folder.\n",
    "# [REF:How can I safely create a nested directory](https://stackoverflow.com/a/14364249)\n",
    "#   > `pathlib.Path.mkdir` as used above recursively creates the directory \n",
    "#      and does not raise an exception if the directory already exists. \n",
    "#      If you don't need or want the parents to be created, skip the parents argument.\n",
    "import pathlib\n",
    "# Baseline\n",
    "prj_home = pathlib.Path('..')\n",
    "prj_home_data_dir = os.path.join(prj_home, 'lyrics/JSON')\n",
    "prj_home_output_dir = os.path.join(prj_home, 'lyrics/data')"
   ]
  },
  {
   "cell_type": "markdown",
   "metadata": {},
   "source": [
    "### Get Started with a Genius API-derived JSON file\n",
    "- This also proved that the mis-selection of song \"5-8-6\" was correct in the fetched JSON file."
   ]
  },
  {
   "cell_type": "code",
   "execution_count": 7,
   "metadata": {
    "ExecuteTime": {
     "end_time": "2020-03-02T17:55:10.066309Z",
     "start_time": "2020-03-02T17:55:10.037259Z"
    }
   },
   "outputs": [],
   "source": [
    "fact = '../lyrics/JSON/PowerCorruptionLies_4.json'\n",
    "\n",
    "# Load\n",
    "Artist = pd.read_json(fact, orient='index')"
   ]
  },
  {
   "cell_type": "code",
   "execution_count": 8,
   "metadata": {
    "ExecuteTime": {
     "end_time": "2020-03-02T17:55:10.958796Z",
     "start_time": "2020-03-02T17:55:10.911710Z"
    }
   },
   "outputs": [
    {
     "data": {
      "text/html": [
       "<div>\n",
       "<style scoped>\n",
       "    .dataframe tbody tr th:only-of-type {\n",
       "        vertical-align: middle;\n",
       "    }\n",
       "\n",
       "    .dataframe tbody tr th {\n",
       "        vertical-align: top;\n",
       "    }\n",
       "\n",
       "    .dataframe thead th {\n",
       "        text-align: right;\n",
       "    }\n",
       "</style>\n",
       "<table border=\"1\" class=\"dataframe\">\n",
       "  <thead>\n",
       "    <tr style=\"text-align: right;\">\n",
       "      <th></th>\n",
       "      <th>0</th>\n",
       "    </tr>\n",
       "  </thead>\n",
       "  <tbody>\n",
       "    <tr>\n",
       "      <th>_type</th>\n",
       "      <td>song</td>\n",
       "    </tr>\n",
       "    <tr>\n",
       "      <th>album</th>\n",
       "      <td>{'api_path': '/albums/58486', 'cover_art_url':...</td>\n",
       "    </tr>\n",
       "    <tr>\n",
       "      <th>annotation_count</th>\n",
       "      <td>1</td>\n",
       "    </tr>\n",
       "    <tr>\n",
       "      <th>api_path</th>\n",
       "      <td>/songs/330886</td>\n",
       "    </tr>\n",
       "    <tr>\n",
       "      <th>apple_music_id</th>\n",
       "      <td>1040982145</td>\n",
       "    </tr>\n",
       "    <tr>\n",
       "      <th>apple_music_player_url</th>\n",
       "      <td>https://genius.com/songs/330886/apple_music_pl...</td>\n",
       "    </tr>\n",
       "    <tr>\n",
       "      <th>current_user_metadata</th>\n",
       "      <td>{'permissions': ['follow', 'pyong', 'add_commu...</td>\n",
       "    </tr>\n",
       "    <tr>\n",
       "      <th>custom_performances</th>\n",
       "      <td>[]</td>\n",
       "    </tr>\n",
       "    <tr>\n",
       "      <th>description</th>\n",
       "      <td>{'plain': '5-8-6 sounds like a previous versio...</td>\n",
       "    </tr>\n",
       "    <tr>\n",
       "      <th>description_annotation</th>\n",
       "      <td>{'_type': 'referent', 'annotator_id': 1600528,...</td>\n",
       "    </tr>\n",
       "    <tr>\n",
       "      <th>embed_content</th>\n",
       "      <td>&lt;div id='rg_embed_link_330886' class='rg_embed...</td>\n",
       "    </tr>\n",
       "    <tr>\n",
       "      <th>featured_artists</th>\n",
       "      <td>[]</td>\n",
       "    </tr>\n",
       "    <tr>\n",
       "      <th>featured_video</th>\n",
       "      <td>False</td>\n",
       "    </tr>\n",
       "    <tr>\n",
       "      <th>full_title</th>\n",
       "      <td>5 8 6 by New Order</td>\n",
       "    </tr>\n",
       "    <tr>\n",
       "      <th>header_image_thumbnail_url</th>\n",
       "      <td>https://images.genius.com/b213883e0b31a7788959...</td>\n",
       "    </tr>\n",
       "    <tr>\n",
       "      <th>header_image_url</th>\n",
       "      <td>https://images.genius.com/b213883e0b31a7788959...</td>\n",
       "    </tr>\n",
       "    <tr>\n",
       "      <th>id</th>\n",
       "      <td>330886</td>\n",
       "    </tr>\n",
       "    <tr>\n",
       "      <th>instrumental</th>\n",
       "      <td>False</td>\n",
       "    </tr>\n",
       "    <tr>\n",
       "      <th>lyrics</th>\n",
       "      <td>I see danger, danger, danger\\nAll on the corne...</td>\n",
       "    </tr>\n",
       "    <tr>\n",
       "      <th>lyrics_marked_complete_by</th>\n",
       "      <td>None</td>\n",
       "    </tr>\n",
       "    <tr>\n",
       "      <th>lyrics_owner_id</th>\n",
       "      <td>288260</td>\n",
       "    </tr>\n",
       "    <tr>\n",
       "      <th>lyrics_state</th>\n",
       "      <td>complete</td>\n",
       "    </tr>\n",
       "    <tr>\n",
       "      <th>lyrics_updated_at</th>\n",
       "      <td>1556364595</td>\n",
       "    </tr>\n",
       "    <tr>\n",
       "      <th>media</th>\n",
       "      <td>[{'provider': 'youtube', 'start': 0, 'type': '...</td>\n",
       "    </tr>\n",
       "    <tr>\n",
       "      <th>path</th>\n",
       "      <td>/New-order-5-8-6-lyrics</td>\n",
       "    </tr>\n",
       "    <tr>\n",
       "      <th>primary_artist</th>\n",
       "      <td>{'api_path': '/artists/37694', 'header_image_u...</td>\n",
       "    </tr>\n",
       "    <tr>\n",
       "      <th>producer_artists</th>\n",
       "      <td>[{'api_path': '/artists/37694', 'header_image_...</td>\n",
       "    </tr>\n",
       "    <tr>\n",
       "      <th>pyongs_count</th>\n",
       "      <td>2</td>\n",
       "    </tr>\n",
       "    <tr>\n",
       "      <th>recording_location</th>\n",
       "      <td>None</td>\n",
       "    </tr>\n",
       "    <tr>\n",
       "      <th>release_date</th>\n",
       "      <td>1983-05-01</td>\n",
       "    </tr>\n",
       "    <tr>\n",
       "      <th>release_date_for_display</th>\n",
       "      <td>May 1, 1983</td>\n",
       "    </tr>\n",
       "    <tr>\n",
       "      <th>song_art_image_thumbnail_url</th>\n",
       "      <td>https://images.genius.com/b213883e0b31a7788959...</td>\n",
       "    </tr>\n",
       "    <tr>\n",
       "      <th>song_art_image_url</th>\n",
       "      <td>https://images.genius.com/b213883e0b31a7788959...</td>\n",
       "    </tr>\n",
       "    <tr>\n",
       "      <th>song_relationships</th>\n",
       "      <td>[{'relationship_type': 'samples', 'type': 'sam...</td>\n",
       "    </tr>\n",
       "    <tr>\n",
       "      <th>stats</th>\n",
       "      <td>{'accepted_annotations': 0, 'contributors': 7,...</td>\n",
       "    </tr>\n",
       "    <tr>\n",
       "      <th>title</th>\n",
       "      <td>5 8 6</td>\n",
       "    </tr>\n",
       "    <tr>\n",
       "      <th>title_with_featured</th>\n",
       "      <td>5 8 6</td>\n",
       "    </tr>\n",
       "    <tr>\n",
       "      <th>updated_by_human_at</th>\n",
       "      <td>1556364595</td>\n",
       "    </tr>\n",
       "    <tr>\n",
       "      <th>url</th>\n",
       "      <td>https://genius.com/New-order-5-8-6-lyrics</td>\n",
       "    </tr>\n",
       "    <tr>\n",
       "      <th>verified_annotations_by</th>\n",
       "      <td>[]</td>\n",
       "    </tr>\n",
       "    <tr>\n",
       "      <th>verified_contributors</th>\n",
       "      <td>[]</td>\n",
       "    </tr>\n",
       "    <tr>\n",
       "      <th>verified_lyrics_by</th>\n",
       "      <td>[]</td>\n",
       "    </tr>\n",
       "    <tr>\n",
       "      <th>writer_artists</th>\n",
       "      <td>[{'api_path': '/artists/37694', 'header_image_...</td>\n",
       "    </tr>\n",
       "  </tbody>\n",
       "</table>\n",
       "</div>"
      ],
      "text/plain": [
       "                                                                              0\n",
       "_type                                                                      song\n",
       "album                         {'api_path': '/albums/58486', 'cover_art_url':...\n",
       "annotation_count                                                              1\n",
       "api_path                                                          /songs/330886\n",
       "apple_music_id                                                       1040982145\n",
       "apple_music_player_url        https://genius.com/songs/330886/apple_music_pl...\n",
       "current_user_metadata         {'permissions': ['follow', 'pyong', 'add_commu...\n",
       "custom_performances                                                          []\n",
       "description                   {'plain': '5-8-6 sounds like a previous versio...\n",
       "description_annotation        {'_type': 'referent', 'annotator_id': 1600528,...\n",
       "embed_content                 <div id='rg_embed_link_330886' class='rg_embed...\n",
       "featured_artists                                                             []\n",
       "featured_video                                                            False\n",
       "full_title                                                   5 8 6 by New Order\n",
       "header_image_thumbnail_url    https://images.genius.com/b213883e0b31a7788959...\n",
       "header_image_url              https://images.genius.com/b213883e0b31a7788959...\n",
       "id                                                                       330886\n",
       "instrumental                                                              False\n",
       "lyrics                        I see danger, danger, danger\\nAll on the corne...\n",
       "lyrics_marked_complete_by                                                  None\n",
       "lyrics_owner_id                                                          288260\n",
       "lyrics_state                                                           complete\n",
       "lyrics_updated_at                                                    1556364595\n",
       "media                         [{'provider': 'youtube', 'start': 0, 'type': '...\n",
       "path                                                    /New-order-5-8-6-lyrics\n",
       "primary_artist                {'api_path': '/artists/37694', 'header_image_u...\n",
       "producer_artists              [{'api_path': '/artists/37694', 'header_image_...\n",
       "pyongs_count                                                                  2\n",
       "recording_location                                                         None\n",
       "release_date                                                         1983-05-01\n",
       "release_date_for_display                                            May 1, 1983\n",
       "song_art_image_thumbnail_url  https://images.genius.com/b213883e0b31a7788959...\n",
       "song_art_image_url            https://images.genius.com/b213883e0b31a7788959...\n",
       "song_relationships            [{'relationship_type': 'samples', 'type': 'sam...\n",
       "stats                         {'accepted_annotations': 0, 'contributors': 7,...\n",
       "title                                                                     5 8 6\n",
       "title_with_featured                                                       5 8 6\n",
       "updated_by_human_at                                                  1556364595\n",
       "url                                   https://genius.com/New-order-5-8-6-lyrics\n",
       "verified_annotations_by                                                      []\n",
       "verified_contributors                                                        []\n",
       "verified_lyrics_by                                                           []\n",
       "writer_artists                [{'api_path': '/artists/37694', 'header_image_..."
      ]
     },
     "execution_count": 8,
     "metadata": {},
     "output_type": "execute_result"
    }
   ],
   "source": [
    "Artist.head(44)"
   ]
  },
  {
   "cell_type": "code",
   "execution_count": 9,
   "metadata": {
    "ExecuteTime": {
     "end_time": "2020-03-02T17:55:11.862398Z",
     "start_time": "2020-03-02T17:55:11.826613Z"
    }
   },
   "outputs": [
    {
     "data": {
      "text/plain": [
       "<bound method Series.to_dict of _type                                                                        song\n",
       "album                           {'api_path': '/albums/58486', 'cover_art_url':...\n",
       "annotation_count                                                                1\n",
       "api_path                                                            /songs/330886\n",
       "apple_music_id                                                         1040982145\n",
       "apple_music_player_url          https://genius.com/songs/330886/apple_music_pl...\n",
       "current_user_metadata           {'permissions': ['follow', 'pyong', 'add_commu...\n",
       "custom_performances                                                            []\n",
       "description                     {'plain': '5-8-6 sounds like a previous versio...\n",
       "description_annotation          {'_type': 'referent', 'annotator_id': 1600528,...\n",
       "embed_content                   <div id='rg_embed_link_330886' class='rg_embed...\n",
       "featured_artists                                                               []\n",
       "featured_video                                                              False\n",
       "full_title                                                     5 8 6 by New Order\n",
       "header_image_thumbnail_url      https://images.genius.com/b213883e0b31a7788959...\n",
       "header_image_url                https://images.genius.com/b213883e0b31a7788959...\n",
       "id                                                                         330886\n",
       "instrumental                                                                False\n",
       "lyrics                          I see danger, danger, danger\\nAll on the corne...\n",
       "lyrics_marked_complete_by                                                    None\n",
       "lyrics_owner_id                                                            288260\n",
       "lyrics_state                                                             complete\n",
       "lyrics_updated_at                                                      1556364595\n",
       "media                           [{'provider': 'youtube', 'start': 0, 'type': '...\n",
       "path                                                      /New-order-5-8-6-lyrics\n",
       "primary_artist                  {'api_path': '/artists/37694', 'header_image_u...\n",
       "producer_artists                [{'api_path': '/artists/37694', 'header_image_...\n",
       "pyongs_count                                                                    2\n",
       "recording_location                                                           None\n",
       "release_date                                                           1983-05-01\n",
       "release_date_for_display                                              May 1, 1983\n",
       "song_art_image_thumbnail_url    https://images.genius.com/b213883e0b31a7788959...\n",
       "song_art_image_url              https://images.genius.com/b213883e0b31a7788959...\n",
       "song_relationships              [{'relationship_type': 'samples', 'type': 'sam...\n",
       "stats                           {'accepted_annotations': 0, 'contributors': 7,...\n",
       "title                                                                       5 8 6\n",
       "title_with_featured                                                         5 8 6\n",
       "updated_by_human_at                                                    1556364595\n",
       "url                                     https://genius.com/New-order-5-8-6-lyrics\n",
       "verified_annotations_by                                                        []\n",
       "verified_contributors                                                          []\n",
       "verified_lyrics_by                                                             []\n",
       "writer_artists                  [{'api_path': '/artists/37694', 'header_image_...\n",
       "Name: 0, dtype: object>"
      ]
     },
     "execution_count": 9,
     "metadata": {},
     "output_type": "execute_result"
    }
   ],
   "source": [
    "# Its the same thing as ^^, just as Series\n",
    "Artist[0].to_dict"
   ]
  },
  {
   "cell_type": "code",
   "execution_count": 10,
   "metadata": {
    "ExecuteTime": {
     "end_time": "2020-03-02T17:55:13.095812Z",
     "start_time": "2020-03-02T17:55:13.067832Z"
    }
   },
   "outputs": [
    {
     "data": {
      "text/plain": [
       "{'api_path': '/albums/58486',\n",
       " 'cover_art_url': 'https://images.genius.com/b213883e0b31a7788959a1e96b5dc942.1000x1000x1.jpg',\n",
       " 'full_title': 'Power, Corruption and Lies by New Order',\n",
       " 'id': 58486,\n",
       " 'name': 'Power, Corruption and Lies',\n",
       " 'url': 'https://genius.com/albums/New-order/Power-corruption-and-lies',\n",
       " 'artist': {'api_path': '/artists/37694',\n",
       "  'header_image_url': 'https://images.genius.com/657eda0d0992cb31a2c3851fe6263b93.1000x563x1.jpg',\n",
       "  'id': 37694,\n",
       "  'image_url': 'https://images.genius.com/76e41832f0bc61e5e535ebc80a6cd9c9.519x519x1.jpg',\n",
       "  'is_meme_verified': False,\n",
       "  'is_verified': False,\n",
       "  'name': 'New Order',\n",
       "  'url': 'https://genius.com/artists/New-order'}}"
      ]
     },
     "execution_count": 10,
     "metadata": {},
     "output_type": "execute_result"
    }
   ],
   "source": [
    "Artist[0][1]"
   ]
  },
  {
   "cell_type": "code",
   "execution_count": 11,
   "metadata": {
    "ExecuteTime": {
     "end_time": "2020-03-02T17:55:15.504617Z",
     "start_time": "2020-03-02T17:55:15.475113Z"
    }
   },
   "outputs": [],
   "source": [
    "#al_mkey = pd.Series(Artist[0]['album']['id'])\n",
    "al_reldate = pd.Series(Artist[0]['release_date_for_display'])\n",
    "\n",
    "from pandas.io.json import json_normalize\n",
    "al_album = json_normalize(Artist[0]['album'])"
   ]
  },
  {
   "cell_type": "code",
   "execution_count": 12,
   "metadata": {
    "ExecuteTime": {
     "end_time": "2020-03-02T17:55:18.747226Z",
     "start_time": "2020-03-02T17:55:18.708100Z"
    }
   },
   "outputs": [
    {
     "data": {
      "text/plain": [
       "pandas.core.series.Series"
      ]
     },
     "execution_count": 12,
     "metadata": {},
     "output_type": "execute_result"
    },
    {
     "data": {
      "text/html": [
       "<div>\n",
       "<style scoped>\n",
       "    .dataframe tbody tr th:only-of-type {\n",
       "        vertical-align: middle;\n",
       "    }\n",
       "\n",
       "    .dataframe tbody tr th {\n",
       "        vertical-align: top;\n",
       "    }\n",
       "\n",
       "    .dataframe thead th {\n",
       "        text-align: right;\n",
       "    }\n",
       "</style>\n",
       "<table border=\"1\" class=\"dataframe\">\n",
       "  <thead>\n",
       "    <tr style=\"text-align: right;\">\n",
       "      <th></th>\n",
       "      <th>release_date</th>\n",
       "    </tr>\n",
       "  </thead>\n",
       "  <tbody>\n",
       "    <tr>\n",
       "      <th>0</th>\n",
       "      <td>May 1, 1983</td>\n",
       "    </tr>\n",
       "  </tbody>\n",
       "</table>\n",
       "</div>"
      ],
      "text/plain": [
       "  release_date\n",
       "0  May 1, 1983"
      ]
     },
     "execution_count": 12,
     "metadata": {},
     "output_type": "execute_result"
    },
    {
     "data": {
      "text/html": [
       "<div>\n",
       "<style scoped>\n",
       "    .dataframe tbody tr th:only-of-type {\n",
       "        vertical-align: middle;\n",
       "    }\n",
       "\n",
       "    .dataframe tbody tr th {\n",
       "        vertical-align: top;\n",
       "    }\n",
       "\n",
       "    .dataframe thead th {\n",
       "        text-align: right;\n",
       "    }\n",
       "</style>\n",
       "<table border=\"1\" class=\"dataframe\">\n",
       "  <thead>\n",
       "    <tr style=\"text-align: right;\">\n",
       "      <th></th>\n",
       "      <th>api_path</th>\n",
       "      <th>cover_art_url</th>\n",
       "      <th>full_title</th>\n",
       "      <th>id</th>\n",
       "      <th>name</th>\n",
       "      <th>url</th>\n",
       "      <th>artist.api_path</th>\n",
       "      <th>artist.header_image_url</th>\n",
       "      <th>artist.id</th>\n",
       "      <th>artist.image_url</th>\n",
       "      <th>artist.is_meme_verified</th>\n",
       "      <th>artist.is_verified</th>\n",
       "      <th>artist.name</th>\n",
       "      <th>artist.url</th>\n",
       "    </tr>\n",
       "  </thead>\n",
       "  <tbody>\n",
       "    <tr>\n",
       "      <th>0</th>\n",
       "      <td>/albums/58486</td>\n",
       "      <td>https://images.genius.com/b213883e0b31a7788959...</td>\n",
       "      <td>Power, Corruption and Lies by New Order</td>\n",
       "      <td>58486</td>\n",
       "      <td>Power, Corruption and Lies</td>\n",
       "      <td>https://genius.com/albums/New-order/Power-corr...</td>\n",
       "      <td>/artists/37694</td>\n",
       "      <td>https://images.genius.com/657eda0d0992cb31a2c3...</td>\n",
       "      <td>37694</td>\n",
       "      <td>https://images.genius.com/76e41832f0bc61e5e535...</td>\n",
       "      <td>False</td>\n",
       "      <td>False</td>\n",
       "      <td>New Order</td>\n",
       "      <td>https://genius.com/artists/New-order</td>\n",
       "    </tr>\n",
       "  </tbody>\n",
       "</table>\n",
       "</div>"
      ],
      "text/plain": [
       "        api_path                                      cover_art_url  \\\n",
       "0  /albums/58486  https://images.genius.com/b213883e0b31a7788959...   \n",
       "\n",
       "                                full_title     id                        name  \\\n",
       "0  Power, Corruption and Lies by New Order  58486  Power, Corruption and Lies   \n",
       "\n",
       "                                                 url artist.api_path  \\\n",
       "0  https://genius.com/albums/New-order/Power-corr...  /artists/37694   \n",
       "\n",
       "                             artist.header_image_url  artist.id  \\\n",
       "0  https://images.genius.com/657eda0d0992cb31a2c3...      37694   \n",
       "\n",
       "                                    artist.image_url  artist.is_meme_verified  \\\n",
       "0  https://images.genius.com/76e41832f0bc61e5e535...                    False   \n",
       "\n",
       "   artist.is_verified artist.name                            artist.url  \n",
       "0               False   New Order  https://genius.com/artists/New-order  "
      ]
     },
     "execution_count": 12,
     "metadata": {},
     "output_type": "execute_result"
    }
   ],
   "source": [
    "#type(al_mkey)\n",
    "#al_mkey.to_frame('id')\n",
    "type(al_reldate)\n",
    "al_reldate.to_frame('release_date')\n",
    "al_album.head()"
   ]
  },
  {
   "cell_type": "code",
   "execution_count": 13,
   "metadata": {
    "ExecuteTime": {
     "end_time": "2020-03-02T17:55:19.386274Z",
     "start_time": "2020-03-02T17:55:19.355837Z"
    }
   },
   "outputs": [],
   "source": [
    "al_rec = pd.concat([#al_mkey.to_frame('id'), \n",
    "                    al_reldate.to_frame('release_date'), \n",
    "                    al_album] , axis=1, join='inner')"
   ]
  },
  {
   "cell_type": "code",
   "execution_count": 14,
   "metadata": {
    "ExecuteTime": {
     "end_time": "2020-03-02T17:55:20.377440Z",
     "start_time": "2020-03-02T17:55:20.339841Z"
    }
   },
   "outputs": [
    {
     "data": {
      "text/html": [
       "<div>\n",
       "<style scoped>\n",
       "    .dataframe tbody tr th:only-of-type {\n",
       "        vertical-align: middle;\n",
       "    }\n",
       "\n",
       "    .dataframe tbody tr th {\n",
       "        vertical-align: top;\n",
       "    }\n",
       "\n",
       "    .dataframe thead th {\n",
       "        text-align: right;\n",
       "    }\n",
       "</style>\n",
       "<table border=\"1\" class=\"dataframe\">\n",
       "  <thead>\n",
       "    <tr style=\"text-align: right;\">\n",
       "      <th></th>\n",
       "      <th>release_date</th>\n",
       "      <th>api_path</th>\n",
       "      <th>cover_art_url</th>\n",
       "      <th>full_title</th>\n",
       "      <th>id</th>\n",
       "      <th>name</th>\n",
       "      <th>url</th>\n",
       "      <th>artist.api_path</th>\n",
       "      <th>artist.header_image_url</th>\n",
       "      <th>artist.id</th>\n",
       "      <th>artist.image_url</th>\n",
       "      <th>artist.is_meme_verified</th>\n",
       "      <th>artist.is_verified</th>\n",
       "      <th>artist.name</th>\n",
       "      <th>artist.url</th>\n",
       "    </tr>\n",
       "  </thead>\n",
       "  <tbody>\n",
       "    <tr>\n",
       "      <th>0</th>\n",
       "      <td>May 1, 1983</td>\n",
       "      <td>/albums/58486</td>\n",
       "      <td>https://images.genius.com/b213883e0b31a7788959...</td>\n",
       "      <td>Power, Corruption and Lies by New Order</td>\n",
       "      <td>58486</td>\n",
       "      <td>Power, Corruption and Lies</td>\n",
       "      <td>https://genius.com/albums/New-order/Power-corr...</td>\n",
       "      <td>/artists/37694</td>\n",
       "      <td>https://images.genius.com/657eda0d0992cb31a2c3...</td>\n",
       "      <td>37694</td>\n",
       "      <td>https://images.genius.com/76e41832f0bc61e5e535...</td>\n",
       "      <td>False</td>\n",
       "      <td>False</td>\n",
       "      <td>New Order</td>\n",
       "      <td>https://genius.com/artists/New-order</td>\n",
       "    </tr>\n",
       "  </tbody>\n",
       "</table>\n",
       "</div>"
      ],
      "text/plain": [
       "  release_date       api_path  \\\n",
       "0  May 1, 1983  /albums/58486   \n",
       "\n",
       "                                       cover_art_url  \\\n",
       "0  https://images.genius.com/b213883e0b31a7788959...   \n",
       "\n",
       "                                full_title     id                        name  \\\n",
       "0  Power, Corruption and Lies by New Order  58486  Power, Corruption and Lies   \n",
       "\n",
       "                                                 url artist.api_path  \\\n",
       "0  https://genius.com/albums/New-order/Power-corr...  /artists/37694   \n",
       "\n",
       "                             artist.header_image_url  artist.id  \\\n",
       "0  https://images.genius.com/657eda0d0992cb31a2c3...      37694   \n",
       "\n",
       "                                    artist.image_url  artist.is_meme_verified  \\\n",
       "0  https://images.genius.com/76e41832f0bc61e5e535...                    False   \n",
       "\n",
       "   artist.is_verified artist.name                            artist.url  \n",
       "0               False   New Order  https://genius.com/artists/New-order  "
      ]
     },
     "execution_count": 14,
     "metadata": {},
     "output_type": "execute_result"
    }
   ],
   "source": [
    "al_rec.head()"
   ]
  },
  {
   "cell_type": "raw",
   "metadata": {
    "ExecuteTime": {
     "end_time": "2020-02-26T15:29:21.871256Z",
     "start_time": "2020-02-26T15:29:21.844039Z"
    }
   },
   "source": [
    "al_rec.set_index(\"id\", drop = True, inplace = True)"
   ]
  },
  {
   "cell_type": "raw",
   "metadata": {
    "ExecuteTime": {
     "end_time": "2020-02-26T15:29:22.417821Z",
     "start_time": "2020-02-26T15:29:22.348470Z"
    }
   },
   "source": [
    "al_rec.head()"
   ]
  },
  {
   "cell_type": "code",
   "execution_count": 15,
   "metadata": {
    "ExecuteTime": {
     "end_time": "2020-03-02T17:55:25.375870Z",
     "start_time": "2020-03-02T17:55:25.347082Z"
    }
   },
   "outputs": [],
   "source": [
    "al_rec.drop(['api_path', \n",
    "           #'full_title', \n",
    "           'artist.api_path', \n",
    "           'artist.header_image_url', \n",
    "           'artist.id', \n",
    "           'artist.image_url', \n",
    "           'artist.is_meme_verified',\n",
    "           'artist.is_verified'], inplace = True, axis = 1)"
   ]
  },
  {
   "cell_type": "code",
   "execution_count": 16,
   "metadata": {
    "ExecuteTime": {
     "end_time": "2020-03-02T17:55:26.387724Z",
     "start_time": "2020-03-02T17:55:26.355580Z"
    }
   },
   "outputs": [
    {
     "data": {
      "text/html": [
       "<div>\n",
       "<style scoped>\n",
       "    .dataframe tbody tr th:only-of-type {\n",
       "        vertical-align: middle;\n",
       "    }\n",
       "\n",
       "    .dataframe tbody tr th {\n",
       "        vertical-align: top;\n",
       "    }\n",
       "\n",
       "    .dataframe thead th {\n",
       "        text-align: right;\n",
       "    }\n",
       "</style>\n",
       "<table border=\"1\" class=\"dataframe\">\n",
       "  <thead>\n",
       "    <tr style=\"text-align: right;\">\n",
       "      <th></th>\n",
       "      <th>release_date</th>\n",
       "      <th>cover_art_url</th>\n",
       "      <th>full_title</th>\n",
       "      <th>id</th>\n",
       "      <th>name</th>\n",
       "      <th>url</th>\n",
       "      <th>artist.name</th>\n",
       "      <th>artist.url</th>\n",
       "    </tr>\n",
       "  </thead>\n",
       "  <tbody>\n",
       "    <tr>\n",
       "      <th>0</th>\n",
       "      <td>May 1, 1983</td>\n",
       "      <td>https://images.genius.com/b213883e0b31a7788959...</td>\n",
       "      <td>Power, Corruption and Lies by New Order</td>\n",
       "      <td>58486</td>\n",
       "      <td>Power, Corruption and Lies</td>\n",
       "      <td>https://genius.com/albums/New-order/Power-corr...</td>\n",
       "      <td>New Order</td>\n",
       "      <td>https://genius.com/artists/New-order</td>\n",
       "    </tr>\n",
       "  </tbody>\n",
       "</table>\n",
       "</div>"
      ],
      "text/plain": [
       "  release_date                                      cover_art_url  \\\n",
       "0  May 1, 1983  https://images.genius.com/b213883e0b31a7788959...   \n",
       "\n",
       "                                full_title     id                        name  \\\n",
       "0  Power, Corruption and Lies by New Order  58486  Power, Corruption and Lies   \n",
       "\n",
       "                                                 url artist.name  \\\n",
       "0  https://genius.com/albums/New-order/Power-corr...   New Order   \n",
       "\n",
       "                             artist.url  \n",
       "0  https://genius.com/artists/New-order  "
      ]
     },
     "execution_count": 16,
     "metadata": {},
     "output_type": "execute_result"
    }
   ],
   "source": [
    "al_rec.head()"
   ]
  },
  {
   "cell_type": "code",
   "execution_count": 17,
   "metadata": {
    "ExecuteTime": {
     "end_time": "2020-03-02T17:55:29.477822Z",
     "start_time": "2020-03-02T17:55:29.452136Z"
    }
   },
   "outputs": [],
   "source": [
    "al_rec.rename(columns=lambda x: x.replace('.', '_'), inplace=True)"
   ]
  },
  {
   "cell_type": "code",
   "execution_count": 18,
   "metadata": {
    "ExecuteTime": {
     "end_time": "2020-03-02T17:55:30.475751Z",
     "start_time": "2020-03-02T17:55:30.443666Z"
    }
   },
   "outputs": [
    {
     "data": {
      "text/html": [
       "<div>\n",
       "<style scoped>\n",
       "    .dataframe tbody tr th:only-of-type {\n",
       "        vertical-align: middle;\n",
       "    }\n",
       "\n",
       "    .dataframe tbody tr th {\n",
       "        vertical-align: top;\n",
       "    }\n",
       "\n",
       "    .dataframe thead th {\n",
       "        text-align: right;\n",
       "    }\n",
       "</style>\n",
       "<table border=\"1\" class=\"dataframe\">\n",
       "  <thead>\n",
       "    <tr style=\"text-align: right;\">\n",
       "      <th></th>\n",
       "      <th>release_date</th>\n",
       "      <th>cover_art_url</th>\n",
       "      <th>full_title</th>\n",
       "      <th>id</th>\n",
       "      <th>name</th>\n",
       "      <th>url</th>\n",
       "      <th>artist_name</th>\n",
       "      <th>artist_url</th>\n",
       "    </tr>\n",
       "  </thead>\n",
       "  <tbody>\n",
       "    <tr>\n",
       "      <th>0</th>\n",
       "      <td>May 1, 1983</td>\n",
       "      <td>https://images.genius.com/b213883e0b31a7788959...</td>\n",
       "      <td>Power, Corruption and Lies by New Order</td>\n",
       "      <td>58486</td>\n",
       "      <td>Power, Corruption and Lies</td>\n",
       "      <td>https://genius.com/albums/New-order/Power-corr...</td>\n",
       "      <td>New Order</td>\n",
       "      <td>https://genius.com/artists/New-order</td>\n",
       "    </tr>\n",
       "  </tbody>\n",
       "</table>\n",
       "</div>"
      ],
      "text/plain": [
       "  release_date                                      cover_art_url  \\\n",
       "0  May 1, 1983  https://images.genius.com/b213883e0b31a7788959...   \n",
       "\n",
       "                                full_title     id                        name  \\\n",
       "0  Power, Corruption and Lies by New Order  58486  Power, Corruption and Lies   \n",
       "\n",
       "                                                 url artist_name  \\\n",
       "0  https://genius.com/albums/New-order/Power-corr...   New Order   \n",
       "\n",
       "                             artist_url  \n",
       "0  https://genius.com/artists/New-order  "
      ]
     },
     "execution_count": 18,
     "metadata": {},
     "output_type": "execute_result"
    }
   ],
   "source": [
    "al_rec.head()"
   ]
  },
  {
   "cell_type": "code",
   "execution_count": 19,
   "metadata": {
    "ExecuteTime": {
     "end_time": "2020-03-02T17:55:31.269206Z",
     "start_time": "2020-03-02T17:55:31.243069Z"
    }
   },
   "outputs": [
    {
     "data": {
      "text/plain": [
       "0    58486\n",
       "Name: id, dtype: int64"
      ]
     },
     "execution_count": 19,
     "metadata": {},
     "output_type": "execute_result"
    }
   ],
   "source": [
    "al_rec[\"id\"]"
   ]
  },
  {
   "cell_type": "code",
   "execution_count": 20,
   "metadata": {
    "ExecuteTime": {
     "end_time": "2020-03-02T17:55:32.940831Z",
     "start_time": "2020-03-02T17:55:32.914970Z"
    }
   },
   "outputs": [],
   "source": [
    "al_rec.set_index(\"id\", drop = True, inplace = True)"
   ]
  },
  {
   "cell_type": "code",
   "execution_count": 21,
   "metadata": {
    "ExecuteTime": {
     "end_time": "2020-03-02T17:55:33.739506Z",
     "start_time": "2020-03-02T17:55:33.707252Z"
    }
   },
   "outputs": [
    {
     "data": {
      "text/html": [
       "<div>\n",
       "<style scoped>\n",
       "    .dataframe tbody tr th:only-of-type {\n",
       "        vertical-align: middle;\n",
       "    }\n",
       "\n",
       "    .dataframe tbody tr th {\n",
       "        vertical-align: top;\n",
       "    }\n",
       "\n",
       "    .dataframe thead th {\n",
       "        text-align: right;\n",
       "    }\n",
       "</style>\n",
       "<table border=\"1\" class=\"dataframe\">\n",
       "  <thead>\n",
       "    <tr style=\"text-align: right;\">\n",
       "      <th></th>\n",
       "      <th>release_date</th>\n",
       "      <th>cover_art_url</th>\n",
       "      <th>full_title</th>\n",
       "      <th>name</th>\n",
       "      <th>url</th>\n",
       "      <th>artist_name</th>\n",
       "      <th>artist_url</th>\n",
       "    </tr>\n",
       "    <tr>\n",
       "      <th>id</th>\n",
       "      <th></th>\n",
       "      <th></th>\n",
       "      <th></th>\n",
       "      <th></th>\n",
       "      <th></th>\n",
       "      <th></th>\n",
       "      <th></th>\n",
       "    </tr>\n",
       "  </thead>\n",
       "  <tbody>\n",
       "    <tr>\n",
       "      <th>58486</th>\n",
       "      <td>May 1, 1983</td>\n",
       "      <td>https://images.genius.com/b213883e0b31a7788959...</td>\n",
       "      <td>Power, Corruption and Lies by New Order</td>\n",
       "      <td>Power, Corruption and Lies</td>\n",
       "      <td>https://genius.com/albums/New-order/Power-corr...</td>\n",
       "      <td>New Order</td>\n",
       "      <td>https://genius.com/artists/New-order</td>\n",
       "    </tr>\n",
       "  </tbody>\n",
       "</table>\n",
       "</div>"
      ],
      "text/plain": [
       "      release_date                                      cover_art_url  \\\n",
       "id                                                                      \n",
       "58486  May 1, 1983  https://images.genius.com/b213883e0b31a7788959...   \n",
       "\n",
       "                                    full_title                        name  \\\n",
       "id                                                                           \n",
       "58486  Power, Corruption and Lies by New Order  Power, Corruption and Lies   \n",
       "\n",
       "                                                     url artist_name  \\\n",
       "id                                                                     \n",
       "58486  https://genius.com/albums/New-order/Power-corr...   New Order   \n",
       "\n",
       "                                 artist_url  \n",
       "id                                           \n",
       "58486  https://genius.com/artists/New-order  "
      ]
     },
     "execution_count": 21,
     "metadata": {},
     "output_type": "execute_result"
    }
   ],
   "source": [
    "al_rec.head()"
   ]
  },
  {
   "cell_type": "code",
   "execution_count": 22,
   "metadata": {
    "ExecuteTime": {
     "end_time": "2020-03-02T17:55:34.709801Z",
     "start_time": "2020-03-02T17:55:34.682917Z"
    }
   },
   "outputs": [
    {
     "data": {
      "text/plain": [
       "pandas.core.frame.DataFrame"
      ]
     },
     "execution_count": 22,
     "metadata": {},
     "output_type": "execute_result"
    },
    {
     "data": {
      "text/plain": [
       "(1, 7)"
      ]
     },
     "execution_count": 22,
     "metadata": {},
     "output_type": "execute_result"
    }
   ],
   "source": [
    "type(al_rec)\n",
    "al_rec.shape"
   ]
  },
  {
   "cell_type": "markdown",
   "metadata": {},
   "source": [
    "---\n",
    "### Get Header Record From Each Selected Album in Genius-derived API JSONs\n",
    "- Begin with a scan of the JSON file repository (directory) and extract the header record for each album.\n",
    "- This data will be loaded into the main SQLite table."
   ]
  },
  {
   "cell_type": "code",
   "execution_count": 13,
   "metadata": {
    "ExecuteTime": {
     "end_time": "2020-02-29T16:06:26.616342Z",
     "start_time": "2020-02-29T16:06:26.586594Z"
    }
   },
   "outputs": [],
   "source": [
    "#import os\n",
    "json_al = []\n",
    "with os.scandir(prj_home_data_dir) as i:\n",
    "    for entry in i:\n",
    "        if entry.is_file():\n",
    "            if entry.name.endswith('_1.json'):\n",
    "                json_al.append(entry.name)"
   ]
  },
  {
   "cell_type": "code",
   "execution_count": 14,
   "metadata": {
    "ExecuteTime": {
     "end_time": "2020-02-29T16:06:32.104478Z",
     "start_time": "2020-02-29T16:06:32.076707Z"
    }
   },
   "outputs": [
    {
     "data": {
      "text/plain": [
       "['Brotherhood_1.json',\n",
       " 'Technique_1.json',\n",
       " 'LostSirens_1.json',\n",
       " 'PowerCorruptionLies_1.json',\n",
       " 'WaitingForTheSirensCall_1.json',\n",
       " 'UnknownPleasures_1.json',\n",
       " 'GetReady_1.json',\n",
       " 'Republic_1.json',\n",
       " 'Closer_1.json',\n",
       " 'LowLife_1.json',\n",
       " 'Movement_1.json']"
      ]
     },
     "execution_count": 14,
     "metadata": {},
     "output_type": "execute_result"
    }
   ],
   "source": [
    "json_al"
   ]
  },
  {
   "cell_type": "code",
   "execution_count": 15,
   "metadata": {
    "ExecuteTime": {
     "end_time": "2020-02-29T16:17:10.790210Z",
     "start_time": "2020-02-29T16:17:10.648193Z"
    }
   },
   "outputs": [
    {
     "name": "stdout",
     "output_type": "stream",
     "text": [
      "Now reading in album: Brotherhood_1.json\n",
      "Now reading in album: Technique_1.json\n",
      "Now reading in album: LostSirens_1.json\n",
      "Now reading in album: PowerCorruptionLies_1.json\n",
      "Now reading in album: WaitingForTheSirensCall_1.json\n",
      "Now reading in album: UnknownPleasures_1.json\n",
      "Now reading in album: GetReady_1.json\n",
      "Now reading in album: Republic_1.json\n",
      "Now reading in album: Closer_1.json\n",
      "Now reading in album: LowLife_1.json\n",
      "Now reading in album: Movement_1.json\n"
     ]
    }
   ],
   "source": [
    "from pandas.io.json import json_normalize\n",
    "\n",
    "for i in json_al: \n",
    "    print(f\"Now reading in album: {i}\")\n",
    "    # Load\n",
    "    Artist = pd.read_json(os.path.join(prj_home_data_dir, i), orient='index')\n",
    "\n",
    "    al_reldate = pd.Series(Artist[0]['release_date_for_display'])\n",
    "    al_album = json_normalize(Artist[0]['album'])\n",
    "    \n",
    "    al_rec = pd.concat([#al_mkey.to_frame('id'), \n",
    "                        al_reldate.to_frame('release_date'), \n",
    "                        al_album] , axis=1, join='inner')\n",
    "    \n",
    "    al_rec.set_index(\"id\", drop = True, inplace = True)    \n",
    "\n",
    "    al_rec.drop(['api_path', \n",
    "               #'full_title', \n",
    "               'artist.api_path', \n",
    "               'artist.header_image_url', \n",
    "               'artist.id', \n",
    "               'artist.image_url', \n",
    "               'artist.is_meme_verified',\n",
    "               'artist.is_verified'], inplace = True, axis = 1)    \n",
    "\n",
    "    al_rec.rename(columns=lambda x: x.replace('.', '_'), inplace=True)    \n",
    "    \n",
    "    prj_home_output_csv = os.path.join(prj_home_output_dir, 'no.csv')\n",
    "    al_rec.to_csv(prj_home_output_csv, mode='a', sep='\\t', encoding='utf-8', index=True, header=False)"
   ]
  },
  {
   "cell_type": "markdown",
   "metadata": {},
   "source": [
    "---\n",
    "### Get Song Lyrics From Each Selected Album in Genius-derived JSONs\n",
    "- Similar to above, but now get the song lyrics for each song in each album.\n",
    "- This data will be loaded into the child SQLite table."
   ]
  },
  {
   "cell_type": "code",
   "execution_count": 7,
   "metadata": {
    "ExecuteTime": {
     "end_time": "2020-02-29T15:57:18.303698Z",
     "start_time": "2020-02-29T15:57:18.275568Z"
    }
   },
   "outputs": [],
   "source": [
    "#import os\n",
    "json_fi = []\n",
    "with os.scandir(prj_home_data_dir) as i:\n",
    "    for entry in i:\n",
    "        if entry.is_file():\n",
    "            if entry.name.endswith('.json'):\n",
    "                json_fi.append(entry.name)"
   ]
  },
  {
   "cell_type": "code",
   "execution_count": 8,
   "metadata": {
    "ExecuteTime": {
     "end_time": "2020-02-29T15:57:19.071592Z",
     "start_time": "2020-02-29T15:57:19.039270Z"
    }
   },
   "outputs": [
    {
     "data": {
      "text/plain": [
       "['Closer_9.json',\n",
       " 'Brotherhood_1.json',\n",
       " 'LowLife_3.json',\n",
       " 'Technique_1.json',\n",
       " 'GetReady_6.json',\n",
       " 'WaitingForTheSirensCall_7.json',\n",
       " 'Closer_5.json',\n",
       " 'Republic_6.json',\n",
       " 'Movement_3.json',\n",
       " 'UnknownPleasures_7.json',\n",
       " 'GetReady_10.json',\n",
       " 'UnknownPleasures_6.json',\n",
       " 'Movement_2.json',\n",
       " 'Republic_7.json',\n",
       " 'LostSirens_1.json',\n",
       " 'Closer_4.json',\n",
       " 'WaitingForTheSirensCall_6.json',\n",
       " 'GetReady_7.json',\n",
       " 'PowerCorruptionLies_1.json',\n",
       " 'LowLife_2.json',\n",
       " 'Closer_8.json',\n",
       " 'WaitingForTheSirensCall_1.json',\n",
       " 'Closer_3.json',\n",
       " 'LostSirens_6.json',\n",
       " 'Movement_5.json',\n",
       " 'UnknownPleasures_1.json',\n",
       " 'Republic_10.json',\n",
       " 'Brotherhood_7.json',\n",
       " 'Technique_7.json',\n",
       " 'LowLife_5.json',\n",
       " 'PowerCorruptionLies_6.json',\n",
       " 'GetReady_1.json',\n",
       " 'PowerCorruptionLies_7.json',\n",
       " 'Technique_6.json',\n",
       " 'LowLife_4.json',\n",
       " 'Brotherhood_6.json',\n",
       " 'Republic_11.json',\n",
       " 'LowLife_8.json',\n",
       " 'Movement_4.json',\n",
       " 'LostSirens_7.json',\n",
       " 'Republic_1.json',\n",
       " 'Closer_2.json',\n",
       " 'PowerCorruptionLies_8.json',\n",
       " 'UnknownPleasures_3.json',\n",
       " 'Technique_9.json',\n",
       " 'Movement_7.json',\n",
       " 'LostSirens_4.json',\n",
       " 'Republic_2.json',\n",
       " 'Closer_1.json',\n",
       " 'Brotherhood_9.json',\n",
       " 'WaitingForTheSirensCall_3.json',\n",
       " 'GetReady_2.json',\n",
       " 'PowerCorruptionLies_4.json',\n",
       " 'LowLife_7.json',\n",
       " 'Technique_5.json',\n",
       " 'Brotherhood_5.json',\n",
       " 'Brotherhood_4.json',\n",
       " 'LowLife_6.json',\n",
       " 'Technique_4.json',\n",
       " 'PowerCorruptionLies_5.json',\n",
       " 'GetReady_3.json',\n",
       " 'WaitingForTheSirensCall_2.json',\n",
       " 'Brotherhood_8.json',\n",
       " 'LostSirens_5.json',\n",
       " 'UnknownPleasures_10.json',\n",
       " 'Republic_3.json',\n",
       " 'Movement_6.json',\n",
       " 'Technique_8.json',\n",
       " 'UnknownPleasures_2.json',\n",
       " 'GetReady_4.json',\n",
       " 'PowerCorruptionLies_2.json',\n",
       " 'UnknownPleasures_9.json',\n",
       " 'Technique_3.json',\n",
       " 'LowLife_1.json',\n",
       " 'Republic_8.json',\n",
       " 'Brotherhood_3.json',\n",
       " 'WaitingForTheSirensCall_9.json',\n",
       " 'WaitingForTheSirensCall_10.json',\n",
       " 'GetReady_8.json',\n",
       " 'UnknownPleasures_5.json',\n",
       " 'Movement_1.json',\n",
       " 'Republic_4.json',\n",
       " 'LostSirens_2.json',\n",
       " 'Closer_7.json',\n",
       " 'WaitingForTheSirensCall_5.json',\n",
       " 'WaitingForTheSirensCall_4.json',\n",
       " 'Closer_6.json',\n",
       " 'Republic_5.json',\n",
       " 'LostSirens_3.json',\n",
       " 'UnknownPleasures_4.json',\n",
       " 'WaitingForTheSirensCall_11.json',\n",
       " 'GetReady_9.json',\n",
       " 'WaitingForTheSirensCall_8.json',\n",
       " 'Brotherhood_2.json',\n",
       " 'Republic_9.json',\n",
       " 'Technique_2.json',\n",
       " 'PowerCorruptionLies_3.json',\n",
       " 'UnknownPleasures_8.json',\n",
       " 'GetReady_5.json']"
      ]
     },
     "execution_count": 8,
     "metadata": {},
     "output_type": "execute_result"
    }
   ],
   "source": [
    "json_fi"
   ]
  },
  {
   "cell_type": "code",
   "execution_count": 12,
   "metadata": {
    "ExecuteTime": {
     "end_time": "2020-02-29T16:00:37.586709Z",
     "start_time": "2020-02-29T16:00:36.413786Z"
    }
   },
   "outputs": [
    {
     "name": "stdout",
     "output_type": "stream",
     "text": [
      "Now reading in song: Closer_9.json\n",
      "Now reading in song: Brotherhood_1.json\n",
      "Now reading in song: LowLife_3.json\n",
      "Now reading in song: Technique_1.json\n",
      "Now reading in song: GetReady_6.json\n",
      "Now reading in song: WaitingForTheSirensCall_7.json\n",
      "Now reading in song: Closer_5.json\n",
      "Now reading in song: Republic_6.json\n",
      "Now reading in song: Movement_3.json\n",
      "Now reading in song: UnknownPleasures_7.json\n",
      "Now reading in song: GetReady_10.json\n",
      "Now reading in song: UnknownPleasures_6.json\n",
      "Now reading in song: Movement_2.json\n",
      "Now reading in song: Republic_7.json\n",
      "Now reading in song: LostSirens_1.json\n",
      "Now reading in song: Closer_4.json\n",
      "Now reading in song: WaitingForTheSirensCall_6.json\n",
      "Now reading in song: GetReady_7.json\n",
      "Now reading in song: PowerCorruptionLies_1.json\n",
      "Now reading in song: LowLife_2.json\n",
      "Now reading in song: Closer_8.json\n",
      "Now reading in song: WaitingForTheSirensCall_1.json\n",
      "Now reading in song: Closer_3.json\n",
      "Now reading in song: LostSirens_6.json\n",
      "Now reading in song: Movement_5.json\n",
      "Now reading in song: UnknownPleasures_1.json\n",
      "Now reading in song: Republic_10.json\n",
      "Now reading in song: Brotherhood_7.json\n",
      "Now reading in song: Technique_7.json\n",
      "Now reading in song: LowLife_5.json\n",
      "Now reading in song: PowerCorruptionLies_6.json\n",
      "Now reading in song: GetReady_1.json\n",
      "Now reading in song: PowerCorruptionLies_7.json\n",
      "Now reading in song: Technique_6.json\n",
      "Now reading in song: LowLife_4.json\n",
      "Now reading in song: Brotherhood_6.json\n",
      "Now reading in song: Republic_11.json\n",
      "Now reading in song: LowLife_8.json\n",
      "Now reading in song: Movement_4.json\n",
      "Now reading in song: LostSirens_7.json\n",
      "Now reading in song: Republic_1.json\n",
      "Now reading in song: Closer_2.json\n",
      "Now reading in song: PowerCorruptionLies_8.json\n",
      "Now reading in song: UnknownPleasures_3.json\n",
      "Now reading in song: Technique_9.json\n",
      "Now reading in song: Movement_7.json\n",
      "Now reading in song: LostSirens_4.json\n",
      "Now reading in song: Republic_2.json\n",
      "Now reading in song: Closer_1.json\n",
      "Now reading in song: Brotherhood_9.json\n",
      "Now reading in song: WaitingForTheSirensCall_3.json\n",
      "Now reading in song: GetReady_2.json\n",
      "Now reading in song: PowerCorruptionLies_4.json\n",
      "Now reading in song: LowLife_7.json\n",
      "Now reading in song: Technique_5.json\n",
      "Now reading in song: Brotherhood_5.json\n",
      "Now reading in song: Brotherhood_4.json\n",
      "Now reading in song: LowLife_6.json\n",
      "Now reading in song: Technique_4.json\n",
      "Now reading in song: PowerCorruptionLies_5.json\n",
      "Now reading in song: GetReady_3.json\n",
      "Now reading in song: WaitingForTheSirensCall_2.json\n",
      "Now reading in song: Brotherhood_8.json\n",
      "Now reading in song: LostSirens_5.json\n",
      "Now reading in song: UnknownPleasures_10.json\n",
      "Now reading in song: Republic_3.json\n",
      "Now reading in song: Movement_6.json\n",
      "Now reading in song: Technique_8.json\n",
      "Now reading in song: UnknownPleasures_2.json\n",
      "Now reading in song: GetReady_4.json\n",
      "Now reading in song: PowerCorruptionLies_2.json\n",
      "Now reading in song: UnknownPleasures_9.json\n",
      "Now reading in song: Technique_3.json\n",
      "Now reading in song: LowLife_1.json\n",
      "Now reading in song: Republic_8.json\n",
      "Now reading in song: Brotherhood_3.json\n",
      "Now reading in song: WaitingForTheSirensCall_9.json\n",
      "Now reading in song: WaitingForTheSirensCall_10.json\n",
      "Now reading in song: GetReady_8.json\n",
      "Now reading in song: UnknownPleasures_5.json\n",
      "Now reading in song: Movement_1.json\n",
      "Now reading in song: Republic_4.json\n",
      "Now reading in song: LostSirens_2.json\n",
      "Now reading in song: Closer_7.json\n",
      "Now reading in song: WaitingForTheSirensCall_5.json\n",
      "Now reading in song: WaitingForTheSirensCall_4.json\n",
      "Now reading in song: Closer_6.json\n",
      "Now reading in song: Republic_5.json\n",
      "Now reading in song: LostSirens_3.json\n",
      "Now reading in song: UnknownPleasures_4.json\n",
      "Now reading in song: WaitingForTheSirensCall_11.json\n",
      "Now reading in song: GetReady_9.json\n",
      "Now reading in song: WaitingForTheSirensCall_8.json\n",
      "Now reading in song: Brotherhood_2.json\n",
      "Now reading in song: Republic_9.json\n",
      "Now reading in song: Technique_2.json\n",
      "Now reading in song: PowerCorruptionLies_3.json\n",
      "Now reading in song: UnknownPleasures_8.json\n",
      "Now reading in song: GetReady_5.json\n"
     ]
    }
   ],
   "source": [
    "from pandas.io.json import json_normalize\n",
    "\n",
    "# for i in json_fi[:1] (szf) Testing!\n",
    "for i in json_fi: \n",
    "    print(f\"Now reading in song: {i}\")\n",
    "    # Load\n",
    "    Artist = pd.read_json(os.path.join(prj_home_data_dir, i), orient='index')\n",
    "      \n",
    "    # Collect data\n",
    "    al_mkey = pd.Series(Artist[0]['album']['id'])  \n",
    "    song_id = pd.Series(Artist[0]['id']) #, index=['id'])\n",
    "    song_title = pd.Series(Artist[0]['title']) #, index=['song_title'])\n",
    "    song_lyrics = pd.Series(Artist[0]['lyrics']) #, index=['song_lyrics'])\n",
    "    #key_desc, val_desc = list(Artist[0]['description'].items())[0]\n",
    "    song_desc = pd.Series(val_desc) #, index=['song_desc'])\n",
    "    \n",
    "    # build DataFrame\n",
    "    song_rec = pd.concat([al_mkey.to_frame('fk_id'), song_id, song_title, song_lyrics, song_desc], axis=1, join='inner')\n",
    "    # set Index\n",
    "    song_rec.set_index(\"fk_id\", drop = True, inplace = True)\n",
    "    # make proper column names\n",
    "    song_rec.rename(columns={0:'song_id', 1:'song_title', 2:'song_lyrics', 3:'song_desc'}, inplace=True)\n",
    "    \n",
    "    prj_home_output_csv = os.path.join(prj_home_output_dir, 'lyrics.csv')\n",
    "    song_rec.to_csv(prj_home_output_csv, mode='a', sep='\\t', encoding='utf-8', index=True, header=False)"
   ]
  }
 ],
 "metadata": {
  "kernelspec": {
   "display_name": "Python [conda env:dsi] *",
   "language": "python",
   "name": "conda-env-dsi-py"
  },
  "language_info": {
   "codemirror_mode": {
    "name": "ipython",
    "version": 3
   },
   "file_extension": ".py",
   "mimetype": "text/x-python",
   "name": "python",
   "nbconvert_exporter": "python",
   "pygments_lexer": "ipython3",
   "version": "3.7.3"
  }
 },
 "nbformat": 4,
 "nbformat_minor": 2
}
