{
 "cells": [
  {
   "cell_type": "markdown",
   "metadata": {},
   "source": [
    "# Analysis of the Lyrics of Joy Division & New Order 1979-2013\n",
    "- TKTKTK"
   ]
  },
  {
   "cell_type": "markdown",
   "metadata": {},
   "source": [
    "![](../content/images/table_albums_static.png)"
   ]
  },
  {
   "cell_type": "markdown",
   "metadata": {},
   "source": [
    "### Imports\n",
    "- These are general imports only.\n",
    "- Libraries needed for specialized sections will call in the necessary import at the top notebook cell in that section."
   ]
  },
  {
   "cell_type": "code",
   "execution_count": 1,
   "metadata": {
    "ExecuteTime": {
     "end_time": "2020-03-12T02:49:18.026593Z",
     "start_time": "2020-03-12T02:49:16.686494Z"
    }
   },
   "outputs": [],
   "source": [
    "# Data access\n",
    "import sqlite3\n",
    "\n",
    "# Data manipulation\n",
    "import pandas as pd\n",
    "import numpy as np\n",
    "\n",
    "# ... and regex\n",
    "import regex as re\n",
    "\n",
    "# Options for pandas\n",
    "pd.options.display.max_columns = 50\n",
    "pd.options.display.max_rows = 50\n",
    "\n",
    "# Display all cell outputs\n",
    "from IPython.core.interactiveshell import InteractiveShell\n",
    "InteractiveShell.ast_node_interactivity = 'all'\n",
    "\n",
    "from IPython import get_ipython\n",
    "ipython = get_ipython()\n",
    "\n",
    "# autoreload extension\n",
    "if 'autoreload' not in ipython.extension_manager.loaded:\n",
    "    %load_ext autoreload\n",
    "\n",
    "%autoreload 2\n",
    "\n",
    "# Visualizations\n",
    "import seaborn as sns\n",
    "import matplotlib.pyplot as plt\n",
    "\n",
    "# Prevent future/deprecation warnings from showing in output\n",
    "import warnings\n",
    "warnings.filterwarnings(action='ignore')"
   ]
  },
  {
   "cell_type": "markdown",
   "metadata": {},
   "source": [
    "### Connect to Song Data"
   ]
  },
  {
   "cell_type": "code",
   "execution_count": 2,
   "metadata": {
    "ExecuteTime": {
     "end_time": "2020-03-12T02:49:19.387159Z",
     "start_time": "2020-03-12T02:49:19.362168Z"
    }
   },
   "outputs": [],
   "source": [
    "conn = sqlite3.connect('../lyrics/data/no.sqlite')\n",
    "query = \"SELECT * FROM no O INNER JOIN no_songs S on S.fk_id = O.id ORDER BY id;\""
   ]
  },
  {
   "cell_type": "code",
   "execution_count": 3,
   "metadata": {
    "ExecuteTime": {
     "end_time": "2020-03-12T02:49:24.931631Z",
     "start_time": "2020-03-12T02:49:24.807720Z"
    }
   },
   "outputs": [],
   "source": [
    "df = pd.read_sql_query(query, conn)"
   ]
  },
  {
   "cell_type": "markdown",
   "metadata": {},
   "source": [
    "### Perform DataFrame Munging/Data Manipulation"
   ]
  },
  {
   "cell_type": "code",
   "execution_count": 4,
   "metadata": {
    "ExecuteTime": {
     "end_time": "2020-03-12T02:49:27.166466Z",
     "start_time": "2020-03-12T02:49:27.134860Z"
    }
   },
   "outputs": [],
   "source": [
    "# Drop bracketed terms - E.g. [Verse n]; [Intro]; [Outro]; [Hook]\n",
    "df.replace(to_replace=[r\"\\[\\w*.?.\\]\"], value=[\" \"], regex = True, inplace = True)"
   ]
  },
  {
   "cell_type": "code",
   "execution_count": 5,
   "metadata": {
    "ExecuteTime": {
     "end_time": "2020-03-12T02:49:28.797685Z",
     "start_time": "2020-03-12T02:49:28.769214Z"
    }
   },
   "outputs": [],
   "source": [
    "# Split lyrics data into 1 row per lyrics line\n",
    "def proc_col_split(df, col):\n",
    "    colc = df[col].str.split('\\n')\n",
    "    clst = colc.values.tolist()\n",
    "    lens = [len(l) for l in clst]\n",
    "\n",
    "    cdf = pd.DataFrame({col: np.concatenate(clst)}, df.index.repeat(lens))\n",
    "    return df.drop(col, 1).join(cdf).reset_index(drop=True)\n",
    "\n",
    "# Credit: [Python - How to split cell in a column to a new row…](http://bit.ly/2x6JE2K)"
   ]
  },
  {
   "cell_type": "code",
   "execution_count": 6,
   "metadata": {
    "ExecuteTime": {
     "end_time": "2020-03-12T02:49:30.493292Z",
     "start_time": "2020-03-12T02:49:30.455144Z"
    }
   },
   "outputs": [],
   "source": [
    "df_tmp = proc_col_split(df, 'song_lyrics')"
   ]
  },
  {
   "cell_type": "code",
   "execution_count": 7,
   "metadata": {
    "ExecuteTime": {
     "end_time": "2020-03-12T02:49:32.350386Z",
     "start_time": "2020-03-12T02:49:32.321984Z"
    }
   },
   "outputs": [],
   "source": [
    "# Needed Fix: \n",
    "# Return index position of empty `song_lyrics` rows caused by the split\n",
    "indexNames = df_tmp[df_tmp.song_lyrics == ' '].index\n",
    "\n",
    "# Delete by row indexes from DataFrame\n",
    "df_tmp.drop(indexNames , inplace = True)"
   ]
  },
  {
   "cell_type": "code",
   "execution_count": 8,
   "metadata": {
    "ExecuteTime": {
     "end_time": "2020-03-12T02:49:35.966581Z",
     "start_time": "2020-03-12T02:49:34.775602Z"
    }
   },
   "outputs": [],
   "source": [
    "# Create some metrics\n",
    "word_counts = []\n",
    "unique_word_counts = []\n",
    "for i in range (0, df_tmp.shape[0]):\n",
    "    word_counts.append(len(df_tmp.iloc[i]['song_lyrics'].split()))\n",
    "    unique_word_counts.append(len(set(df_tmp.iloc[i]['song_lyrics'].split())))\n",
    "df_tmp['song_lyric_len'] = word_counts\n",
    "df_tmp['song_lyric_unq'] = unique_word_counts"
   ]
  },
  {
   "cell_type": "code",
   "execution_count": 9,
   "metadata": {
    "ExecuteTime": {
     "end_time": "2020-03-12T02:49:37.835168Z",
     "start_time": "2020-03-12T02:49:37.790149Z"
    }
   },
   "outputs": [
    {
     "data": {
      "text/html": [
       "<div>\n",
       "<style scoped>\n",
       "    .dataframe tbody tr th:only-of-type {\n",
       "        vertical-align: middle;\n",
       "    }\n",
       "\n",
       "    .dataframe tbody tr th {\n",
       "        vertical-align: top;\n",
       "    }\n",
       "\n",
       "    .dataframe thead th {\n",
       "        text-align: right;\n",
       "    }\n",
       "</style>\n",
       "<table border=\"1\" class=\"dataframe\">\n",
       "  <thead>\n",
       "    <tr style=\"text-align: right;\">\n",
       "      <th></th>\n",
       "      <th>id</th>\n",
       "      <th>artist_name</th>\n",
       "      <th>name</th>\n",
       "      <th>full_title</th>\n",
       "      <th>cover_art_url</th>\n",
       "      <th>release_date</th>\n",
       "      <th>artist_url</th>\n",
       "      <th>url</th>\n",
       "      <th>fk_id</th>\n",
       "      <th>song_id</th>\n",
       "      <th>song_title</th>\n",
       "      <th>song_desc</th>\n",
       "      <th>song_lyrics</th>\n",
       "      <th>song_lyric_len</th>\n",
       "      <th>song_lyric_unq</th>\n",
       "    </tr>\n",
       "  </thead>\n",
       "  <tbody>\n",
       "    <tr>\n",
       "      <th>6</th>\n",
       "      <td>27143</td>\n",
       "      <td>Joy Division</td>\n",
       "      <td>Unknown Pleasures</td>\n",
       "      <td>Unknown Pleasures by Joy Division</td>\n",
       "      <td>https://images.genius.com/7f3937bd3ecb4d980757...</td>\n",
       "      <td>June 15, 1979</td>\n",
       "      <td>https://genius.com/artists/Joy-division</td>\n",
       "      <td>https://genius.com/albums/Joy-division/Unknown...</td>\n",
       "      <td>27143</td>\n",
       "      <td>111130</td>\n",
       "      <td>Disorder</td>\n",
       "      <td>“Disorder” kicks things off with drummer Steph...</td>\n",
       "      <td>Leave them for another day</td>\n",
       "      <td>5</td>\n",
       "      <td>5</td>\n",
       "    </tr>\n",
       "    <tr>\n",
       "      <th>7</th>\n",
       "      <td>27143</td>\n",
       "      <td>Joy Division</td>\n",
       "      <td>Unknown Pleasures</td>\n",
       "      <td>Unknown Pleasures by Joy Division</td>\n",
       "      <td>https://images.genius.com/7f3937bd3ecb4d980757...</td>\n",
       "      <td>June 15, 1979</td>\n",
       "      <td>https://genius.com/artists/Joy-division</td>\n",
       "      <td>https://genius.com/albums/Joy-division/Unknown...</td>\n",
       "      <td>27143</td>\n",
       "      <td>111130</td>\n",
       "      <td>Disorder</td>\n",
       "      <td>“Disorder” kicks things off with drummer Steph...</td>\n",
       "      <td>I've got the spirit, lose the feeling</td>\n",
       "      <td>7</td>\n",
       "      <td>6</td>\n",
       "    </tr>\n",
       "    <tr>\n",
       "      <th>8</th>\n",
       "      <td>27143</td>\n",
       "      <td>Joy Division</td>\n",
       "      <td>Unknown Pleasures</td>\n",
       "      <td>Unknown Pleasures by Joy Division</td>\n",
       "      <td>https://images.genius.com/7f3937bd3ecb4d980757...</td>\n",
       "      <td>June 15, 1979</td>\n",
       "      <td>https://genius.com/artists/Joy-division</td>\n",
       "      <td>https://genius.com/albums/Joy-division/Unknown...</td>\n",
       "      <td>27143</td>\n",
       "      <td>111130</td>\n",
       "      <td>Disorder</td>\n",
       "      <td>“Disorder” kicks things off with drummer Steph...</td>\n",
       "      <td>Take the shock away</td>\n",
       "      <td>4</td>\n",
       "      <td>4</td>\n",
       "    </tr>\n",
       "    <tr>\n",
       "      <th>9</th>\n",
       "      <td>27143</td>\n",
       "      <td>Joy Division</td>\n",
       "      <td>Unknown Pleasures</td>\n",
       "      <td>Unknown Pleasures by Joy Division</td>\n",
       "      <td>https://images.genius.com/7f3937bd3ecb4d980757...</td>\n",
       "      <td>June 15, 1979</td>\n",
       "      <td>https://genius.com/artists/Joy-division</td>\n",
       "      <td>https://genius.com/albums/Joy-division/Unknown...</td>\n",
       "      <td>27143</td>\n",
       "      <td>111130</td>\n",
       "      <td>Disorder</td>\n",
       "      <td>“Disorder” kicks things off with drummer Steph...</td>\n",
       "      <td></td>\n",
       "      <td>0</td>\n",
       "      <td>0</td>\n",
       "    </tr>\n",
       "    <tr>\n",
       "      <th>11</th>\n",
       "      <td>27143</td>\n",
       "      <td>Joy Division</td>\n",
       "      <td>Unknown Pleasures</td>\n",
       "      <td>Unknown Pleasures by Joy Division</td>\n",
       "      <td>https://images.genius.com/7f3937bd3ecb4d980757...</td>\n",
       "      <td>June 15, 1979</td>\n",
       "      <td>https://genius.com/artists/Joy-division</td>\n",
       "      <td>https://genius.com/albums/Joy-division/Unknown...</td>\n",
       "      <td>27143</td>\n",
       "      <td>111130</td>\n",
       "      <td>Disorder</td>\n",
       "      <td>“Disorder” kicks things off with drummer Steph...</td>\n",
       "      <td>It's getting faster, moving faster</td>\n",
       "      <td>5</td>\n",
       "      <td>5</td>\n",
       "    </tr>\n",
       "  </tbody>\n",
       "</table>\n",
       "</div>"
      ],
      "text/plain": [
       "       id   artist_name               name                         full_title  \\\n",
       "6   27143  Joy Division  Unknown Pleasures  Unknown Pleasures by Joy Division   \n",
       "7   27143  Joy Division  Unknown Pleasures  Unknown Pleasures by Joy Division   \n",
       "8   27143  Joy Division  Unknown Pleasures  Unknown Pleasures by Joy Division   \n",
       "9   27143  Joy Division  Unknown Pleasures  Unknown Pleasures by Joy Division   \n",
       "11  27143  Joy Division  Unknown Pleasures  Unknown Pleasures by Joy Division   \n",
       "\n",
       "                                        cover_art_url   release_date  \\\n",
       "6   https://images.genius.com/7f3937bd3ecb4d980757...  June 15, 1979   \n",
       "7   https://images.genius.com/7f3937bd3ecb4d980757...  June 15, 1979   \n",
       "8   https://images.genius.com/7f3937bd3ecb4d980757...  June 15, 1979   \n",
       "9   https://images.genius.com/7f3937bd3ecb4d980757...  June 15, 1979   \n",
       "11  https://images.genius.com/7f3937bd3ecb4d980757...  June 15, 1979   \n",
       "\n",
       "                                 artist_url  \\\n",
       "6   https://genius.com/artists/Joy-division   \n",
       "7   https://genius.com/artists/Joy-division   \n",
       "8   https://genius.com/artists/Joy-division   \n",
       "9   https://genius.com/artists/Joy-division   \n",
       "11  https://genius.com/artists/Joy-division   \n",
       "\n",
       "                                                  url  fk_id  song_id  \\\n",
       "6   https://genius.com/albums/Joy-division/Unknown...  27143   111130   \n",
       "7   https://genius.com/albums/Joy-division/Unknown...  27143   111130   \n",
       "8   https://genius.com/albums/Joy-division/Unknown...  27143   111130   \n",
       "9   https://genius.com/albums/Joy-division/Unknown...  27143   111130   \n",
       "11  https://genius.com/albums/Joy-division/Unknown...  27143   111130   \n",
       "\n",
       "   song_title                                          song_desc  \\\n",
       "6    Disorder  “Disorder” kicks things off with drummer Steph...   \n",
       "7    Disorder  “Disorder” kicks things off with drummer Steph...   \n",
       "8    Disorder  “Disorder” kicks things off with drummer Steph...   \n",
       "9    Disorder  “Disorder” kicks things off with drummer Steph...   \n",
       "11   Disorder  “Disorder” kicks things off with drummer Steph...   \n",
       "\n",
       "                              song_lyrics  song_lyric_len  song_lyric_unq  \n",
       "6              Leave them for another day               5               5  \n",
       "7   I've got the spirit, lose the feeling               7               6  \n",
       "8                     Take the shock away               4               4  \n",
       "9                                                       0               0  \n",
       "11     It's getting faster, moving faster               5               5  "
      ]
     },
     "execution_count": 9,
     "metadata": {},
     "output_type": "execute_result"
    }
   ],
   "source": [
    "# Check progress\n",
    "df_tmp.iloc[5:10]"
   ]
  },
  {
   "cell_type": "code",
   "execution_count": 10,
   "metadata": {
    "ExecuteTime": {
     "end_time": "2020-03-12T02:49:39.191025Z",
     "start_time": "2020-03-12T02:49:39.162691Z"
    }
   },
   "outputs": [],
   "source": [
    "# Needed Fix: \n",
    "# `song_lyrics` length == 0 persists?\n",
    "indexNames = df_tmp[df_tmp.song_lyric_len <= 1].index\n",
    "\n",
    "# Delete by row indexes from DataFrame\n",
    "df_tmp.drop(indexNames , inplace = True)"
   ]
  },
  {
   "cell_type": "code",
   "execution_count": 11,
   "metadata": {
    "ExecuteTime": {
     "end_time": "2020-03-12T02:49:42.173484Z",
     "start_time": "2020-03-12T02:49:42.144245Z"
    }
   },
   "outputs": [
    {
     "data": {
      "text/plain": [
       "Waiting for the Siren's Call    432\n",
       "Get Ready                       373\n",
       "Republic                        316\n",
       "Unknown Pleasures               281\n",
       "Brotherhood                     248\n",
       "Lost Sirens                     246\n",
       "Technique                       242\n",
       "Low-Life                        232\n",
       "Closer                          214\n",
       "Power, Corruption and Lies      205\n",
       "Movement                        141\n",
       "Name: name, dtype: int64"
      ]
     },
     "execution_count": 11,
     "metadata": {},
     "output_type": "execute_result"
    }
   ],
   "source": [
    "df_tmp['name'].value_counts()"
   ]
  },
  {
   "cell_type": "code",
   "execution_count": 12,
   "metadata": {
    "ExecuteTime": {
     "end_time": "2020-03-12T02:49:45.207988Z",
     "start_time": "2020-03-12T02:49:45.181684Z"
    }
   },
   "outputs": [],
   "source": [
    "df_tmp.reset_index(inplace = True)"
   ]
  },
  {
   "cell_type": "code",
   "execution_count": 13,
   "metadata": {
    "ExecuteTime": {
     "end_time": "2020-03-12T02:49:47.156129Z",
     "start_time": "2020-03-12T02:49:47.118460Z"
    }
   },
   "outputs": [
    {
     "data": {
      "text/html": [
       "<div>\n",
       "<style scoped>\n",
       "    .dataframe tbody tr th:only-of-type {\n",
       "        vertical-align: middle;\n",
       "    }\n",
       "\n",
       "    .dataframe tbody tr th {\n",
       "        vertical-align: top;\n",
       "    }\n",
       "\n",
       "    .dataframe thead th {\n",
       "        text-align: right;\n",
       "    }\n",
       "</style>\n",
       "<table border=\"1\" class=\"dataframe\">\n",
       "  <thead>\n",
       "    <tr style=\"text-align: right;\">\n",
       "      <th></th>\n",
       "      <th>index</th>\n",
       "      <th>id</th>\n",
       "      <th>artist_name</th>\n",
       "      <th>name</th>\n",
       "      <th>full_title</th>\n",
       "      <th>cover_art_url</th>\n",
       "      <th>release_date</th>\n",
       "      <th>artist_url</th>\n",
       "      <th>url</th>\n",
       "      <th>fk_id</th>\n",
       "      <th>song_id</th>\n",
       "      <th>song_title</th>\n",
       "      <th>song_desc</th>\n",
       "      <th>song_lyrics</th>\n",
       "      <th>song_lyric_len</th>\n",
       "      <th>song_lyric_unq</th>\n",
       "    </tr>\n",
       "  </thead>\n",
       "  <tbody>\n",
       "    <tr>\n",
       "      <th>5</th>\n",
       "      <td>6</td>\n",
       "      <td>27143</td>\n",
       "      <td>Joy Division</td>\n",
       "      <td>Unknown Pleasures</td>\n",
       "      <td>Unknown Pleasures by Joy Division</td>\n",
       "      <td>https://images.genius.com/7f3937bd3ecb4d980757...</td>\n",
       "      <td>June 15, 1979</td>\n",
       "      <td>https://genius.com/artists/Joy-division</td>\n",
       "      <td>https://genius.com/albums/Joy-division/Unknown...</td>\n",
       "      <td>27143</td>\n",
       "      <td>111130</td>\n",
       "      <td>Disorder</td>\n",
       "      <td>“Disorder” kicks things off with drummer Steph...</td>\n",
       "      <td>Leave them for another day</td>\n",
       "      <td>5</td>\n",
       "      <td>5</td>\n",
       "    </tr>\n",
       "    <tr>\n",
       "      <th>6</th>\n",
       "      <td>7</td>\n",
       "      <td>27143</td>\n",
       "      <td>Joy Division</td>\n",
       "      <td>Unknown Pleasures</td>\n",
       "      <td>Unknown Pleasures by Joy Division</td>\n",
       "      <td>https://images.genius.com/7f3937bd3ecb4d980757...</td>\n",
       "      <td>June 15, 1979</td>\n",
       "      <td>https://genius.com/artists/Joy-division</td>\n",
       "      <td>https://genius.com/albums/Joy-division/Unknown...</td>\n",
       "      <td>27143</td>\n",
       "      <td>111130</td>\n",
       "      <td>Disorder</td>\n",
       "      <td>“Disorder” kicks things off with drummer Steph...</td>\n",
       "      <td>I've got the spirit, lose the feeling</td>\n",
       "      <td>7</td>\n",
       "      <td>6</td>\n",
       "    </tr>\n",
       "    <tr>\n",
       "      <th>7</th>\n",
       "      <td>8</td>\n",
       "      <td>27143</td>\n",
       "      <td>Joy Division</td>\n",
       "      <td>Unknown Pleasures</td>\n",
       "      <td>Unknown Pleasures by Joy Division</td>\n",
       "      <td>https://images.genius.com/7f3937bd3ecb4d980757...</td>\n",
       "      <td>June 15, 1979</td>\n",
       "      <td>https://genius.com/artists/Joy-division</td>\n",
       "      <td>https://genius.com/albums/Joy-division/Unknown...</td>\n",
       "      <td>27143</td>\n",
       "      <td>111130</td>\n",
       "      <td>Disorder</td>\n",
       "      <td>“Disorder” kicks things off with drummer Steph...</td>\n",
       "      <td>Take the shock away</td>\n",
       "      <td>4</td>\n",
       "      <td>4</td>\n",
       "    </tr>\n",
       "    <tr>\n",
       "      <th>8</th>\n",
       "      <td>11</td>\n",
       "      <td>27143</td>\n",
       "      <td>Joy Division</td>\n",
       "      <td>Unknown Pleasures</td>\n",
       "      <td>Unknown Pleasures by Joy Division</td>\n",
       "      <td>https://images.genius.com/7f3937bd3ecb4d980757...</td>\n",
       "      <td>June 15, 1979</td>\n",
       "      <td>https://genius.com/artists/Joy-division</td>\n",
       "      <td>https://genius.com/albums/Joy-division/Unknown...</td>\n",
       "      <td>27143</td>\n",
       "      <td>111130</td>\n",
       "      <td>Disorder</td>\n",
       "      <td>“Disorder” kicks things off with drummer Steph...</td>\n",
       "      <td>It's getting faster, moving faster</td>\n",
       "      <td>5</td>\n",
       "      <td>5</td>\n",
       "    </tr>\n",
       "    <tr>\n",
       "      <th>9</th>\n",
       "      <td>12</td>\n",
       "      <td>27143</td>\n",
       "      <td>Joy Division</td>\n",
       "      <td>Unknown Pleasures</td>\n",
       "      <td>Unknown Pleasures by Joy Division</td>\n",
       "      <td>https://images.genius.com/7f3937bd3ecb4d980757...</td>\n",
       "      <td>June 15, 1979</td>\n",
       "      <td>https://genius.com/artists/Joy-division</td>\n",
       "      <td>https://genius.com/albums/Joy-division/Unknown...</td>\n",
       "      <td>27143</td>\n",
       "      <td>111130</td>\n",
       "      <td>Disorder</td>\n",
       "      <td>“Disorder” kicks things off with drummer Steph...</td>\n",
       "      <td>Now it's getting out of hand</td>\n",
       "      <td>6</td>\n",
       "      <td>6</td>\n",
       "    </tr>\n",
       "  </tbody>\n",
       "</table>\n",
       "</div>"
      ],
      "text/plain": [
       "   index     id   artist_name               name  \\\n",
       "5      6  27143  Joy Division  Unknown Pleasures   \n",
       "6      7  27143  Joy Division  Unknown Pleasures   \n",
       "7      8  27143  Joy Division  Unknown Pleasures   \n",
       "8     11  27143  Joy Division  Unknown Pleasures   \n",
       "9     12  27143  Joy Division  Unknown Pleasures   \n",
       "\n",
       "                          full_title  \\\n",
       "5  Unknown Pleasures by Joy Division   \n",
       "6  Unknown Pleasures by Joy Division   \n",
       "7  Unknown Pleasures by Joy Division   \n",
       "8  Unknown Pleasures by Joy Division   \n",
       "9  Unknown Pleasures by Joy Division   \n",
       "\n",
       "                                       cover_art_url   release_date  \\\n",
       "5  https://images.genius.com/7f3937bd3ecb4d980757...  June 15, 1979   \n",
       "6  https://images.genius.com/7f3937bd3ecb4d980757...  June 15, 1979   \n",
       "7  https://images.genius.com/7f3937bd3ecb4d980757...  June 15, 1979   \n",
       "8  https://images.genius.com/7f3937bd3ecb4d980757...  June 15, 1979   \n",
       "9  https://images.genius.com/7f3937bd3ecb4d980757...  June 15, 1979   \n",
       "\n",
       "                                artist_url  \\\n",
       "5  https://genius.com/artists/Joy-division   \n",
       "6  https://genius.com/artists/Joy-division   \n",
       "7  https://genius.com/artists/Joy-division   \n",
       "8  https://genius.com/artists/Joy-division   \n",
       "9  https://genius.com/artists/Joy-division   \n",
       "\n",
       "                                                 url  fk_id  song_id  \\\n",
       "5  https://genius.com/albums/Joy-division/Unknown...  27143   111130   \n",
       "6  https://genius.com/albums/Joy-division/Unknown...  27143   111130   \n",
       "7  https://genius.com/albums/Joy-division/Unknown...  27143   111130   \n",
       "8  https://genius.com/albums/Joy-division/Unknown...  27143   111130   \n",
       "9  https://genius.com/albums/Joy-division/Unknown...  27143   111130   \n",
       "\n",
       "  song_title                                          song_desc  \\\n",
       "5   Disorder  “Disorder” kicks things off with drummer Steph...   \n",
       "6   Disorder  “Disorder” kicks things off with drummer Steph...   \n",
       "7   Disorder  “Disorder” kicks things off with drummer Steph...   \n",
       "8   Disorder  “Disorder” kicks things off with drummer Steph...   \n",
       "9   Disorder  “Disorder” kicks things off with drummer Steph...   \n",
       "\n",
       "                             song_lyrics  song_lyric_len  song_lyric_unq  \n",
       "5             Leave them for another day               5               5  \n",
       "6  I've got the spirit, lose the feeling               7               6  \n",
       "7                    Take the shock away               4               4  \n",
       "8     It's getting faster, moving faster               5               5  \n",
       "9           Now it's getting out of hand               6               6  "
      ]
     },
     "execution_count": 13,
     "metadata": {},
     "output_type": "execute_result"
    }
   ],
   "source": [
    "# Check\n",
    "df_tmp.iloc[5:10]"
   ]
  },
  {
   "cell_type": "markdown",
   "metadata": {},
   "source": [
    "### Modify the DataFrame with Natural Language Processing (NLP) features"
   ]
  },
  {
   "cell_type": "code",
   "execution_count": 14,
   "metadata": {
    "ExecuteTime": {
     "end_time": "2020-03-12T02:49:54.780752Z",
     "start_time": "2020-03-12T02:49:53.237593Z"
    }
   },
   "outputs": [],
   "source": [
    "# [spaCY](https://spacy.io/) calls itself \"Industrial-strength NLP in Python\"\n",
    "import spacy\n",
    "# ! python -m spacy download en_core_web_sm"
   ]
  },
  {
   "cell_type": "code",
   "execution_count": 15,
   "metadata": {
    "ExecuteTime": {
     "end_time": "2020-03-12T02:49:55.952912Z",
     "start_time": "2020-03-12T02:49:55.913805Z"
    }
   },
   "outputs": [],
   "source": [
    "def proc_lyric_corpus(dataset, lyric):\n",
    "    verbs = []\n",
    "    nouns = []\n",
    "    adverbs = []\n",
    "    corpus = []\n",
    "    nlp = spacy.load('en_core_web_sm')\n",
    "\n",
    "    for i in range (0, len(dataset)):\n",
    "        print(\"Processing record {} of {}\".format(i+1, len(dataset)), end = \"\\r\")\n",
    "        song = dataset.iloc[i][lyric]\n",
    "        doc = nlp(song)\n",
    "        df_corpus = pd.DataFrame()\n",
    "        for token in doc:\n",
    "            if token.lemma_ == \"-PRON-\": # Pronoun detection\n",
    "                    lemma = token.text\n",
    "            else:\n",
    "                lemma = token.lemma_\n",
    "            row = {\n",
    "                \"Word\": token.text,\n",
    "                \"Lemma\": lemma,\n",
    "                \"PoS\": token.pos_,\n",
    "                \"Stop Word\": token.is_stop\n",
    "            }\n",
    "            df_corpus = df_corpus.append(row, ignore_index = True)\n",
    "        verbs.append(\" \".join(df_corpus[\"Lemma\"][df_corpus[\"PoS\"] == \"VERB\"].values).lower())\n",
    "        nouns.append(\" \".join(df_corpus[\"Lemma\"][df_corpus[\"PoS\"] == \"NOUN\"].values).lower())\n",
    "        adverbs.append(\" \".join(df_corpus[\"Lemma\"][df_corpus[\"PoS\"] == \"ADV\"].values).lower())\n",
    "        corpus_clean = \" \".join(df_corpus[\"Lemma\"][df_corpus[\"Stop Word\"] == False].values)\n",
    "        corpus_clean = re.sub(r'[^A-Za-z0-9]+', ' ', corpus_clean)   \n",
    "        corpus.append(corpus_clean.lower())\n",
    "    dataset['verbs'] = verbs\n",
    "    dataset['nouns'] = nouns\n",
    "    dataset['adverbs'] = adverbs\n",
    "    dataset['corpus'] = corpus\n",
    "    return dataset\n",
    "\n",
    "# Credit: [Drake Using NLP](http://bit.ly/2IAGrLt)\n",
    "# Also Credit: [Extractive Text Summarization Using spaCy in Python](http://bit.ly/2VZsSwT)"
   ]
  },
  {
   "cell_type": "code",
   "execution_count": 16,
   "metadata": {
    "ExecuteTime": {
     "end_time": "2020-03-12T02:51:36.548793Z",
     "start_time": "2020-03-12T02:49:58.065672Z"
    }
   },
   "outputs": [
    {
     "name": "stdout",
     "output_type": "stream",
     "text": [
      "Processing record 2930 of 2930\r"
     ]
    }
   ],
   "source": [
    "data = proc_lyric_corpus(df_tmp, 'song_lyrics')"
   ]
  },
  {
   "cell_type": "code",
   "execution_count": 17,
   "metadata": {
    "ExecuteTime": {
     "end_time": "2020-03-12T02:51:45.549794Z",
     "start_time": "2020-03-12T02:51:45.514228Z"
    }
   },
   "outputs": [
    {
     "data": {
      "text/plain": [
       "(2930, 20)"
      ]
     },
     "execution_count": 17,
     "metadata": {},
     "output_type": "execute_result"
    }
   ],
   "source": [
    "data.shape"
   ]
  },
  {
   "cell_type": "code",
   "execution_count": 18,
   "metadata": {
    "ExecuteTime": {
     "end_time": "2020-03-12T02:51:47.049764Z",
     "start_time": "2020-03-12T02:51:47.000573Z"
    }
   },
   "outputs": [
    {
     "data": {
      "text/html": [
       "<div>\n",
       "<style scoped>\n",
       "    .dataframe tbody tr th:only-of-type {\n",
       "        vertical-align: middle;\n",
       "    }\n",
       "\n",
       "    .dataframe tbody tr th {\n",
       "        vertical-align: top;\n",
       "    }\n",
       "\n",
       "    .dataframe thead th {\n",
       "        text-align: right;\n",
       "    }\n",
       "</style>\n",
       "<table border=\"1\" class=\"dataframe\">\n",
       "  <thead>\n",
       "    <tr style=\"text-align: right;\">\n",
       "      <th></th>\n",
       "      <th>index</th>\n",
       "      <th>id</th>\n",
       "      <th>artist_name</th>\n",
       "      <th>name</th>\n",
       "      <th>full_title</th>\n",
       "      <th>cover_art_url</th>\n",
       "      <th>release_date</th>\n",
       "      <th>artist_url</th>\n",
       "      <th>url</th>\n",
       "      <th>fk_id</th>\n",
       "      <th>song_id</th>\n",
       "      <th>song_title</th>\n",
       "      <th>song_desc</th>\n",
       "      <th>song_lyrics</th>\n",
       "      <th>song_lyric_len</th>\n",
       "      <th>song_lyric_unq</th>\n",
       "      <th>verbs</th>\n",
       "      <th>nouns</th>\n",
       "      <th>adverbs</th>\n",
       "      <th>corpus</th>\n",
       "    </tr>\n",
       "  </thead>\n",
       "  <tbody>\n",
       "    <tr>\n",
       "      <th>0</th>\n",
       "      <td>1</td>\n",
       "      <td>27143</td>\n",
       "      <td>Joy Division</td>\n",
       "      <td>Unknown Pleasures</td>\n",
       "      <td>Unknown Pleasures by Joy Division</td>\n",
       "      <td>https://images.genius.com/7f3937bd3ecb4d980757...</td>\n",
       "      <td>June 15, 1979</td>\n",
       "      <td>https://genius.com/artists/Joy-division</td>\n",
       "      <td>https://genius.com/albums/Joy-division/Unknown...</td>\n",
       "      <td>27143</td>\n",
       "      <td>111130</td>\n",
       "      <td>Disorder</td>\n",
       "      <td>“Disorder” kicks things off with drummer Steph...</td>\n",
       "      <td>I've been waiting for a guide</td>\n",
       "      <td>6</td>\n",
       "      <td>6</td>\n",
       "      <td>wait</td>\n",
       "      <td>guide</td>\n",
       "      <td></td>\n",
       "      <td>wait guide</td>\n",
       "    </tr>\n",
       "    <tr>\n",
       "      <th>1</th>\n",
       "      <td>2</td>\n",
       "      <td>27143</td>\n",
       "      <td>Joy Division</td>\n",
       "      <td>Unknown Pleasures</td>\n",
       "      <td>Unknown Pleasures by Joy Division</td>\n",
       "      <td>https://images.genius.com/7f3937bd3ecb4d980757...</td>\n",
       "      <td>June 15, 1979</td>\n",
       "      <td>https://genius.com/artists/Joy-division</td>\n",
       "      <td>https://genius.com/albums/Joy-division/Unknown...</td>\n",
       "      <td>27143</td>\n",
       "      <td>111130</td>\n",
       "      <td>Disorder</td>\n",
       "      <td>“Disorder” kicks things off with drummer Steph...</td>\n",
       "      <td>To come and take me by the hand</td>\n",
       "      <td>8</td>\n",
       "      <td>8</td>\n",
       "      <td>come take</td>\n",
       "      <td>hand</td>\n",
       "      <td></td>\n",
       "      <td>come hand</td>\n",
       "    </tr>\n",
       "    <tr>\n",
       "      <th>2</th>\n",
       "      <td>3</td>\n",
       "      <td>27143</td>\n",
       "      <td>Joy Division</td>\n",
       "      <td>Unknown Pleasures</td>\n",
       "      <td>Unknown Pleasures by Joy Division</td>\n",
       "      <td>https://images.genius.com/7f3937bd3ecb4d980757...</td>\n",
       "      <td>June 15, 1979</td>\n",
       "      <td>https://genius.com/artists/Joy-division</td>\n",
       "      <td>https://genius.com/albums/Joy-division/Unknown...</td>\n",
       "      <td>27143</td>\n",
       "      <td>111130</td>\n",
       "      <td>Disorder</td>\n",
       "      <td>“Disorder” kicks things off with drummer Steph...</td>\n",
       "      <td>Could these sensations make me feel</td>\n",
       "      <td>6</td>\n",
       "      <td>6</td>\n",
       "      <td>could make feel</td>\n",
       "      <td>sensation</td>\n",
       "      <td></td>\n",
       "      <td>sensation feel</td>\n",
       "    </tr>\n",
       "    <tr>\n",
       "      <th>3</th>\n",
       "      <td>4</td>\n",
       "      <td>27143</td>\n",
       "      <td>Joy Division</td>\n",
       "      <td>Unknown Pleasures</td>\n",
       "      <td>Unknown Pleasures by Joy Division</td>\n",
       "      <td>https://images.genius.com/7f3937bd3ecb4d980757...</td>\n",
       "      <td>June 15, 1979</td>\n",
       "      <td>https://genius.com/artists/Joy-division</td>\n",
       "      <td>https://genius.com/albums/Joy-division/Unknown...</td>\n",
       "      <td>27143</td>\n",
       "      <td>111130</td>\n",
       "      <td>Disorder</td>\n",
       "      <td>“Disorder” kicks things off with drummer Steph...</td>\n",
       "      <td>The pleasures of a normal man?</td>\n",
       "      <td>6</td>\n",
       "      <td>6</td>\n",
       "      <td></td>\n",
       "      <td>pleasure man</td>\n",
       "      <td></td>\n",
       "      <td>pleasure normal man</td>\n",
       "    </tr>\n",
       "    <tr>\n",
       "      <th>4</th>\n",
       "      <td>5</td>\n",
       "      <td>27143</td>\n",
       "      <td>Joy Division</td>\n",
       "      <td>Unknown Pleasures</td>\n",
       "      <td>Unknown Pleasures by Joy Division</td>\n",
       "      <td>https://images.genius.com/7f3937bd3ecb4d980757...</td>\n",
       "      <td>June 15, 1979</td>\n",
       "      <td>https://genius.com/artists/Joy-division</td>\n",
       "      <td>https://genius.com/albums/Joy-division/Unknown...</td>\n",
       "      <td>27143</td>\n",
       "      <td>111130</td>\n",
       "      <td>Disorder</td>\n",
       "      <td>“Disorder” kicks things off with drummer Steph...</td>\n",
       "      <td>Lose sensation, spare the insults</td>\n",
       "      <td>5</td>\n",
       "      <td>5</td>\n",
       "      <td>lose spare</td>\n",
       "      <td>sensation insult</td>\n",
       "      <td></td>\n",
       "      <td>lose sensation spare insult</td>\n",
       "    </tr>\n",
       "  </tbody>\n",
       "</table>\n",
       "</div>"
      ],
      "text/plain": [
       "   index     id   artist_name               name  \\\n",
       "0      1  27143  Joy Division  Unknown Pleasures   \n",
       "1      2  27143  Joy Division  Unknown Pleasures   \n",
       "2      3  27143  Joy Division  Unknown Pleasures   \n",
       "3      4  27143  Joy Division  Unknown Pleasures   \n",
       "4      5  27143  Joy Division  Unknown Pleasures   \n",
       "\n",
       "                          full_title  \\\n",
       "0  Unknown Pleasures by Joy Division   \n",
       "1  Unknown Pleasures by Joy Division   \n",
       "2  Unknown Pleasures by Joy Division   \n",
       "3  Unknown Pleasures by Joy Division   \n",
       "4  Unknown Pleasures by Joy Division   \n",
       "\n",
       "                                       cover_art_url   release_date  \\\n",
       "0  https://images.genius.com/7f3937bd3ecb4d980757...  June 15, 1979   \n",
       "1  https://images.genius.com/7f3937bd3ecb4d980757...  June 15, 1979   \n",
       "2  https://images.genius.com/7f3937bd3ecb4d980757...  June 15, 1979   \n",
       "3  https://images.genius.com/7f3937bd3ecb4d980757...  June 15, 1979   \n",
       "4  https://images.genius.com/7f3937bd3ecb4d980757...  June 15, 1979   \n",
       "\n",
       "                                artist_url  \\\n",
       "0  https://genius.com/artists/Joy-division   \n",
       "1  https://genius.com/artists/Joy-division   \n",
       "2  https://genius.com/artists/Joy-division   \n",
       "3  https://genius.com/artists/Joy-division   \n",
       "4  https://genius.com/artists/Joy-division   \n",
       "\n",
       "                                                 url  fk_id  song_id  \\\n",
       "0  https://genius.com/albums/Joy-division/Unknown...  27143   111130   \n",
       "1  https://genius.com/albums/Joy-division/Unknown...  27143   111130   \n",
       "2  https://genius.com/albums/Joy-division/Unknown...  27143   111130   \n",
       "3  https://genius.com/albums/Joy-division/Unknown...  27143   111130   \n",
       "4  https://genius.com/albums/Joy-division/Unknown...  27143   111130   \n",
       "\n",
       "  song_title                                          song_desc  \\\n",
       "0   Disorder  “Disorder” kicks things off with drummer Steph...   \n",
       "1   Disorder  “Disorder” kicks things off with drummer Steph...   \n",
       "2   Disorder  “Disorder” kicks things off with drummer Steph...   \n",
       "3   Disorder  “Disorder” kicks things off with drummer Steph...   \n",
       "4   Disorder  “Disorder” kicks things off with drummer Steph...   \n",
       "\n",
       "                           song_lyrics  song_lyric_len  song_lyric_unq  \\\n",
       "0        I've been waiting for a guide               6               6   \n",
       "1      To come and take me by the hand               8               8   \n",
       "2  Could these sensations make me feel               6               6   \n",
       "3       The pleasures of a normal man?               6               6   \n",
       "4    Lose sensation, spare the insults               5               5   \n",
       "\n",
       "             verbs             nouns adverbs                       corpus  \n",
       "0             wait             guide                           wait guide  \n",
       "1        come take              hand                            come hand  \n",
       "2  could make feel         sensation                       sensation feel  \n",
       "3                       pleasure man                 pleasure normal man   \n",
       "4       lose spare  sensation insult          lose sensation spare insult  "
      ]
     },
     "execution_count": 18,
     "metadata": {},
     "output_type": "execute_result"
    }
   ],
   "source": [
    "# Check\n",
    "data.head()"
   ]
  },
  {
   "cell_type": "code",
   "execution_count": 19,
   "metadata": {
    "ExecuteTime": {
     "end_time": "2020-03-12T02:51:48.667108Z",
     "start_time": "2020-03-12T02:51:48.392104Z"
    }
   },
   "outputs": [
    {
     "data": {
      "image/png": "[encoded data removed]",
      "text/plain": [
       "<Figure size 864x576 with 1 Axes>"
      ]
     },
     "metadata": {
      "needs_background": "light"
     },
     "output_type": "display_data"
    }
   ],
   "source": [
    "# Baseline of complexity of the artist album data\n",
    "data.groupby('name').song_lyrics.count().plot(kind='barh', figsize=(12, 8), color='orange')\n",
    "plt.show();"
   ]
  },
  {
   "cell_type": "markdown",
   "metadata": {},
   "source": [
    "### Model: `CountVectorize` corpus from NLP\n",
    "- Column:\"corpus\" => Lemmatized and stop-word excised version of column: \"song_lyrics\""
   ]
  },
  {
   "cell_type": "code",
   "execution_count": 20,
   "metadata": {
    "ExecuteTime": {
     "end_time": "2020-03-12T02:52:04.413371Z",
     "start_time": "2020-03-12T02:52:04.334264Z"
    }
   },
   "outputs": [],
   "source": [
    "# Begin `Count` vectorization\n",
    "# REM. This will treat each word independent of one another\n",
    "from sklearn.feature_extraction.text import CountVectorizer"
   ]
  },
  {
   "cell_type": "code",
   "execution_count": 21,
   "metadata": {
    "ExecuteTime": {
     "end_time": "2020-03-12T02:52:06.152428Z",
     "start_time": "2020-03-12T02:52:06.101882Z"
    },
    "scrolled": true
   },
   "outputs": [
    {
     "data": {
      "text/plain": [
       "CountVectorizer(analyzer='word', binary=False, decode_error='strict',\n",
       "                dtype=<class 'numpy.int64'>, encoding='utf-8', input='content',\n",
       "                lowercase=True, max_df=1.0, max_features=None, min_df=1,\n",
       "                ngram_range=(1, 1), preprocessor=None, stop_words=None,\n",
       "                strip_accents=None, token_pattern='(?u)\\\\b\\\\w\\\\w+\\\\b',\n",
       "                tokenizer=None, vocabulary=None)"
      ]
     },
     "execution_count": 21,
     "metadata": {},
     "output_type": "execute_result"
    }
   ],
   "source": [
    "c_vec = CountVectorizer()\n",
    "c_vec.fit(data[\"corpus\"])"
   ]
  },
  {
   "cell_type": "code",
   "execution_count": 22,
   "metadata": {
    "ExecuteTime": {
     "end_time": "2020-03-12T02:52:07.171569Z",
     "start_time": "2020-03-12T02:52:07.125585Z"
    }
   },
   "outputs": [],
   "source": [
    "c_vec_counts = c_vec.transform(data[\"corpus\"])"
   ]
  },
  {
   "cell_type": "code",
   "execution_count": 23,
   "metadata": {
    "ExecuteTime": {
     "end_time": "2020-03-12T02:52:08.853974Z",
     "start_time": "2020-03-12T02:52:08.810637Z"
    }
   },
   "outputs": [
    {
     "name": "stdout",
     "output_type": "stream",
     "text": [
      "sparse matrix shape: (2930, 1267)\n",
      "nonzero count: 6741\n",
      "sparsity: 0.18%\n"
     ]
    }
   ],
   "source": [
    "print('sparse matrix shape:', c_vec_counts.shape)\n",
    "print('nonzero count:', c_vec_counts.nnz)\n",
    "print('sparsity: %.2f%%' % (100.0 * c_vec_counts.nnz / (c_vec_counts.shape[0] * c_vec_counts.shape[1])))\n",
    "\n",
    "# Credit: [CountVectorizer sklearn example](http://bit.ly/2vK8ntt)"
   ]
  },
  {
   "cell_type": "code",
   "execution_count": 24,
   "metadata": {
    "ExecuteTime": {
     "end_time": "2020-03-12T02:52:10.015727Z",
     "start_time": "2020-03-12T02:52:09.961293Z"
    }
   },
   "outputs": [
    {
     "data": {
      "text/html": [
       "<div>\n",
       "<style scoped>\n",
       "    .dataframe tbody tr th:only-of-type {\n",
       "        vertical-align: middle;\n",
       "    }\n",
       "\n",
       "    .dataframe tbody tr th {\n",
       "        vertical-align: top;\n",
       "    }\n",
       "\n",
       "    .dataframe thead th {\n",
       "        text-align: right;\n",
       "    }\n",
       "</style>\n",
       "<table border=\"1\" class=\"dataframe\">\n",
       "  <thead>\n",
       "    <tr style=\"text-align: right;\">\n",
       "      <th></th>\n",
       "      <th>term</th>\n",
       "      <th>count</th>\n",
       "    </tr>\n",
       "  </thead>\n",
       "  <tbody>\n",
       "    <tr>\n",
       "      <th>0</th>\n",
       "      <td>know</td>\n",
       "      <td>144</td>\n",
       "    </tr>\n",
       "    <tr>\n",
       "      <th>1</th>\n",
       "      <td>get</td>\n",
       "      <td>135</td>\n",
       "    </tr>\n",
       "    <tr>\n",
       "      <th>2</th>\n",
       "      <td>like</td>\n",
       "      <td>134</td>\n",
       "    </tr>\n",
       "    <tr>\n",
       "      <th>3</th>\n",
       "      <td>time</td>\n",
       "      <td>112</td>\n",
       "    </tr>\n",
       "    <tr>\n",
       "      <th>4</th>\n",
       "      <td>want</td>\n",
       "      <td>89</td>\n",
       "    </tr>\n",
       "    <tr>\n",
       "      <th>5</th>\n",
       "      <td>go</td>\n",
       "      <td>83</td>\n",
       "    </tr>\n",
       "    <tr>\n",
       "      <th>6</th>\n",
       "      <td>day</td>\n",
       "      <td>80</td>\n",
       "    </tr>\n",
       "    <tr>\n",
       "      <th>7</th>\n",
       "      <td>right</td>\n",
       "      <td>80</td>\n",
       "    </tr>\n",
       "    <tr>\n",
       "      <th>8</th>\n",
       "      <td>need</td>\n",
       "      <td>79</td>\n",
       "    </tr>\n",
       "    <tr>\n",
       "      <th>9</th>\n",
       "      <td>way</td>\n",
       "      <td>78</td>\n",
       "    </tr>\n",
       "    <tr>\n",
       "      <th>10</th>\n",
       "      <td>love</td>\n",
       "      <td>76</td>\n",
       "    </tr>\n",
       "    <tr>\n",
       "      <th>11</th>\n",
       "      <td>to</td>\n",
       "      <td>73</td>\n",
       "    </tr>\n",
       "    <tr>\n",
       "      <th>12</th>\n",
       "      <td>life</td>\n",
       "      <td>70</td>\n",
       "    </tr>\n",
       "    <tr>\n",
       "      <th>13</th>\n",
       "      <td>come</td>\n",
       "      <td>66</td>\n",
       "    </tr>\n",
       "    <tr>\n",
       "      <th>14</th>\n",
       "      <td>find</td>\n",
       "      <td>64</td>\n",
       "    </tr>\n",
       "    <tr>\n",
       "      <th>15</th>\n",
       "      <td>feel</td>\n",
       "      <td>61</td>\n",
       "    </tr>\n",
       "    <tr>\n",
       "      <th>16</th>\n",
       "      <td>lose</td>\n",
       "      <td>60</td>\n",
       "    </tr>\n",
       "    <tr>\n",
       "      <th>17</th>\n",
       "      <td>la</td>\n",
       "      <td>59</td>\n",
       "    </tr>\n",
       "    <tr>\n",
       "      <th>18</th>\n",
       "      <td>world</td>\n",
       "      <td>55</td>\n",
       "    </tr>\n",
       "    <tr>\n",
       "      <th>19</th>\n",
       "      <td>tell</td>\n",
       "      <td>54</td>\n",
       "    </tr>\n",
       "    <tr>\n",
       "      <th>20</th>\n",
       "      <td>look</td>\n",
       "      <td>51</td>\n",
       "    </tr>\n",
       "    <tr>\n",
       "      <th>21</th>\n",
       "      <td>think</td>\n",
       "      <td>51</td>\n",
       "    </tr>\n",
       "    <tr>\n",
       "      <th>22</th>\n",
       "      <td>night</td>\n",
       "      <td>49</td>\n",
       "    </tr>\n",
       "    <tr>\n",
       "      <th>23</th>\n",
       "      <td>try</td>\n",
       "      <td>49</td>\n",
       "    </tr>\n",
       "    <tr>\n",
       "      <th>24</th>\n",
       "      <td>good</td>\n",
       "      <td>49</td>\n",
       "    </tr>\n",
       "  </tbody>\n",
       "</table>\n",
       "</div>"
      ],
      "text/plain": [
       "     term  count\n",
       "0    know    144\n",
       "1     get    135\n",
       "2    like    134\n",
       "3    time    112\n",
       "4    want     89\n",
       "5      go     83\n",
       "6     day     80\n",
       "7   right     80\n",
       "8    need     79\n",
       "9     way     78\n",
       "10   love     76\n",
       "11     to     73\n",
       "12   life     70\n",
       "13   come     66\n",
       "14   find     64\n",
       "15   feel     61\n",
       "16   lose     60\n",
       "17     la     59\n",
       "18  world     55\n",
       "19   tell     54\n",
       "20   look     51\n",
       "21  think     51\n",
       "22  night     49\n",
       "23    try     49\n",
       "24   good     49"
      ]
     },
     "execution_count": 24,
     "metadata": {},
     "output_type": "execute_result"
    }
   ],
   "source": [
    "# Top _n_ most-occurring words\n",
    "word_table = pd.DataFrame(c_vec_counts.toarray(), columns=c_vec.get_feature_names())\n",
    "word_series = word_table.sum()\n",
    "word_series = word_series.sort_values(ascending = False)\n",
    "occ_df = pd.DataFrame({'term': word_series.index, 'count': word_series.values})\n",
    "\n",
    "occ_df.head(25)"
   ]
  },
  {
   "cell_type": "code",
   "execution_count": 25,
   "metadata": {
    "ExecuteTime": {
     "end_time": "2020-03-12T02:52:11.096982Z",
     "start_time": "2020-03-12T02:52:11.049076Z"
    }
   },
   "outputs": [
    {
     "data": {
      "text/html": [
       "<div>\n",
       "<style scoped>\n",
       "    .dataframe tbody tr th:only-of-type {\n",
       "        vertical-align: middle;\n",
       "    }\n",
       "\n",
       "    .dataframe tbody tr th {\n",
       "        vertical-align: top;\n",
       "    }\n",
       "\n",
       "    .dataframe thead th {\n",
       "        text-align: right;\n",
       "    }\n",
       "</style>\n",
       "<table border=\"1\" class=\"dataframe\">\n",
       "  <thead>\n",
       "    <tr style=\"text-align: right;\">\n",
       "      <th></th>\n",
       "      <th>term</th>\n",
       "      <th>count</th>\n",
       "    </tr>\n",
       "  </thead>\n",
       "  <tbody>\n",
       "    <tr>\n",
       "      <th>251</th>\n",
       "      <td>shock</td>\n",
       "      <td>5</td>\n",
       "    </tr>\n",
       "  </tbody>\n",
       "</table>\n",
       "</div>"
      ],
      "text/plain": [
       "      term  count\n",
       "251  shock      5"
      ]
     },
     "execution_count": 25,
     "metadata": {},
     "output_type": "execute_result"
    }
   ],
   "source": [
    "# Discover a selected term\n",
    "occ_df.query(\"term == 'shock'\")"
   ]
  },
  {
   "cell_type": "code",
   "execution_count": 26,
   "metadata": {
    "ExecuteTime": {
     "end_time": "2020-03-12T02:52:13.272113Z",
     "start_time": "2020-03-12T02:52:12.988287Z"
    }
   },
   "outputs": [
    {
     "data": {
      "image/png": "[encoded data removed]",
      "text/plain": [
       "<Figure size 1152x576 with 1 Axes>"
      ]
     },
     "metadata": {
      "needs_background": "light"
     },
     "output_type": "display_data"
    }
   ],
   "source": [
    "# Plot frequency of terms (single words) appearing in the corpus\n",
    "plt.figure(figsize=(16,8))\n",
    "t = np.arange(1267)\n",
    "plt.scatter(occ_df.index, occ_df['count'], c=t, cmap='gray', marker=\"o\");"
   ]
  },
  {
   "cell_type": "markdown",
   "metadata": {},
   "source": [
    "### Model: TfidfVectorize corpus from NLP\n",
    "- Column:\"corpus\" => Lemmatized and stop-word excised version of column: \"song_lyrics\""
   ]
  },
  {
   "cell_type": "code",
   "execution_count": 27,
   "metadata": {
    "ExecuteTime": {
     "end_time": "2020-03-12T02:52:17.361853Z",
     "start_time": "2020-03-12T02:52:17.328772Z"
    }
   },
   "outputs": [],
   "source": [
    "# Begin `Term frequency-inverse document Frequency` vectorization\n",
    "from sklearn.feature_extraction.text import TfidfVectorizer"
   ]
  },
  {
   "cell_type": "code",
   "execution_count": 28,
   "metadata": {
    "ExecuteTime": {
     "end_time": "2020-03-12T02:52:18.406370Z",
     "start_time": "2020-03-12T02:52:18.308921Z"
    }
   },
   "outputs": [
    {
     "data": {
      "text/html": [
       "<div>\n",
       "<style scoped>\n",
       "    .dataframe tbody tr th:only-of-type {\n",
       "        vertical-align: middle;\n",
       "    }\n",
       "\n",
       "    .dataframe tbody tr th {\n",
       "        vertical-align: top;\n",
       "    }\n",
       "\n",
       "    .dataframe thead th {\n",
       "        text-align: right;\n",
       "    }\n",
       "</style>\n",
       "<table border=\"1\" class=\"dataframe\">\n",
       "  <thead>\n",
       "    <tr style=\"text-align: right;\">\n",
       "      <th></th>\n",
       "      <th>term</th>\n",
       "      <th>weight</th>\n",
       "    </tr>\n",
       "  </thead>\n",
       "  <tbody>\n",
       "    <tr>\n",
       "      <th>595</th>\n",
       "      <td>know</td>\n",
       "      <td>0.027552</td>\n",
       "    </tr>\n",
       "    <tr>\n",
       "      <th>1116</th>\n",
       "      <td>time</td>\n",
       "      <td>0.020515</td>\n",
       "    </tr>\n",
       "    <tr>\n",
       "      <th>447</th>\n",
       "      <td>get</td>\n",
       "      <td>0.019750</td>\n",
       "    </tr>\n",
       "    <tr>\n",
       "      <th>625</th>\n",
       "      <td>like</td>\n",
       "      <td>0.019480</td>\n",
       "    </tr>\n",
       "    <tr>\n",
       "      <th>1199</th>\n",
       "      <td>want</td>\n",
       "      <td>0.018713</td>\n",
       "    </tr>\n",
       "    <tr>\n",
       "      <th>884</th>\n",
       "      <td>right</td>\n",
       "      <td>0.014905</td>\n",
       "    </tr>\n",
       "    <tr>\n",
       "      <th>708</th>\n",
       "      <td>need</td>\n",
       "      <td>0.014674</td>\n",
       "    </tr>\n",
       "    <tr>\n",
       "      <th>459</th>\n",
       "      <td>go</td>\n",
       "      <td>0.014662</td>\n",
       "    </tr>\n",
       "    <tr>\n",
       "      <th>1211</th>\n",
       "      <td>way</td>\n",
       "      <td>0.014642</td>\n",
       "    </tr>\n",
       "    <tr>\n",
       "      <th>246</th>\n",
       "      <td>day</td>\n",
       "      <td>0.014249</td>\n",
       "    </tr>\n",
       "    <tr>\n",
       "      <th>643</th>\n",
       "      <td>lose</td>\n",
       "      <td>0.013592</td>\n",
       "    </tr>\n",
       "    <tr>\n",
       "      <th>1091</th>\n",
       "      <td>tell</td>\n",
       "      <td>0.012547</td>\n",
       "    </tr>\n",
       "    <tr>\n",
       "      <th>647</th>\n",
       "      <td>love</td>\n",
       "      <td>0.012287</td>\n",
       "    </tr>\n",
       "    <tr>\n",
       "      <th>182</th>\n",
       "      <td>come</td>\n",
       "      <td>0.011819</td>\n",
       "    </tr>\n",
       "    <tr>\n",
       "      <th>1101</th>\n",
       "      <td>think</td>\n",
       "      <td>0.011788</td>\n",
       "    </tr>\n",
       "    <tr>\n",
       "      <th>387</th>\n",
       "      <td>feel</td>\n",
       "      <td>0.011696</td>\n",
       "    </tr>\n",
       "    <tr>\n",
       "      <th>399</th>\n",
       "      <td>find</td>\n",
       "      <td>0.011665</td>\n",
       "    </tr>\n",
       "    <tr>\n",
       "      <th>620</th>\n",
       "      <td>life</td>\n",
       "      <td>0.011616</td>\n",
       "    </tr>\n",
       "    <tr>\n",
       "      <th>640</th>\n",
       "      <td>look</td>\n",
       "      <td>0.011609</td>\n",
       "    </tr>\n",
       "    <tr>\n",
       "      <th>1118</th>\n",
       "      <td>to</td>\n",
       "      <td>0.011390</td>\n",
       "    </tr>\n",
       "    <tr>\n",
       "      <th>334</th>\n",
       "      <td>end</td>\n",
       "      <td>0.011285</td>\n",
       "    </tr>\n",
       "    <tr>\n",
       "      <th>1151</th>\n",
       "      <td>try</td>\n",
       "      <td>0.010472</td>\n",
       "    </tr>\n",
       "    <tr>\n",
       "      <th>1248</th>\n",
       "      <td>world</td>\n",
       "      <td>0.010299</td>\n",
       "    </tr>\n",
       "    <tr>\n",
       "      <th>611</th>\n",
       "      <td>leave</td>\n",
       "      <td>0.009879</td>\n",
       "    </tr>\n",
       "    <tr>\n",
       "      <th>1255</th>\n",
       "      <td>wrong</td>\n",
       "      <td>0.009725</td>\n",
       "    </tr>\n",
       "  </tbody>\n",
       "</table>\n",
       "</div>"
      ],
      "text/plain": [
       "       term    weight\n",
       "595    know  0.027552\n",
       "1116   time  0.020515\n",
       "447     get  0.019750\n",
       "625    like  0.019480\n",
       "1199   want  0.018713\n",
       "884   right  0.014905\n",
       "708    need  0.014674\n",
       "459      go  0.014662\n",
       "1211    way  0.014642\n",
       "246     day  0.014249\n",
       "643    lose  0.013592\n",
       "1091   tell  0.012547\n",
       "647    love  0.012287\n",
       "182    come  0.011819\n",
       "1101  think  0.011788\n",
       "387    feel  0.011696\n",
       "399    find  0.011665\n",
       "620    life  0.011616\n",
       "640    look  0.011609\n",
       "1118     to  0.011390\n",
       "334     end  0.011285\n",
       "1151    try  0.010472\n",
       "1248  world  0.010299\n",
       "611   leave  0.009879\n",
       "1255  wrong  0.009725"
      ]
     },
     "execution_count": 28,
     "metadata": {},
     "output_type": "execute_result"
    }
   ],
   "source": [
    "t_vec = TfidfVectorizer()\n",
    "t_vec_weights = t_vec.fit_transform(data[\"corpus\"])\n",
    "weights = np.asarray(t_vec_weights.mean(axis=0)).ravel().tolist()\n",
    "weights_df = pd.DataFrame({'term': t_vec.get_feature_names(), 'weight': weights})\n",
    "weights_df.sort_values(by='weight', ascending=False).head(25)"
   ]
  },
  {
   "cell_type": "code",
   "execution_count": 29,
   "metadata": {
    "ExecuteTime": {
     "end_time": "2020-03-12T02:52:19.381789Z",
     "start_time": "2020-03-12T02:52:19.343481Z"
    }
   },
   "outputs": [
    {
     "data": {
      "text/html": [
       "<div>\n",
       "<style scoped>\n",
       "    .dataframe tbody tr th:only-of-type {\n",
       "        vertical-align: middle;\n",
       "    }\n",
       "\n",
       "    .dataframe tbody tr th {\n",
       "        vertical-align: top;\n",
       "    }\n",
       "\n",
       "    .dataframe thead th {\n",
       "        text-align: right;\n",
       "    }\n",
       "</style>\n",
       "<table border=\"1\" class=\"dataframe\">\n",
       "  <thead>\n",
       "    <tr style=\"text-align: right;\">\n",
       "      <th></th>\n",
       "      <th>term</th>\n",
       "      <th>weight</th>\n",
       "    </tr>\n",
       "  </thead>\n",
       "  <tbody>\n",
       "    <tr>\n",
       "      <th>1017</th>\n",
       "      <td>soul</td>\n",
       "      <td>0.002733</td>\n",
       "    </tr>\n",
       "  </tbody>\n",
       "</table>\n",
       "</div>"
      ],
      "text/plain": [
       "      term    weight\n",
       "1017  soul  0.002733"
      ]
     },
     "execution_count": 29,
     "metadata": {},
     "output_type": "execute_result"
    }
   ],
   "source": [
    "# Discover a selected term\n",
    "weights_df.query(\"term == 'soul'\")"
   ]
  },
  {
   "cell_type": "markdown",
   "metadata": {},
   "source": [
    "#### Continue from TfdiF to an LDA Model"
   ]
  },
  {
   "cell_type": "code",
   "execution_count": 30,
   "metadata": {
    "ExecuteTime": {
     "end_time": "2020-03-12T02:52:28.933737Z",
     "start_time": "2020-03-12T02:52:25.631746Z"
    }
   },
   "outputs": [
    {
     "data": {
      "text/plain": [
       "LatentDirichletAllocation(batch_size=128, doc_topic_prior=None,\n",
       "                          evaluate_every=-1, learning_decay=0.7,\n",
       "                          learning_method='batch', learning_offset=10.0,\n",
       "                          max_doc_update_iter=100, max_iter=10,\n",
       "                          mean_change_tol=0.001, n_components=10, n_jobs=None,\n",
       "                          perp_tol=0.1, random_state=42, topic_word_prior=None,\n",
       "                          total_samples=1000000.0, verbose=0)"
      ]
     },
     "execution_count": 30,
     "metadata": {},
     "output_type": "execute_result"
    }
   ],
   "source": [
    "# LDA, Default with 10 components\n",
    "\n",
    "tf = t_vec.fit_transform(data[\"corpus\"].values.tolist())\n",
    "tf_words = t_vec.get_feature_names()\n",
    "\n",
    "# The \"LDA\"\n",
    "from sklearn.decomposition import LatentDirichletAllocation\n",
    "lda_10 = LatentDirichletAllocation(n_components=10, \n",
    "                                learning_method='batch', random_state=42)\n",
    "lda_10.fit(tf)"
   ]
  },
  {
   "cell_type": "code",
   "execution_count": 31,
   "metadata": {
    "ExecuteTime": {
     "end_time": "2020-03-12T02:52:33.947560Z",
     "start_time": "2020-03-12T02:52:30.424979Z"
    }
   },
   "outputs": [
    {
     "data": {
      "text/plain": [
       "LatentDirichletAllocation(batch_size=128, doc_topic_prior=None,\n",
       "                          evaluate_every=-1, learning_decay=0.7,\n",
       "                          learning_method='batch', learning_offset=10.0,\n",
       "                          max_doc_update_iter=100, max_iter=10,\n",
       "                          mean_change_tol=0.001, n_components=6, n_jobs=None,\n",
       "                          perp_tol=0.1, random_state=42, topic_word_prior=None,\n",
       "                          total_samples=1000000.0, verbose=0)"
      ]
     },
     "execution_count": 31,
     "metadata": {},
     "output_type": "execute_result"
    }
   ],
   "source": [
    "# LDA, Default with 6 components\n",
    "\n",
    "#tf = t_vec.fit_transform(data[\"corpus\"].values.tolist())\n",
    "#tf_words = t_vec.get_feature_names()\n",
    "\n",
    "# The \"LDA\", redux\n",
    "from sklearn.decomposition import LatentDirichletAllocation\n",
    "lda_6 = LatentDirichletAllocation(n_components=6, \n",
    "                                learning_method='batch', random_state=42)\n",
    "lda_6.fit(tf)"
   ]
  },
  {
   "cell_type": "markdown",
   "metadata": {},
   "source": [
    "#### Perform LDA visualizations"
   ]
  },
  {
   "cell_type": "code",
   "execution_count": 32,
   "metadata": {
    "ExecuteTime": {
     "end_time": "2020-03-12T02:52:44.186541Z",
     "start_time": "2020-03-12T02:52:44.059137Z"
    }
   },
   "outputs": [],
   "source": [
    "#! pip install pyldavis\n",
    "import pyLDAvis\n",
    "import pyLDAvis.sklearn\n",
    "pyLDAvis.enable_notebook()"
   ]
  },
  {
   "cell_type": "markdown",
   "metadata": {},
   "source": [
    "#### Visualization with 10 Topics"
   ]
  },
  {
   "cell_type": "code",
   "execution_count": 33,
   "metadata": {
    "ExecuteTime": {
     "end_time": "2020-03-12T02:53:10.134930Z",
     "start_time": "2020-03-12T02:52:46.569047Z"
    }
   },
   "outputs": [
    {
     "data": {
      "text/html": [
       "\n",
       "<link rel=\"stylesheet\" type=\"text/css\" href=\"https://cdn.rawgit.com/bmabey/pyLDAvis/files/ldavis.v1.0.0.css\">\n",
       "\n",
       "\n",
       "<div id=\"ldavis_el60982112134146352721391207\"></div>\n",
       "<script type=\"text/javascript\">\n",
       "\n",
       "var ldavis_el60982112134146352721391207_data = {\"mdsDat\": {\"x\": [-0.23532384776066903, 0.10876022250419959, -0.024415803089876873, 0.019637409694626067, 0.09123602173551595, 0.052030184767706336, -0.15622145473853974, 0.11448126174591962, 0.053690464387842404, -0.02387445924672497], \"y\": [-0.008356409277925933, -0.16322063668161993, -0.2136607790069154, 0.03289607806779483, -0.0014939808345593502, 0.15887692102586115, 0.059456923718506756, 0.10327232051747913, 0.0003588136849232717, 0.0318707487864556], \"topics\": [1, 2, 3, 4, 5, 6, 7, 8, 9, 10], \"cluster\": [1, 1, 1, 1, 1, 1, 1, 1, 1, 1], \"Freq\": [10.985575994728492, 10.725639562281552, 10.600765166275329, 10.519354973290392, 10.08616355810203, 10.04573530135185, 9.933686322750557, 9.789200569117353, 9.176037779605409, 8.137840772497041]}, \"tinfo\": {\"Category\": [\"Default\", \"Default\", \"Default\", \"Default\", \"Default\", \"Default\", \"Default\", \"Default\", \"Default\", \"Default\", \"Default\", \"Default\", \"Default\", \"Default\", \"Default\", \"Default\", \"Default\", \"Default\", \"Default\", \"Default\", \"Default\", \"Default\", \"Default\", \"Default\", \"Default\", \"Default\", \"Default\", \"Default\", \"Default\", \"Default\", \"Topic1\", \"Topic1\", \"Topic1\", \"Topic1\", \"Topic1\", \"Topic1\", \"Topic1\", \"Topic1\", \"Topic1\", \"Topic1\", \"Topic1\", \"Topic1\", \"Topic1\", \"Topic1\", \"Topic1\", \"Topic1\", \"Topic1\", \"Topic1\", \"Topic1\", \"Topic1\", \"Topic1\", \"Topic1\", \"Topic1\", \"Topic1\", \"Topic1\", \"Topic1\", \"Topic1\", \"Topic1\", \"Topic1\", \"Topic1\", \"Topic1\", \"Topic1\", \"Topic1\", \"Topic1\", \"Topic1\", \"Topic1\", \"Topic1\", \"Topic1\", \"Topic1\", \"Topic1\", \"Topic1\", \"Topic2\", \"Topic2\", \"Topic2\", \"Topic2\", \"Topic2\", \"Topic2\", \"Topic2\", \"Topic2\", \"Topic2\", \"Topic2\", \"Topic2\", \"Topic2\", \"Topic2\", \"Topic2\", \"Topic2\", \"Topic2\", \"Topic2\", \"Topic2\", \"Topic2\", \"Topic2\", \"Topic2\", \"Topic2\", \"Topic2\", \"Topic2\", \"Topic2\", \"Topic2\", \"Topic2\", \"Topic2\", \"Topic2\", \"Topic2\", \"Topic2\", \"Topic2\", \"Topic2\", \"Topic2\", \"Topic2\", \"Topic2\", \"Topic2\", \"Topic2\", \"Topic2\", \"Topic2\", \"Topic2\", \"Topic2\", \"Topic2\", \"Topic2\", \"Topic3\", \"Topic3\", \"Topic3\", \"Topic3\", \"Topic3\", \"Topic3\", \"Topic3\", \"Topic3\", \"Topic3\", \"Topic3\", \"Topic3\", \"Topic3\", \"Topic3\", \"Topic3\", \"Topic3\", \"Topic3\", \"Topic3\", \"Topic3\", \"Topic3\", \"Topic3\", \"Topic3\", \"Topic3\", \"Topic3\", \"Topic3\", \"Topic3\", \"Topic3\", \"Topic3\", \"Topic3\", \"Topic3\", \"Topic3\", \"Topic3\", \"Topic3\", \"Topic3\", \"Topic3\", \"Topic3\", \"Topic3\", \"Topic3\", \"Topic3\", \"Topic3\", \"Topic3\", \"Topic3\", \"Topic4\", \"Topic4\", \"Topic4\", \"Topic4\", \"Topic4\", \"Topic4\", \"Topic4\", \"Topic4\", \"Topic4\", \"Topic4\", \"Topic4\", \"Topic4\", \"Topic4\", \"Topic4\", \"Topic4\", \"Topic4\", \"Topic4\", \"Topic4\", \"Topic4\", \"Topic4\", \"Topic4\", \"Topic4\", \"Topic4\", \"Topic4\", \"Topic4\", \"Topic4\", \"Topic4\", \"Topic4\", \"Topic4\", \"Topic4\", \"Topic4\", \"Topic4\", \"Topic4\", \"Topic4\", \"Topic4\", \"Topic4\", \"Topic4\", \"Topic4\", \"Topic4\", \"Topic4\", \"Topic4\", \"Topic4\", \"Topic4\", \"Topic4\", \"Topic4\", \"Topic5\", \"Topic5\", \"Topic5\", \"Topic5\", \"Topic5\", \"Topic5\", \"Topic5\", \"Topic5\", \"Topic5\", \"Topic5\", \"Topic5\", \"Topic5\", \"Topic5\", \"Topic5\", \"Topic5\", \"Topic5\", \"Topic5\", \"Topic5\", \"Topic5\", \"Topic5\", \"Topic5\", \"Topic5\", \"Topic5\", \"Topic5\", \"Topic5\", \"Topic5\", \"Topic5\", \"Topic5\", \"Topic5\", \"Topic5\", \"Topic5\", \"Topic5\", \"Topic5\", \"Topic5\", \"Topic5\", \"Topic5\", \"Topic5\", \"Topic5\", \"Topic5\", \"Topic5\", \"Topic5\", \"Topic6\", \"Topic6\", \"Topic6\", \"Topic6\", \"Topic6\", \"Topic6\", \"Topic6\", \"Topic6\", \"Topic6\", \"Topic6\", \"Topic6\", \"Topic6\", \"Topic6\", \"Topic6\", \"Topic6\", \"Topic6\", \"Topic6\", \"Topic6\", \"Topic6\", \"Topic6\", \"Topic6\", \"Topic6\", \"Topic6\", \"Topic6\", \"Topic6\", \"Topic6\", \"Topic6\", \"Topic6\", \"Topic6\", \"Topic6\", \"Topic6\", \"Topic6\", \"Topic6\", \"Topic6\", \"Topic6\", \"Topic6\", \"Topic6\", \"Topic6\", \"Topic6\", \"Topic6\", \"Topic6\", \"Topic6\", \"Topic7\", \"Topic7\", \"Topic7\", \"Topic7\", \"Topic7\", \"Topic7\", \"Topic7\", \"Topic7\", \"Topic7\", \"Topic7\", \"Topic7\", \"Topic7\", \"Topic7\", \"Topic7\", \"Topic7\", \"Topic7\", \"Topic7\", \"Topic7\", \"Topic7\", \"Topic7\", \"Topic7\", \"Topic7\", \"Topic7\", \"Topic7\", \"Topic7\", \"Topic7\", \"Topic7\", \"Topic7\", \"Topic7\", \"Topic7\", \"Topic7\", \"Topic7\", \"Topic7\", \"Topic7\", \"Topic7\", \"Topic7\", \"Topic7\", \"Topic7\", \"Topic7\", \"Topic7\", \"Topic7\", \"Topic7\", \"Topic7\", \"Topic7\", \"Topic7\", \"Topic7\", \"Topic8\", \"Topic8\", \"Topic8\", \"Topic8\", \"Topic8\", \"Topic8\", \"Topic8\", \"Topic8\", \"Topic8\", \"Topic8\", \"Topic8\", \"Topic8\", \"Topic8\", \"Topic8\", \"Topic8\", \"Topic8\", \"Topic8\", \"Topic8\", \"Topic8\", \"Topic8\", \"Topic8\", \"Topic8\", \"Topic8\", \"Topic8\", \"Topic8\", \"Topic8\", \"Topic8\", \"Topic8\", \"Topic8\", \"Topic8\", \"Topic8\", \"Topic8\", \"Topic8\", \"Topic8\", \"Topic8\", \"Topic8\", \"Topic8\", \"Topic8\", \"Topic8\", \"Topic8\", \"Topic9\", \"Topic9\", \"Topic9\", \"Topic9\", \"Topic9\", \"Topic9\", \"Topic9\", \"Topic9\", \"Topic9\", \"Topic9\", \"Topic9\", \"Topic9\", \"Topic9\", \"Topic9\", \"Topic9\", \"Topic9\", \"Topic9\", \"Topic9\", \"Topic9\", \"Topic9\", \"Topic9\", \"Topic9\", \"Topic9\", \"Topic9\", \"Topic9\", \"Topic9\", \"Topic9\", \"Topic9\", \"Topic9\", \"Topic9\", \"Topic9\", \"Topic9\", \"Topic9\", \"Topic9\", \"Topic9\", \"Topic9\", \"Topic9\", \"Topic9\", \"Topic9\", \"Topic9\", \"Topic9\", \"Topic9\", \"Topic9\", \"Topic10\", \"Topic10\", \"Topic10\", \"Topic10\", \"Topic10\", \"Topic10\", \"Topic10\", \"Topic10\", \"Topic10\", \"Topic10\", \"Topic10\", \"Topic10\", \"Topic10\", \"Topic10\", \"Topic10\", \"Topic10\", \"Topic10\", \"Topic10\", \"Topic10\", \"Topic10\", \"Topic10\", \"Topic10\", \"Topic10\", \"Topic10\", \"Topic10\", \"Topic10\", \"Topic10\", \"Topic10\", \"Topic10\", \"Topic10\", \"Topic10\", \"Topic10\", \"Topic10\", \"Topic10\", \"Topic10\", \"Topic10\", \"Topic10\", \"Topic10\", \"Topic10\", \"Topic10\"], \"Freq\": [60.0, 41.0, 44.0, 26.0, 26.0, 29.0, 34.0, 22.0, 22.0, 30.0, 33.0, 20.0, 20.0, 32.0, 27.0, 27.0, 46.0, 25.0, 24.0, 16.0, 26.0, 32.0, 23.0, 26.0, 21.0, 33.0, 19.0, 19.0, 21.0, 20.0, 25.462308159153785, 20.06936098546441, 5.547244833618866, 53.077306557495994, 3.554508596165888, 10.909339940572874, 2.930163546279439, 4.012078903585824, 7.2280251202118135, 25.545903120007708, 3.365229857415091, 2.104535132165233, 24.34696074628564, 18.611108338942984, 1.9317942886746875, 7.42076466609382, 1.7903039340627012, 1.6945289472781229, 1.6452475058571885, 1.460079286524046, 1.4174264458338772, 3.652103390508363, 1.3404706991474493, 2.209094976112793, 1.3040941940689867, 1.1600583997020981, 1.1260081206775117, 2.362328251337701, 6.52422430704443, 1.0146632036920042, 8.761730764527197, 3.9993160014663958, 2.640250946145386, 6.940407096991528, 5.701894371346022, 8.277701629045417, 2.4388815962667465, 5.157502259604285, 4.424375042199286, 2.732438736997924, 2.2841746143740633, 14.693834629792807, 9.80897723752786, 6.070395710254852, 5.439116609679683, 16.683777244532067, 17.343078160536756, 4.157480768866493, 3.6108072087473824, 4.943925689137743, 3.0724431363341256, 36.1085314167288, 2.6464332268250006, 2.4627998943881337, 3.686129963077407, 2.353490628556222, 2.2480487978158457, 3.2368422331488578, 2.107155999340665, 10.327773124134866, 1.7730164355211464, 2.7107092911727033, 1.6949648385362845, 3.6466977171817, 1.5742285604913737, 1.528827242946517, 17.994680528832152, 1.882867604806719, 1.2625608360927816, 1.2625608360927816, 1.2625608360927816, 4.515176787295137, 15.339474255602047, 1.9942048429708574, 6.499593152217276, 4.453572866771072, 4.481198221336125, 8.991895127689844, 5.419629390350993, 4.144955223453959, 3.1849593483884515, 3.117159809833907, 3.0356066671297044, 2.95803195035988, 2.679510019871977, 41.12146809081053, 11.250035192789266, 12.86007766845726, 7.221205422669316, 5.908074657110768, 5.526824547875917, 12.442365575011827, 12.583084036199336, 3.1089930204399936, 3.088478650246984, 2.883426884199945, 11.58737150668025, 6.27416074699891, 2.626779293382435, 2.513985668246839, 2.43555194189304, 2.320962291891089, 3.378953755276102, 2.205328889445535, 4.237500025032249, 1.7823307020964754, 1.7060304333353775, 3.860972923486098, 1.6248608646696463, 1.5722647737998792, 2.463485564670664, 21.0919210550357, 1.4789298759392018, 1.469414896936892, 3.091784995839515, 13.034859430602484, 19.877782942350144, 4.897534201169403, 5.642171415902418, 3.5735977164917094, 4.267816797185974, 4.785856261618629, 3.0833534036898653, 3.2246485675522223, 2.8600387086597223, 2.5804511034867375, 9.209607688043615, 5.923110514549495, 13.026667479375261, 4.190809379078398, 3.742742446164623, 10.359294548430022, 2.9786314254890733, 6.105352372002302, 4.105868112012788, 5.507943532347605, 2.4523675325517407, 2.3610160916928633, 2.3547433545792855, 20.56183942802902, 2.0923128259392687, 2.0017115276187183, 1.9813902090418427, 3.045671226279819, 17.829099138984265, 15.512883370624197, 1.803945131285331, 2.7143700691625434, 1.7675468708273774, 1.7299951799013418, 1.7247863572460516, 1.7124368783126305, 1.688889746903904, 1.6266843243402416, 1.6236615064846327, 6.286422377312258, 6.0949401288397995, 4.1727309186654145, 4.688202019664857, 3.8785303871482784, 16.802751696215996, 5.016071385970492, 3.5470261418569664, 7.15666486779685, 5.70179733326308, 6.807441170653905, 2.4910872767869083, 3.114689518371761, 2.874083753433339, 3.4871210663923526, 2.931597165903354, 26.0611505050245, 22.189678651565547, 11.028310461878275, 10.111084921489567, 7.604075052811897, 6.977910056779746, 5.34796299455721, 10.079423845967082, 4.757600420506623, 4.6718721352138735, 4.200688009996122, 4.079978845205281, 3.513051827454896, 2.979885233428013, 2.7569161941616156, 2.5929558433777244, 2.561495026358644, 2.3621034453262357, 3.4427890489955, 2.327719454102481, 3.5210922736499777, 2.2703853034340447, 2.0167787854157333, 2.0112140081031327, 1.8708188763515752, 1.8267515470494022, 1.7794240470137708, 1.7576821933050135, 1.7093487217152772, 16.891771340583492, 7.744350208119678, 8.594414358829612, 2.2440144565888027, 4.737994472852122, 4.910322317482109, 5.848204682371697, 3.6540239714880967, 2.9908201107574057, 3.5791878798239662, 3.036031935780054, 2.638401859273025, 20.29293090018802, 12.161399236431633, 9.003238572058574, 7.993627621416936, 7.266518349866132, 4.125610262779374, 8.948326778305324, 4.048339645361941, 24.2333135906692, 3.1576283965457663, 2.9491387860068663, 2.9270935913913503, 2.7953133837461137, 4.105348385643391, 2.5066286145930605, 5.656779659967642, 4.703385446825386, 2.084197152369759, 1.8851619736750769, 1.83074210791882, 1.6636483356687994, 2.557829852911245, 1.6312038701882723, 1.62799939190233, 1.5531407292245343, 9.013902201619333, 3.021742063133521, 1.393990901385535, 1.3467590014293132, 7.847240234107439, 2.6579856443034786, 10.384951113504167, 14.949350274520834, 5.468235069951496, 2.1314651808836818, 2.743568725281859, 5.9622412018970445, 2.2881304337239317, 5.297853914887443, 3.6550333726499233, 2.6393024598431287, 2.9724183064093266, 8.92255546155801, 12.946193892201606, 5.540374029942665, 5.339251705288174, 5.3121249629315574, 5.259557680541427, 4.689635346402039, 4.280029484828822, 3.702178921002333, 2.7957900679902874, 2.7957900679902874, 2.6573226480041723, 2.4799181916947446, 2.3644701087327142, 16.303517405446623, 3.291330869512621, 2.2181010533007304, 3.3598222406273655, 2.1645702082642497, 1.915142049514639, 1.8613016653307883, 5.320917324012478, 1.8053745513703914, 14.781303832726568, 2.8134036319354943, 1.7423311063144464, 2.8268806135020763, 5.730882525825506, 1.616526049054595, 1.6104866263302353, 4.794289323066391, 2.3278003916965795, 5.109329585914046, 24.0099998309807, 13.622222755550025, 5.984970177434333, 4.45856739498428, 4.4588291902292925, 3.0895533740037395, 7.33013661185795, 6.0613713560808895, 3.5465025849225955, 5.130637142920554, 3.0896486689882745, 3.16267080946006, 2.8524533281363182, 22.10061534509707, 10.45278900677403, 6.514417341246966, 6.090185111163042, 5.9755638288698005, 5.805937500346976, 5.638191949094495, 4.475874289832778, 4.35058022998736, 3.8211890261843076, 3.7605936818871855, 3.720107325921121, 3.644796374343975, 3.399567566867462, 3.0235364005545886, 2.81920405953723, 2.744340003101592, 2.317659508694001, 16.723638424902443, 2.258295354602609, 11.972180126439664, 3.4082272608480126, 2.0637493848580584, 4.315857443757712, 2.0288450065063777, 1.9088542731169746, 2.3959865852227513, 3.3549629652141135, 18.78105114419152, 1.2790564698956504, 1.8611906687475717, 2.0191866142813817, 7.920900125479377, 3.605704023057116, 9.327108117610178, 4.171275064640253, 5.617721755636441, 3.418010203765949, 3.092721481242131, 2.880008849538509, 15.945347058545003, 7.5060679374608785, 7.16139045288739, 6.62623083883783, 5.6531509733273175, 4.871626010284222, 3.0656408859977198, 3.054042863924113, 2.7386069564662208, 2.522771937182383, 2.518179426296829, 2.499190363473183, 2.460190427198435, 15.148793261067059, 2.4433770111839292, 2.348493202845109, 9.453930849448698, 1.9481157889274725, 8.189994791181523, 1.7026236178612162, 23.57238323968275, 1.4434834599827375, 1.415023389527767, 1.4133210997669923, 1.32651295061447, 1.9647257445666528, 6.262854870434986, 1.1607409560536435, 1.1349222689578014, 1.1295527054307535, 1.6537069196959508, 7.529485147223416, 13.651590816014432, 9.25687102195348, 3.9101071302875114, 2.0265363877139735, 3.5688813462582694, 1.95940684661566, 8.456311208948316, 2.5264946115504734, 4.617339873517393, 3.141874741722266, 3.0429180685860584, 8.227726856074712, 7.709707279068658, 7.054086653330565, 6.348643648622281, 6.228159682365922, 4.721455247098499, 4.2044343165214215, 4.20058224173745, 3.938303179574766, 3.710932902179587, 3.650304803757112, 3.001300600459291, 2.849294384911738, 2.555104159354854, 2.5384217732160663, 2.435313558211012, 5.216784470436669, 6.716589571195103, 1.9806823799752584, 1.8964625366659085, 1.8780565271882501, 1.7195760365574082, 1.6688351994387625, 1.532909548743257, 2.275365749808513, 7.652278624866223, 1.4526335699679362, 1.4185161996178934, 1.4027961368834214, 1.3911804767310993, 3.042369008656164, 2.1230999293073003, 5.153234392332069, 2.5773617663533916, 4.670664238489872, 4.333216020840573, 4.062784818304691, 3.08981009587593, 2.959332371578607, 2.0818766582426647], \"Term\": [\"know\", \"want\", \"get\", \"look\", \"think\", \"tell\", \"go\", \"wrong\", \"leave\", \"lose\", \"right\", \"hear\", \"good\", \"need\", \"come\", \"life\", \"time\", \"end\", \"try\", \"people\", \"to\", \"day\", \"world\", \"find\", \"believe\", \"way\", \"let\", \"change\", \"take\", \"wanna\", \"think\", \"good\", \"corner\", \"know\", \"room\", \"care\", \"dream\", \"hope\", \"forever\", \"right\", \"today\", \"unkind\", \"need\", \"end\", \"luck\", \"start\", \"sinful\", \"burden\", \"follow\", \"track\", \"satisfaction\", \"search\", \"fate\", \"send\", \"submit\", \"innocence\", \"gray\", \"show\", \"because\", \"birth\", \"live\", \"strange\", \"meet\", \"love\", \"try\", \"time\", \"late\", \"day\", \"feel\", \"lie\", \"like\", \"man\", \"trust\", \"future\", \"chance\", \"see\", \"let\", \"wish\", \"pull\", \"dark\", \"dead\", \"get\", \"company\", \"book\", \"ground\", \"superstar\", \"payroll\", \"alright\", \"accuse\", \"control\", \"shaking\", \"mistake\", \"shame\", \"sit\", \"color\", \"cover\", \"find\", \"answer\", \"heavy\", \"load\", \"lift\", \"feeling\", \"to\", \"silence\", \"will\", \"far\", \"watch\", \"lose\", \"night\", \"fall\", \"true\", \"life\", \"right\", \"day\", \"hand\", \"want\", \"home\", \"away\", \"stranger\", \"afraid\", \"light\", \"eye\", \"place\", \"yesterday\", \"later\", \"family\", \"say\", \"stay\", \"anytime\", \"politic\", \"conversation\", \"survive\", \"steal\", \"holiday\", \"shine\", \"deny\", \"telephone\", \"be\", \"lifetime\", \"suppose\", \"paper\", \"lose\", \"throw\", \"alibi\", \"spend\", \"night\", \"day\", \"hard\", \"tear\", \"work\", \"believe\", \"like\", \"turn\", \"way\", \"control\", \"morning\", \"burn\", \"foot\", \"heart\", \"wide\", \"sleep\", \"stand\", \"ruin\", \"head\", \"open\", \"soul\", \"toe\", \"gate\", \"music\", \"life\", \"portrait\", \"return\", \"water\", \"touch\", \"try\", \"hand\", \"have\", \"single\", \"jesus\", \"afford\", \"gift\", \"skin\", \"fantasy\", \"drain\", \"own\", \"high\", \"sky\", \"second\", \"count\", \"door\", \"like\", \"lie\", \"deep\", \"feel\", \"world\", \"get\", \"sense\", \"real\", \"far\", \"go\", \"right\", \"look\", \"leave\", \"yeah\", \"run\", \"shake\", \"lover\", \"thought\", \"young\", \"cold\", \"bear\", \"scene\", \"round\", \"jetstream\", \"street\", \"busy\", \"foolish\", \"wheel\", \"strong\", \"hide\", \"view\", \"help\", \"nerve\", \"star\", \"anybody\", \"flow\", \"mess\", \"learn\", \"obtain\", \"hate\", \"world\", \"turn\", \"wait\", \"person\", \"year\", \"oh\", \"go\", \"friend\", \"kind\", \"day\", \"take\", \"find\", \"hear\", \"call\", \"yes\", \"understand\", \"sea\", \"swear\", \"god\", \"wisdom\", \"tell\", \"commit\", \"hour\", \"crazy\", \"west\", \"drive\", \"flower\", \"anymore\", \"old\", \"tight\", \"hill\", \"island\", \"clear\", \"crime\", \"heaven\", \"da\", \"number\", \"word\", \"fire\", \"language\", \"low\", \"friend\", \"fool\", \"oh\", \"feel\", \"mind\", \"perfect\", \"girl\", \"come\", \"rain\", \"like\", \"change\", \"mean\", \"love\", \"road\", \"long\", \"town\", \"ago\", \"la\", \"knee\", \"maybe\", \"matter\", \"pray\", \"royal\", \"port\", \"realise\", \"elevate\", \"enemy\", \"believe\", \"goodbye\", \"defend\", \"land\", \"grass\", \"crisis\", \"overtime\", \"forget\", \"tired\", \"wanna\", \"key\", \"breathing\", \"blood\", \"hurt\", \"heat\", \"sell\", \"guess\", \"lonely\", \"die\", \"time\", \"love\", \"real\", \"work\", \"year\", \"car\", \"way\", \"end\", \"hold\", \"know\", \"thing\", \"need\", \"mind\", \"wrong\", \"step\", \"break\", \"talk\", \"moment\", \"cause\", \"truth\", \"cool\", \"close\", \"final\", \"peace\", \"rock\", \"scream\", \"speak\", \"rule\", \"shack\", \"tv\", \"lot\", \"take\", \"shout\", \"inside\", \"explain\", \"reach\", \"line\", \"regret\", \"stare\", \"kneel\", \"kiss\", \"come\", \"value\", \"sensation\", \"problem\", \"thing\", \"cry\", \"way\", \"true\", \"find\", \"word\", \"mind\", \"watch\", \"people\", \"reason\", \"remember\", \"face\", \"walk\", \"joe\", \"depend\", \"pretty\", \"smile\", \"earth\", \"near\", \"damn\", \"wife\", \"change\", \"set\", \"limit\", \"hey\", \"danger\", \"mean\", \"sure\", \"go\", \"insane\", \"wonder\", \"jolene\", \"pure\", \"desert\", \"give\", \"clock\", \"row\", \"treat\", \"deal\", \"fall\", \"way\", \"to\", \"apart\", \"thousand\", \"child\", \"soldier\", \"like\", \"strange\", \"time\", \"wait\", \"thing\", \"wake\", \"hang\", \"stop\", \"waste\", \"happen\", \"belong\", \"miss\", \"baby\", \"pain\", \"tomorrow\", \"special\", \"complain\", \"colony\", \"money\", \"alive\", \"listen\", \"mile\", \"free\", \"trial\", \"deceive\", \"shock\", \"intoxicate\", \"wounded\", \"cloud\", \"hit\", \"kind\", \"present\", \"notice\", \"tumble\", \"one\", \"morning\", \"use\", \"wanna\", \"buy\", \"tell\", \"time\", \"like\", \"love\", \"life\", \"will\"], \"Total\": [60.0, 41.0, 44.0, 26.0, 26.0, 29.0, 34.0, 22.0, 22.0, 30.0, 33.0, 20.0, 20.0, 32.0, 27.0, 27.0, 46.0, 25.0, 24.0, 16.0, 26.0, 32.0, 23.0, 26.0, 21.0, 33.0, 19.0, 19.0, 21.0, 20.0, 26.1585793932084, 20.765627647737524, 6.243490668809269, 60.375564624507554, 4.25076824652844, 13.103440076045652, 3.6264358978854174, 5.01548361205866, 9.251453850322344, 33.1815132465925, 4.4592526865408875, 2.800779621523341, 32.699828131180475, 25.292458810083364, 2.6280387743082443, 10.206762284788153, 2.486553635650928, 2.390791933481316, 2.3415358484768203, 2.1563375405815783, 2.113672286287647, 5.543037719241191, 2.036724465831673, 3.3712551759966742, 2.000338682466581, 1.8563165405058415, 1.822267904394672, 3.852038142544162, 10.711477053545249, 1.710907690437978, 15.681232813608856, 7.491230360872854, 5.2079211207071765, 28.201567081060727, 24.202137268876516, 46.78933718916279, 5.744175709260886, 32.0416557308346, 27.08005250510355, 9.913753488442925, 45.008129786257925, 15.387764095190393, 10.502881256235705, 6.764300960288992, 6.133032725797326, 18.837679644476186, 19.626210388358874, 4.8513810066111365, 4.304723051807506, 6.050639735995737, 3.7663519849162967, 44.838854573280074, 3.340341077759764, 3.156717079747525, 4.737007217430611, 3.0473961672374963, 2.9419490329112383, 4.282679005152027, 2.801064796058759, 13.806842319816598, 2.466916670947958, 3.7755474544561825, 2.3888709771750256, 5.2118464662801784, 2.2681287955632006, 2.222747674698514, 26.81580359099416, 2.911145249281117, 1.9564610686733035, 1.9564610686733035, 1.9564610686733035, 7.03017980306206, 26.454799221237558, 3.159689226815301, 13.55028995497993, 9.863242495225526, 10.359790506465435, 30.702874875853908, 20.43327148206889, 13.036358357866876, 11.697567469499095, 27.185178945061608, 33.1815132465925, 32.0416557308346, 21.151365314714553, 41.82082176461741, 11.944942135246661, 13.963057543790002, 7.916095506795946, 6.602974848857142, 6.2217644016690565, 14.128200865512095, 14.301756322251341, 3.8038878871497452, 3.783364255104719, 3.5783315895419845, 14.565174015671074, 7.915730471224784, 3.321664899588842, 3.2088750895463316, 3.1304608863711936, 3.0158479024618603, 4.409634486928393, 2.900223254810448, 5.834726524686029, 2.477216306985201, 2.4009160398054, 5.465637968839675, 2.319754392843235, 2.2671503852474024, 3.5560380247428456, 30.702874875853908, 2.1738285832658137, 2.164300501004832, 4.567698346094967, 20.43327148206889, 32.0416557308346, 7.691633440605948, 9.023681505685467, 8.650794332853154, 21.18996021772076, 45.008129786257925, 12.577208577480997, 33.99599840412753, 13.806842319816598, 6.23583465208816, 9.902059334109714, 6.615550049231428, 15.134423580173282, 4.88325798107187, 4.435193797569546, 12.726708808437486, 3.671095981600876, 7.639773769699698, 5.1409763815610665, 6.9641516191859205, 3.144805674838492, 3.0534572889791876, 3.0471981814292186, 27.185178945061608, 2.784757204030328, 2.6941528475158707, 2.6738537993945624, 4.12502750809382, 24.202137268876516, 21.151365314714553, 2.4963832729326816, 3.770698928458955, 2.4599850119354794, 2.422434149390778, 2.4172470354344053, 2.4048773050517323, 2.381327887181351, 2.3191224656132827, 2.316099653905515, 9.027107113066062, 8.91880314002817, 6.3776833544582985, 7.239246699125435, 5.9288752179706625, 45.008129786257925, 9.913753488442925, 6.7157471092742265, 27.08005250510355, 23.88943969147783, 44.838854573280074, 4.893545530953182, 11.409419093116455, 9.863242495225526, 34.33925735267074, 33.1815132465925, 26.75453002627021, 22.88306756667927, 11.72169023832257, 10.804463018345732, 8.297443123764085, 7.671284252266728, 6.041346126519398, 11.423303141354538, 5.4509919639809405, 5.365234183945318, 4.894057057771974, 4.773359697022953, 4.206413878159291, 3.6732646960027, 3.4502782436295734, 3.2863178931005286, 3.254862868348041, 3.055504328830867, 4.462392157964829, 3.0210978016145087, 4.592974998599848, 2.9637473517651327, 2.710148267274896, 2.7045941840240424, 2.5642034022782467, 2.5201241027836394, 2.4727914550872154, 2.4510442446772984, 2.4027157530931844, 23.88943969147783, 12.577208577480997, 16.224597281900497, 3.296668924957705, 10.113365199469104, 17.564476956500815, 34.33925735267074, 12.117122942191445, 11.254582985610506, 32.0416557308346, 21.75871808184663, 26.81580359099416, 20.98518775985798, 12.853646379684402, 9.695476265058, 8.68586426138407, 7.958757226356807, 4.817842656229202, 10.46831766617298, 4.740575056445134, 29.514343255579348, 3.849863462858182, 3.641377491746841, 3.6193339904306074, 3.487544959057237, 5.122911089255757, 3.198860188265597, 7.256609168784013, 6.230243039432241, 2.7764287258118654, 2.577393549980816, 2.5229736852260536, 2.3558827192136333, 3.6329603988461723, 2.3234476093369936, 2.3202309727729795, 2.24537549737628, 13.046870859705761, 4.4374585612659025, 2.0862224784061207, 2.0390000775694914, 12.117122942191445, 4.123998542004694, 17.564476956500815, 27.08005250510355, 11.952099994906337, 3.5277639374947687, 5.239480420035222, 27.553506824894345, 4.342651113482167, 45.008129786257925, 19.43036913530051, 11.442701557155845, 28.201567081060727, 9.616055861682458, 14.372840592370787, 6.233872970667981, 6.0327442029843805, 6.005607092320054, 5.9530455281339645, 5.38314458705787, 4.973532765994391, 4.3956721577433076, 3.489272193810396, 3.489272193810396, 3.350819024741311, 3.173400319202111, 3.0579522403400756, 21.18996021772076, 4.301365012692623, 2.9115831793842624, 4.42356685853816, 2.858067666818757, 2.608628780402117, 2.554783793146055, 7.312841170001973, 2.498870165390019, 20.546143729243195, 3.9125336186219477, 2.435813234200389, 3.9588132263281803, 8.030561221199498, 2.31004078458903, 2.3039744783371057, 7.106444932200087, 3.4055461501992967, 8.181625062921217, 46.78933718916279, 28.201567081060727, 11.409419093116455, 8.650794332853154, 10.113365199469104, 5.529500940603283, 33.99599840412753, 25.292458810083364, 8.455757161146874, 60.375564624507554, 20.20350277870388, 32.699828131180475, 11.952099994906337, 22.793107659599855, 11.14526729138248, 7.206915905682144, 6.782677354755956, 6.668053113259862, 6.498415281915308, 6.330675102657039, 5.168345657752642, 5.043069841229158, 4.5136691040203285, 4.453065333601541, 4.41258127794563, 4.337273345349064, 4.092039456270428, 3.7160073320076163, 3.511672241754663, 3.4368116463244602, 3.010148401738137, 21.75871808184663, 2.9507687345553837, 15.714533612086871, 4.529602496284743, 2.756246203223851, 5.778820902935775, 2.721327076832548, 2.601334100291865, 3.386410629652859, 4.857070964136192, 27.553506824894345, 1.9715460784948702, 2.9406528063736137, 3.2157209438256498, 20.20350277870388, 7.246546166379506, 33.99599840412753, 11.697567469499095, 26.81580359099416, 13.046870859705761, 11.952099994906337, 10.359790506465435, 16.636284378855777, 8.196993965025312, 7.852320956530781, 7.317162538334248, 6.344104656939114, 5.5625410414989425, 3.75659460980698, 3.7449673800927683, 3.4295418838287577, 3.213700254678745, 3.2091020237246903, 3.1901053948199563, 3.15110850217667, 19.43036913530051, 3.134297783099812, 3.039408235187829, 12.516508001237858, 2.6390510342970543, 11.442701557155845, 2.393551389183634, 34.33925735267074, 2.134398492537848, 2.1059509469975874, 2.1042468419682843, 2.017445164947179, 3.0859623268626004, 9.865113001013905, 1.8516559864179083, 1.8258373006047033, 1.8204726730260268, 2.686493255138177, 13.036358357866876, 33.99599840412753, 26.454799221237558, 8.772319879652727, 3.6233732086996775, 8.6456788313317, 3.583892034862496, 45.008129786257925, 7.491230360872854, 46.78933718916279, 16.224597281900497, 20.20350277870388, 8.915608555956526, 8.3975886855688, 7.741969206783123, 7.036532901295914, 6.9160356876040145, 5.40932902427061, 4.8923133048834755, 4.8884560153224434, 4.626201673808168, 4.3988120992591755, 4.3381803178531495, 3.6891727165831685, 3.5371771896716946, 3.242981229836197, 3.226292557883488, 3.123189331489586, 6.783811035023554, 8.971815075545027, 2.6685540189007444, 2.5843533071934033, 2.5659315202947917, 2.4074468218066682, 2.3567059803511907, 2.2207909464929187, 3.3238567917267092, 11.254582985610506, 2.140515118919016, 2.106386982027584, 2.090666919330588, 2.07905241898993, 6.23583465208816, 3.827749969376538, 20.546143729243195, 6.277718480714794, 29.514343255579348, 46.78933718916279, 45.008129786257925, 28.201567081060727, 27.185178945061608, 13.55028995497993], \"loglift\": [30.0, 29.0, 28.0, 27.0, 26.0, 25.0, 24.0, 23.0, 22.0, 21.0, 20.0, 19.0, 18.0, 17.0, 16.0, 15.0, 14.0, 13.0, 12.0, 11.0, 10.0, 9.0, 8.0, 7.0, 6.0, 5.0, 4.0, 3.0, 2.0, 1.0, 2.1816, 2.1745, 2.0903, 2.0798, 2.0297, 2.0253, 1.9954, 1.9854, 1.9618, 1.9471, 1.9271, 1.9228, 1.9136, 1.9018, 1.9008, 1.8898, 1.8801, 1.8644, 1.8557, 1.8187, 1.809, 1.7913, 1.7903, 1.7859, 1.7808, 1.7385, 1.7272, 1.7196, 1.7128, 1.6861, 1.6265, 1.581, 1.5293, 0.8066, 0.7629, 0.4765, 1.3519, 0.382, 0.3969, 0.9199, -0.7723, 2.1864, 2.1642, 2.1243, 2.1125, 2.1111, 2.1089, 2.0782, 2.0568, 2.0305, 2.0289, 2.016, 1.9997, 1.9843, 1.9817, 1.9741, 1.9635, 1.9526, 1.9479, 1.9422, 1.9022, 1.9012, 1.8894, 1.8754, 1.8673, 1.8583, 1.8336, 1.7968, 1.7945, 1.7945, 1.7945, 1.7898, 1.6875, 1.7723, 1.4979, 1.4374, 1.3945, 1.0045, 0.9054, 1.0867, 0.9316, 0.0668, -0.159, -0.15, 0.1665, 2.2274, 2.1843, 2.162, 2.1524, 2.133, 2.1258, 2.1172, 2.1162, 2.0425, 2.0413, 2.0283, 2.0155, 2.0118, 2.0095, 2.0002, 1.9932, 1.9823, 1.978, 1.9703, 1.9244, 1.915, 1.9026, 1.8967, 1.8882, 1.8782, 1.8772, 1.8688, 1.8591, 1.857, 1.854, 1.7947, 1.7668, 1.7928, 1.7747, 1.3602, 0.6418, 0.0031, 0.8384, -0.1112, 0.6699, 1.3619, 2.1795, 2.1414, 2.102, 2.099, 2.0822, 2.0461, 2.0429, 2.0278, 2.0271, 2.0174, 2.0033, 1.9948, 1.9942, 1.9727, 1.9661, 1.9549, 1.9522, 1.9486, 1.9463, 1.9419, 1.9271, 1.9233, 1.9214, 1.9153, 1.9144, 1.9124, 1.9084, 1.8973, 1.8968, 1.8901, 1.8713, 1.8277, 1.8175, 1.8276, 1.2667, 1.5707, 1.6136, 0.9212, 0.8193, 0.3669, 1.5768, 0.9536, 1.0189, -0.0353, -0.1745, 2.2677, 2.2632, 2.233, 2.2277, 2.2067, 2.1993, 2.1721, 2.1688, 2.158, 2.1556, 2.1412, 2.137, 2.1139, 2.0848, 2.0697, 2.057, 2.0544, 2.0366, 2.0346, 2.0333, 2.0282, 2.0275, 1.9985, 1.9978, 1.9787, 1.9722, 1.9649, 1.9615, 1.9535, 1.9474, 1.8091, 1.6586, 1.9094, 1.5358, 1.0195, 0.5239, 1.0952, 0.9688, 0.1021, 0.3245, -0.0248, 2.2645, 2.2427, 2.2239, 2.215, 2.207, 2.1429, 2.1411, 2.1402, 2.1009, 2.0998, 2.0872, 2.0857, 2.0768, 2.0766, 2.0542, 2.049, 2.0169, 2.0112, 1.9853, 1.9773, 1.9501, 1.9471, 1.9443, 1.9437, 1.9294, 1.9282, 1.9138, 1.8948, 1.8833, 1.8636, 1.8588, 1.7725, 1.7039, 1.5161, 1.7942, 1.6511, 0.7673, 1.6573, 0.1585, 0.6273, 0.8312, 0.048, 2.2344, 2.2047, 2.1913, 2.1871, 2.1865, 2.1854, 2.1713, 2.1591, 2.1375, 2.0877, 2.0877, 2.0774, 2.0627, 2.052, 2.0471, 2.0416, 2.0372, 2.0342, 2.0313, 2.0002, 1.9925, 1.9913, 1.9842, 1.9799, 1.9794, 1.9742, 1.9725, 1.9719, 1.9523, 1.9511, 1.9157, 1.9288, 1.8384, 1.6421, 1.5816, 1.6641, 1.6464, 1.4903, 1.7272, 0.775, 0.8807, 1.4404, -0.1561, 0.4314, -0.0267, 0.8765, 2.293, 2.2597, 2.2229, 2.2162, 2.2142, 2.2112, 2.208, 2.18, 2.1762, 2.1573, 2.1549, 2.1532, 2.1499, 2.1385, 2.1177, 2.1043, 2.0989, 2.0625, 2.0607, 2.0564, 2.0519, 2.0394, 2.0345, 2.032, 2.0302, 2.0144, 1.9779, 1.9539, 1.9406, 1.8912, 1.8665, 1.8585, 1.3875, 1.6259, 1.0306, 1.2927, 0.7608, 0.9844, 0.972, 1.0438, 2.3462, 2.3005, 2.2965, 2.2894, 2.2733, 2.2559, 2.1853, 2.1846, 2.1636, 2.1465, 2.1461, 2.1445, 2.1411, 2.1397, 2.1396, 2.1307, 2.108, 2.085, 2.0541, 2.048, 2.0124, 1.9974, 1.991, 1.9906, 1.9693, 1.9371, 1.9342, 1.9216, 1.9131, 1.9113, 1.9034, 1.8397, 1.4762, 1.3385, 1.5805, 1.8075, 1.5038, 1.7848, 0.7166, 1.3017, 0.0727, 0.7469, 0.4955, 2.4284, 2.4232, 2.4156, 2.4058, 2.4039, 2.3726, 2.3571, 2.357, 2.3477, 2.3386, 2.336, 2.3023, 2.2924, 2.2702, 2.2689, 2.2599, 2.246, 2.2191, 2.2105, 2.1992, 2.1966, 2.1722, 2.1635, 2.1379, 2.1297, 2.1229, 2.121, 2.1133, 2.1096, 2.1069, 1.791, 1.9192, 1.1256, 1.6184, 0.6651, 0.1293, 0.1037, 0.2974, 0.2909, 0.6355], \"logprob\": [30.0, 29.0, 28.0, 27.0, 26.0, 25.0, 24.0, 23.0, 22.0, 21.0, 20.0, 19.0, 18.0, 17.0, 16.0, 15.0, 14.0, 13.0, 12.0, 11.0, 10.0, 9.0, 8.0, 7.0, 6.0, 5.0, 4.0, 3.0, 2.0, 1.0, -2.8934, -3.1314, -4.4173, -2.1589, -4.8624, -3.741, -5.0556, -4.7413, -4.1527, -2.8902, -4.9171, -5.3865, -2.9382, -3.2069, -5.4722, -4.1263, -5.5482, -5.6032, -5.6327, -5.7521, -5.7818, -4.8353, -5.8376, -5.338, -5.8651, -5.9822, -6.012, -5.271, -4.2551, -6.1161, -3.9602, -4.7445, -5.1598, -4.1933, -4.3898, -4.0171, -5.2391, -4.4902, -4.6435, -5.1254, -5.3046, -3.4193, -3.8234, -4.3033, -4.4131, -3.2922, -3.2535, -4.6818, -4.8228, -4.5085, -4.9842, -2.5202, -5.1335, -5.2054, -4.8021, -5.2508, -5.2966, -4.9321, -5.3613, -3.7718, -5.534, -5.1095, -5.579, -4.8129, -5.6529, -5.6822, -3.2166, -5.4739, -5.8735, -5.8735, -5.8735, -4.5992, -3.3763, -5.4164, -4.2349, -4.613, -4.6068, -3.9104, -4.4167, -4.6848, -4.9482, -4.9698, -4.9963, -5.0222, -5.121, -2.3784, -3.6746, -3.5408, -4.118, -4.3187, -4.3854, -3.5739, -3.5626, -4.9607, -4.9673, -5.036, -3.6451, -4.2585, -5.1292, -5.1731, -5.2048, -5.253, -4.8774, -5.3041, -4.651, -5.5171, -5.5608, -4.7441, -5.6096, -5.6425, -5.1934, -3.0461, -5.7037, -5.7101, -4.9662, -3.5273, -3.1054, -4.5062, -4.3647, -4.8214, -4.6439, -4.5293, -4.969, -4.9241, -5.0441, -5.147, -3.867, -4.3084, -3.5203, -4.6544, -4.7674, -3.7494, -4.9958, -4.2781, -4.6748, -4.3811, -5.1902, -5.2282, -5.2308, -3.0638, -5.349, -5.3933, -5.4035, -4.9735, -3.2064, -3.3456, -5.4973, -5.0887, -5.5177, -5.5391, -5.5422, -5.5493, -5.5632, -5.6007, -5.6026, -4.2489, -4.2798, -4.6587, -4.5422, -4.7318, -3.2657, -4.4746, -4.8212, -4.1192, -4.3465, -4.1692, -5.1745, -4.9511, -5.0315, -4.8382, -5.0117, -2.7848, -2.9456, -3.6447, -3.7316, -4.0165, -4.1025, -4.3685, -3.7347, -4.4855, -4.5037, -4.61, -4.6391, -4.7887, -4.9533, -5.0311, -5.0924, -5.1046, -5.1857, -4.8089, -5.2003, -4.7864, -5.2253, -5.3437, -5.3465, -5.4188, -5.4427, -5.4689, -5.4812, -5.5091, -3.2184, -3.9982, -3.8941, -5.2369, -4.4896, -4.4539, -4.2791, -4.7494, -4.9497, -4.7701, -4.9347, -5.075, -3.0309, -3.5429, -3.8436, -3.9626, -4.0579, -4.624, -3.8497, -4.6429, -2.8535, -4.8914, -4.9597, -4.9672, -5.0133, -4.6289, -5.1223, -4.3083, -4.4929, -5.3068, -5.4072, -5.4365, -5.5322, -5.102, -5.5519, -5.5538, -5.6009, -3.8424, -4.9354, -5.709, -5.7435, -3.981, -5.0636, -3.7008, -3.3365, -4.3422, -5.2844, -5.0319, -4.2557, -5.2135, -4.3739, -4.7451, -5.0707, -4.9518, -3.8414, -3.4692, -4.3179, -4.3549, -4.36, -4.3699, -4.4846, -4.576, -4.7211, -5.0019, -5.0019, -5.0527, -5.1218, -5.1694, -3.2386, -4.8387, -5.2333, -4.8181, -5.2578, -5.3802, -5.4087, -4.3583, -5.4392, -3.3366, -4.9956, -5.4748, -4.9908, -4.2841, -5.5497, -5.5534, -4.4626, -5.1851, -4.3989, -2.8515, -3.4183, -4.2407, -4.5352, -4.5351, -4.902, -4.038, -4.228, -4.764, -4.3947, -4.9019, -4.8786, -4.9818, -2.9197, -3.6685, -4.1413, -4.2086, -4.2276, -4.2564, -4.2858, -4.5166, -4.545, -4.6748, -4.6907, -4.7016, -4.722, -4.7917, -4.9089, -4.9789, -5.0058, -5.1748, -3.1985, -5.2007, -3.5327, -4.7891, -5.2908, -4.553, -5.3079, -5.3688, -5.1415, -4.8049, -3.0825, -5.7692, -5.3941, -5.3126, -3.9458, -4.7328, -3.7824, -4.5871, -4.2894, -4.7863, -4.8863, -4.9575, -3.1815, -3.9349, -3.9819, -4.0596, -4.2184, -4.3672, -4.8304, -4.8342, -4.9432, -5.0253, -5.0271, -5.0347, -5.0504, -3.2327, -5.0573, -5.0969, -3.7042, -5.2838, -3.8477, -5.4185, -2.7906, -5.5836, -5.6035, -5.6047, -5.6681, -5.2753, -4.116, -5.8016, -5.8241, -5.8288, -5.4476, -3.9318, -3.3368, -3.7253, -4.5871, -5.2443, -4.6784, -5.278, -3.8157, -5.0238, -4.4208, -4.8058, -4.8378, -3.7231, -3.7881, -3.877, -3.9823, -4.0015, -4.2785, -4.3944, -4.3953, -4.4598, -4.5193, -4.5358, -4.7315, -4.7835, -4.8925, -4.899, -4.9405, -4.1787, -3.926, -5.1471, -5.1906, -5.2003, -5.2885, -5.3184, -5.4034, -5.0084, -3.7956, -5.4572, -5.481, -5.4921, -5.5004, -4.7179, -5.0777, -4.1909, -4.8838, -4.2893, -4.3643, -4.4287, -4.7025, -4.7456, -5.0973]}, \"token.table\": {\"Topic\": [2, 4, 3, 7, 3, 10, 2, 2, 5, 6, 10, 3, 2, 3, 5, 9, 3, 10, 2, 3, 5, 1, 3, 4, 3, 7, 10, 1, 2, 7, 2, 8, 7, 1, 4, 5, 7, 10, 6, 5, 7, 1, 2, 8, 2, 6, 9, 5, 6, 7, 9, 6, 9, 8, 10, 5, 10, 2, 4, 6, 8, 6, 2, 10, 2, 3, 3, 8, 1, 1, 4, 2, 6, 6, 7, 5, 6, 8, 10, 6, 9, 9, 2, 1, 2, 3, 5, 2, 9, 10, 4, 6, 8, 7, 3, 9, 7, 9, 1, 2, 7, 4, 4, 1, 6, 9, 7, 1, 7, 7, 8, 10, 3, 8, 9, 2, 8, 9, 3, 4, 2, 4, 8, 1, 1, 4, 6, 2, 5, 8, 2, 5, 8, 2, 6, 5, 6, 1, 4, 6, 5, 4, 1, 6, 7, 9, 9, 10, 5, 6, 2, 4, 2, 4, 9, 4, 3, 6, 9, 3, 7, 9, 3, 4, 5, 9, 6, 8, 1, 7, 7, 1, 2, 7, 8, 2, 4, 5, 6, 10, 10, 3, 5, 10, 5, 4, 4, 8, 6, 4, 10, 7, 6, 2, 5, 2, 9, 5, 4, 6, 10, 6, 10, 4, 6, 7, 8, 3, 3, 1, 6, 7, 8, 1, 9, 4, 6, 8, 10, 6, 4, 5, 9, 9, 7, 5, 10, 4, 8, 7, 8, 1, 6, 7, 7, 7, 6, 1, 2, 3, 5, 5, 2, 7, 1, 2, 4, 8, 2, 4, 10, 3, 2, 3, 1, 3, 4, 6, 7, 8, 9, 10, 9, 6, 8, 10, 1, 3, 4, 10, 2, 7, 6, 7, 5, 2, 3, 8, 1, 3, 6, 7, 10, 5, 6, 1, 2, 7, 7, 6, 9, 1, 9, 5, 9, 10, 6, 7, 8, 10, 2, 8, 10, 3, 10, 4, 9, 1, 2, 3, 7, 10, 5, 2, 3, 10, 10, 6, 5, 1, 5, 6, 2, 6, 10, 4, 7, 4, 10, 3, 2, 8, 9, 6, 5, 3, 6, 3, 7, 4, 7, 10, 9, 2, 8, 2, 9, 6, 8, 8, 1, 4, 7, 7, 9, 8, 9, 4, 1, 2, 4, 9, 7, 8, 1, 5, 9, 7, 4, 8, 5, 1, 3, 5, 5, 8, 6, 1, 2, 2, 4, 2, 5, 7, 1, 8, 8, 1, 4, 9, 8, 5, 2, 2, 3, 8, 10, 8, 1, 2, 4, 1, 4, 2, 5, 4, 4, 5, 4, 9, 9, 10, 4, 6, 8, 10, 3, 4, 8, 5, 8, 1, 3, 3, 9, 3, 8, 10, 1, 9, 3, 5, 5, 1, 2, 3, 9, 3, 6, 5, 6, 8, 8, 2, 3, 10, 3, 6, 10, 3, 6, 7, 8, 9, 10, 1, 5, 6, 9, 3, 6, 1, 4, 5, 7, 8, 9, 10, 7, 2, 4, 9, 1, 4, 10, 4, 7, 1, 9, 10, 2, 4, 6, 8, 2, 8, 1, 4, 10, 3, 5, 9, 8, 6, 1, 1, 10, 8, 5, 5, 7, 8, 9, 10, 9, 7, 10, 3, 10, 2, 4, 8, 10, 4, 3, 7, 8, 9, 6, 5, 4, 9, 2, 6, 8, 9, 10, 6, 2, 9, 6, 8, 3, 7, 4, 5, 7, 10, 8, 5, 5, 7, 6, 3, 5, 10], \"Freq\": [0.714014185896057, 0.825615837897176, 0.9086813349044475, 0.828810211698768, 0.462043047874232, 0.9298598766777864, 0.7004961138556088, 0.6870148442417578, 0.739482474603377, 0.826832458582776, 0.13780540976379602, 0.903161544191692, 0.2279898621388593, 0.11399493106942965, 0.11399493106942965, 0.4559797242777186, 0.9310281762594098, 0.8182542683134194, 0.18296125826502455, 0.7318450330600982, 0.9319257703534679, 0.6535046441315172, 0.1867156126090049, 0.09335780630450245, 0.18876864132358664, 0.7550745652943466, 0.9243290577382093, 0.5844850692932524, 0.25260095458645954, 0.7578028637593786, 0.6335696071185323, 0.971289257653332, 0.8210810138965952, 0.8365428927509095, 0.9089018451947282, 0.8694950923274245, 0.47788062003991194, 0.47788062003991194, 0.9335872207412196, 0.18084814719118167, 0.542544441573545, 0.8394742095328888, 0.15263167446052522, 0.9233020266798942, 0.815257348777635, 0.20586330461076627, 0.7719873922903735, 0.2313294350875093, 0.2313294350875093, 0.11566471754375465, 0.4626588701750186, 0.8489386944811824, 0.5400571204020106, 0.7931676788011865, 0.9005800402592632, 0.9172642398005711, 0.8481339325493182, 0.8817841402623605, 0.07258604186792725, 0.21775812560378174, 0.6895673977453088, 0.7792484146367015, 0.8981118784468509, 0.8131904441650905, 0.7242785691589497, 0.21728357074768492, 0.6388835614293156, 0.7739420435241022, 0.9610008756758971, 0.27627183920139337, 0.6906795980034834, 0.899787242054487, 0.8288817798887572, 0.8257728327985077, 0.766686320041176, 0.13799677488284276, 0.13799677488284276, 0.551987099531371, 0.13799677488284276, 0.8619831488628644, 0.6269385341461035, 0.7578481711827624, 0.8263589005728771, 0.1560468673030638, 0.09362812038183828, 0.6241874692122552, 0.12483749384245103, 0.7965267218822278, 0.744464925111875, 0.7738879952803325, 0.5956150425134579, 0.29780752125672894, 0.14890376062836447, 0.686911510603986, 0.8073578372467689, 0.7985956195987155, 0.3240480258930018, 0.6480960517860036, 0.12222510715285136, 0.12222510715285136, 0.6111255357642568, 0.6746642243162475, 0.8623951644015952, 0.8272585217208186, 0.7808060554455396, 0.9335033644262174, 0.6302387971344443, 0.7512120566318865, 0.2372248599890168, 0.6540324513955063, 0.6623097727583493, 0.22076992425278313, 0.8493650475548391, 0.07078042062956992, 0.9566549824918267, 0.3068341549222735, 0.07670853873056838, 0.613668309844547, 0.8383795422335332, 0.839867542292671, 0.4055461479261277, 0.30415961094459576, 0.20277307396306385, 0.49098442954661586, 0.14771020105098223, 0.2584928518392189, 0.5539132539411833, 0.7112193628137653, 0.2844877451255061, 0.8861969957959915, 0.6712459665406086, 0.11187432775676812, 0.22374865551353623, 0.2253542171027561, 0.6760626513082684, 0.7799693262332612, 0.937834048204083, 0.8541402435931139, 0.24248311191543137, 0.7274493357462941, 0.9128757769594842, 0.906954063584941, 0.7566378337126011, 0.10809111910180015, 0.6837287838973605, 0.1367457567794721, 0.22292033252574617, 0.7802211638401116, 0.33011136546878833, 0.6602227309375767, 0.8870096163999867, 0.6549952433323957, 0.8028751033585225, 0.15611460343082384, 0.022302086204403403, 0.8273875076407234, 0.19085861952572725, 0.5725758585771817, 0.19085861952572725, 0.20273462653640625, 0.10136731326820313, 0.6082038796092188, 0.029121188898461277, 0.08736356669538384, 0.17472713339076767, 0.6989085335630707, 0.8597369975772077, 0.09552633306413419, 0.9631300502577902, 0.6974530157630175, 0.6997734949453278, 0.5487667305056245, 0.8444150106593317, 0.7035866804996191, 0.28143467219984764, 0.14183481564251382, 0.756452350093407, 0.04727827188083794, 0.09455654376167588, 0.9526544225425027, 0.8675490224485286, 0.6500569792631848, 0.130011395852637, 0.260022791705274, 0.8323914293337694, 0.8011590294187702, 0.7853635697691408, 0.1308939282948568, 0.9530531834581667, 0.8589689545250032, 0.06607453496346179, 0.8657855797796279, 0.8607897987296168, 0.5111269608232534, 0.870895226126723, 0.15978897627055438, 0.7190503932174946, 0.672285154195909, 0.6646647619053339, 0.22155492063511129, 0.11077746031755564, 0.7759777314624251, 0.6017106407767407, 0.23652524095532745, 0.11826262047766373, 0.4730504819106549, 0.23652524095532745, 0.6896020837991369, 0.9208918616308435, 0.7975302701384276, 0.8238640478224192, 0.7471457890341318, 0.2490485963447106, 0.5387012280392128, 0.4685160730276648, 0.06363535976854238, 0.12727071953708477, 0.7636243172225087, 0.8307556295258477, 0.7927153627132674, 0.8130130835335577, 0.9509287758793682, 0.8988697724111795, 0.475229417031993, 0.7667665744062397, 0.26655807717048563, 0.7108215391212951, 0.20588540035421232, 0.617656201062637, 0.839906225539534, 0.590595831021538, 0.8778385813800956, 0.03312598420302248, 0.0828149605075562, 0.8325552975974702, 0.6781857482745043, 0.47933526282585287, 0.34817876423514627, 0.34817876423514627, 0.7929450609869876, 0.808802536051088, 0.9614095634640728, 0.8661886153061628, 0.10190454297719562, 0.30260990486572875, 0.10086996828857625, 0.5043498414428812, 0.10086996828857625, 0.11035424876410359, 0.7724797413487251, 0.11035424876410359, 0.8621602382434443, 0.5111269608232534, 0.9643566700131613, 0.04443641647626622, 0.11109104119066554, 0.37770954004826285, 0.11109104119066554, 0.04443641647626622, 0.04443641647626622, 0.17774566590506488, 0.08887283295253244, 0.6580228272219589, 0.17304568125514616, 0.6921827250205846, 0.640371039896615, 0.5739344672052448, 0.12754099271227662, 0.12754099271227662, 0.12754099271227662, 0.5111269608232534, 0.5872773152356069, 0.0695756690247304, 0.9044836973214953, 0.9717980459559806, 0.29313215900436723, 0.6839750376768569, 0.6644190694535687, 0.2482131570873229, 0.03545902244104612, 0.10637706732313838, 0.4964263141746458, 0.10637706732313838, 0.9124938888728604, 0.49043646981711253, 0.7610237792349326, 0.9748004912999938, 0.804257293195947, 0.9288251354089534, 0.26217584938444105, 0.6991355983585095, 0.5760455910270458, 0.3840303940180305, 0.7936117105466636, 0.14740976640374948, 0.7370488320187474, 0.41833652681377037, 0.2510019160882622, 0.2510019160882622, 0.8176091249117725, 0.7945867549510407, 0.8998128686270668, 0.9250747344447411, 0.48109036999488214, 0.48109036999488214, 0.6563406384884182, 0.9348409548282316, 0.7339488117099652, 0.030581200487915215, 0.06116240097583043, 0.09174360146374565, 0.030581200487915215, 0.6748213537192537, 0.24469894624498695, 0.6362172602369661, 0.04893978924899739, 0.4747465724638174, 0.8907196156442426, 0.8159787422618794, 0.1138661859930749, 0.28466546498268724, 0.5693309299653745, 0.16050738208298362, 0.8025369104149181, 0.4809883535720719, 0.778062317957079, 0.7828451101676694, 0.8635207024134333, 0.8646402128654509, 0.562423682222754, 0.6798214304959858, 0.8982576495828972, 0.9617532157802932, 0.5669313580602828, 0.6066729918976196, 0.9089792684954359, 0.06992148219195661, 0.9349070675182117, 0.859778152395702, 0.7181954667737053, 0.9099859717594495, 0.46717726549159394, 0.8010750683563193, 0.31097225706728426, 0.6219445141345685, 0.9292119264955835, 0.495676421532965, 0.460548164643209, 0.2302740823216045, 0.7256245823252997, 0.17529376243236106, 0.2629406436485416, 0.5258812872970832, 0.8953034997858784, 0.9759675356763906, 0.7349355456117657, 0.8914561743911008, 0.7423483793223126, 0.7835688446990888, 0.09041178977297179, 0.09041178977297179, 0.030137263257657265, 0.9359346627615502, 0.9064988830896468, 0.9410063706170667, 0.8379841985289141, 0.5476939263256412, 0.859778152395702, 0.8171946511438725, 0.8073181056882401, 0.9255434520919945, 0.47311023874772573, 0.8238830505621744, 0.1373138417603624, 0.8173178107206224, 0.9222383929962062, 0.8795343042778443, 0.7216259752509092, 0.1804064938127273, 0.3135934929415877, 0.6271869858831755, 0.9024466028110286, 0.053085094283001684, 0.8680651712094921, 0.5932508503776259, 0.29662542518881296, 0.6801210927264759, 0.40870162285185335, 0.40870162285185335, 0.6381014627212623, 0.8542938501860305, 0.964152435957988, 0.810728640960322, 0.8372155797066582, 0.6855505537537157, 0.1713876384384289, 0.7794440280971436, 0.6777894779006991, 0.5192056584047885, 0.6329736427958235, 0.31648682139791173, 0.8043261047439427, 0.7956084685939295, 0.7674823166567486, 0.19187057916418715, 0.8316432592210675, 0.6727360056947113, 0.22424533523157042, 0.901877163111107, 0.8747524018137329, 0.5580525251723255, 0.27902626258616275, 0.8615550505061196, 0.1435925084176866, 0.7331307608490812, 0.9220455829230016, 0.656785928642764, 0.7857491006135264, 0.15714982012270529, 0.7379670050343913, 0.7688362674273956, 0.685819832448982, 0.195948523556852, 0.7579843732440316, 0.12633072887400526, 0.6803284963624506, 0.8972418281732911, 0.9041627282457999, 0.5339576821575586, 0.4004682616181689, 0.8842743236221088, 0.816712175211507, 0.6545564282559088, 0.4999153437191537, 0.6562979967954169, 0.8821646825963644, 0.8355784668079083, 0.6631634169506309, 0.8302471220865262, 0.13787576955201739, 0.045958589850672464, 0.7812960274614319, 0.8846064299067463, 0.11081951411626612, 0.6649170846975967, 0.11081951411626612, 0.8330153853118932, 0.8131639519189733, 0.16940915664978612, 0.049496367583054986, 0.14848910274916496, 0.14848910274916496, 0.3959709406644399, 0.14848910274916496, 0.09899273516610997, 0.9557093917145515, 0.8276301167469526, 0.2759859231720904, 0.5519718463441808, 0.4600178724753298, 0.7203498441744342, 0.17097912645475424, 0.04274478161368856, 0.04274478161368856, 0.5129373793642628, 0.02137239080684428, 0.10686195403422141, 0.08548956322737712, 0.8003617105444306, 0.5670048702527366, 0.037800324683515775, 0.340202922151642, 0.6727584666943706, 0.635969343353056, 0.9093364094078169, 0.7272678773932113, 0.9624835199933628, 0.46374928840235907, 0.5493078884495308, 0.7494695576085278, 0.2564635773909722, 0.17097571826064814, 0.17097571826064814, 0.3419514365212963, 0.9521196856398678, 0.9477662180897182, 0.24791198948019705, 0.7437359684405912, 0.478316268724523, 0.2385266954522312, 0.6360711878726166, 0.07950889848407708, 0.8729020699194808, 0.9210367280970173, 0.7140868866048812, 0.261250083730751, 0.522500167461502, 0.507216144176263, 0.662011007697658, 0.5547133061995958, 0.12326962359991017, 0.12326962359991017, 0.18490443539986526, 0.8973027415672251, 0.9457599337421496, 0.7300640060572825, 0.24335466868576083, 0.980372892497491, 0.8526926661417278, 0.3861081937423003, 0.09652704843557508, 0.28958114530672524, 0.09652704843557508, 0.7479840522517939, 0.08824568010439025, 0.20590658691024394, 0.26473704031317075, 0.4118131738204879, 0.8602039644561223, 0.9216978168799494, 0.8191252674965176, 0.6346972814863321, 0.44279495272312697, 0.07379915878718783, 0.14759831757437566, 0.14759831757437566, 0.14759831757437566, 0.8437794892756161, 0.8245074947832521, 0.4748448682651798, 0.6898205781890426, 0.2299401927296809, 0.46238528464480827, 0.46238528464480827, 0.25115699980776035, 0.7116114994553211, 0.04185949996796006, 0.8486421372351102, 0.965204057671977, 0.9384312139589651, 0.4943952780685179, 0.3955162224548143, 0.9282679627029298, 0.7886667769927103, 0.8754035392616074, 0.08754035392616073], \"Term\": [\"accuse\", \"afford\", \"afraid\", \"ago\", \"alibi\", \"alive\", \"alright\", \"answer\", \"anybody\", \"anymore\", \"anymore\", \"anytime\", \"apart\", \"apart\", \"apart\", \"apart\", \"away\", \"baby\", \"be\", \"be\", \"bear\", \"because\", \"because\", \"because\", \"believe\", \"believe\", \"belong\", \"birth\", \"blood\", \"blood\", \"book\", \"break\", \"breathing\", \"burden\", \"burn\", \"busy\", \"buy\", \"buy\", \"call\", \"car\", \"car\", \"care\", \"care\", \"cause\", \"chance\", \"change\", \"change\", \"child\", \"child\", \"child\", \"child\", \"clear\", \"clock\", \"close\", \"cloud\", \"cold\", \"colony\", \"color\", \"come\", \"come\", \"come\", \"commit\", \"company\", \"complain\", \"control\", \"control\", \"conversation\", \"cool\", \"corner\", \"count\", \"count\", \"cover\", \"crazy\", \"crime\", \"crisis\", \"cry\", \"cry\", \"cry\", \"cry\", \"da\", \"damn\", \"danger\", \"dark\", \"day\", \"day\", \"day\", \"day\", \"dead\", \"deal\", \"deceive\", \"deep\", \"deep\", \"deep\", \"defend\", \"deny\", \"depend\", \"desert\", \"desert\", \"die\", \"die\", \"die\", \"door\", \"drain\", \"dream\", \"drive\", \"earth\", \"elevate\", \"end\", \"end\", \"enemy\", \"explain\", \"explain\", \"eye\", \"eye\", \"face\", \"fall\", \"fall\", \"fall\", \"family\", \"fantasy\", \"far\", \"far\", \"far\", \"fate\", \"feel\", \"feel\", \"feel\", \"feeling\", \"feeling\", \"final\", \"find\", \"find\", \"find\", \"fire\", \"fire\", \"flow\", \"flower\", \"follow\", \"fool\", \"fool\", \"foolish\", \"foot\", \"forever\", \"forever\", \"forget\", \"forget\", \"free\", \"free\", \"friend\", \"friend\", \"future\", \"gate\", \"get\", \"get\", \"get\", \"gift\", \"girl\", \"girl\", \"girl\", \"give\", \"give\", \"give\", \"go\", \"go\", \"go\", \"go\", \"god\", \"god\", \"good\", \"goodbye\", \"grass\", \"gray\", \"ground\", \"guess\", \"guess\", \"hand\", \"hand\", \"hand\", \"hand\", \"hang\", \"happen\", \"hard\", \"hard\", \"hard\", \"hate\", \"have\", \"head\", \"head\", \"hear\", \"heart\", \"heart\", \"heat\", \"heaven\", \"heavy\", \"help\", \"hey\", \"hey\", \"hide\", \"high\", \"high\", \"high\", \"hill\", \"hit\", \"hold\", \"hold\", \"hold\", \"hold\", \"holiday\", \"home\", \"hope\", \"hour\", \"hurt\", \"hurt\", \"innocence\", \"insane\", \"inside\", \"inside\", \"inside\", \"intoxicate\", \"island\", \"jesus\", \"jetstream\", \"joe\", \"jolene\", \"key\", \"kind\", \"kind\", \"kiss\", \"kiss\", \"knee\", \"kneel\", \"know\", \"know\", \"know\", \"la\", \"land\", \"language\", \"late\", \"late\", \"later\", \"learn\", \"leave\", \"let\", \"let\", \"lie\", \"lie\", \"lie\", \"lie\", \"life\", \"life\", \"life\", \"lifetime\", \"lift\", \"light\", \"like\", \"like\", \"like\", \"like\", \"like\", \"like\", \"like\", \"like\", \"limit\", \"line\", \"line\", \"listen\", \"live\", \"live\", \"live\", \"live\", \"load\", \"lonely\", \"long\", \"long\", \"look\", \"lose\", \"lose\", \"lot\", \"love\", \"love\", \"love\", \"love\", \"love\", \"lover\", \"low\", \"luck\", \"man\", \"matter\", \"maybe\", \"mean\", \"mean\", \"meet\", \"meet\", \"mess\", \"mile\", \"mile\", \"mind\", \"mind\", \"mind\", \"miss\", \"mistake\", \"moment\", \"money\", \"morning\", \"morning\", \"music\", \"near\", \"need\", \"need\", \"need\", \"need\", \"need\", \"nerve\", \"night\", \"night\", \"night\", \"notice\", \"number\", \"obtain\", \"oh\", \"oh\", \"oh\", \"old\", \"old\", \"one\", \"open\", \"overtime\", \"own\", \"pain\", \"paper\", \"payroll\", \"peace\", \"people\", \"perfect\", \"person\", \"place\", \"place\", \"politic\", \"port\", \"portrait\", \"pray\", \"present\", \"pretty\", \"problem\", \"problem\", \"pull\", \"pure\", \"rain\", \"rain\", \"reach\", \"real\", \"real\", \"real\", \"realise\", \"reason\", \"regret\", \"remember\", \"return\", \"right\", \"right\", \"right\", \"right\", \"road\", \"rock\", \"room\", \"round\", \"row\", \"royal\", \"ruin\", \"rule\", \"run\", \"satisfaction\", \"say\", \"say\", \"scene\", \"scream\", \"sea\", \"search\", \"search\", \"second\", \"second\", \"see\", \"see\", \"sell\", \"send\", \"send\", \"sensation\", \"sense\", \"sense\", \"set\", \"shack\", \"shake\", \"shaking\", \"shame\", \"shine\", \"shine\", \"shock\", \"shout\", \"show\", \"silence\", \"silence\", \"sinful\", \"single\", \"sit\", \"sit\", \"skin\", \"sky\", \"sky\", \"sleep\", \"smile\", \"soldier\", \"soldier\", \"soul\", \"soul\", \"speak\", \"special\", \"spend\", \"stand\", \"stand\", \"star\", \"stare\", \"start\", \"start\", \"stay\", \"stay\", \"steal\", \"step\", \"stop\", \"strange\", \"strange\", \"stranger\", \"street\", \"strong\", \"submit\", \"superstar\", \"suppose\", \"sure\", \"survive\", \"swear\", \"take\", \"take\", \"take\", \"talk\", \"tear\", \"tear\", \"tear\", \"telephone\", \"tell\", \"tell\", \"thing\", \"thing\", \"thing\", \"thing\", \"thing\", \"thing\", \"think\", \"thought\", \"thousand\", \"thousand\", \"throw\", \"tight\", \"time\", \"time\", \"time\", \"time\", \"time\", \"time\", \"time\", \"tired\", \"to\", \"to\", \"to\", \"today\", \"toe\", \"tomorrow\", \"touch\", \"town\", \"track\", \"treat\", \"trial\", \"true\", \"true\", \"true\", \"true\", \"trust\", \"truth\", \"try\", \"try\", \"tumble\", \"turn\", \"turn\", \"turn\", \"tv\", \"understand\", \"unkind\", \"use\", \"use\", \"value\", \"view\", \"wait\", \"wait\", \"wait\", \"wait\", \"wake\", \"walk\", \"wanna\", \"wanna\", \"want\", \"waste\", \"watch\", \"watch\", \"watch\", \"watch\", \"water\", \"way\", \"way\", \"way\", \"way\", \"west\", \"wheel\", \"wide\", \"wife\", \"will\", \"will\", \"will\", \"will\", \"will\", \"wisdom\", \"wish\", \"wonder\", \"word\", \"word\", \"work\", \"work\", \"world\", \"world\", \"world\", \"wounded\", \"wrong\", \"yeah\", \"year\", \"year\", \"yes\", \"yesterday\", \"young\", \"young\"]}, \"R\": 30, \"lambda.step\": 0.01, \"plot.opts\": {\"xlab\": \"PC1\", \"ylab\": \"PC2\"}, \"topic.order\": [5, 8, 7, 3, 1, 6, 2, 9, 10, 4]};\n",
       "\n",
       "function LDAvis_load_lib(url, callback){\n",
       "  var s = document.createElement('script');\n",
       "  s.src = url;\n",
       "  s.async = true;\n",
       "  s.onreadystatechange = s.onload = callback;\n",
       "  s.onerror = function(){console.warn(\"failed to load library \" + url);};\n",
       "  document.getElementsByTagName(\"head\")[0].appendChild(s);\n",
       "}\n",
       "\n",
       "if(typeof(LDAvis) !== \"undefined\"){\n",
       "   // already loaded: just create the visualization\n",
       "   !function(LDAvis){\n",
       "       new LDAvis(\"#\" + \"ldavis_el60982112134146352721391207\", ldavis_el60982112134146352721391207_data);\n",
       "   }(LDAvis);\n",
       "}else if(typeof define === \"function\" && define.amd){\n",
       "   // require.js is available: use it to load d3/LDAvis\n",
       "   require.config({paths: {d3: \"https://cdnjs.cloudflare.com/ajax/libs/d3/3.5.5/d3.min\"}});\n",
       "   require([\"d3\"], function(d3){\n",
       "      window.d3 = d3;\n",
       "      LDAvis_load_lib(\"https://cdn.rawgit.com/bmabey/pyLDAvis/files/ldavis.v1.0.0.js\", function(){\n",
       "        new LDAvis(\"#\" + \"ldavis_el60982112134146352721391207\", ldavis_el60982112134146352721391207_data);\n",
       "      });\n",
       "    });\n",
       "}else{\n",
       "    // require.js not available: dynamically load d3 & LDAvis\n",
       "    LDAvis_load_lib(\"https://cdnjs.cloudflare.com/ajax/libs/d3/3.5.5/d3.min.js\", function(){\n",
       "         LDAvis_load_lib(\"https://cdn.rawgit.com/bmabey/pyLDAvis/files/ldavis.v1.0.0.js\", function(){\n",
       "                 new LDAvis(\"#\" + \"ldavis_el60982112134146352721391207\", ldavis_el60982112134146352721391207_data);\n",
       "            })\n",
       "         });\n",
       "}\n",
       "</script>"
      ],
      "text/plain": [
       "PreparedData(topic_coordinates=              x         y  topics  cluster       Freq\n",
       "topic                                                \n",
       "4     -0.235324 -0.008356       1        1  10.985576\n",
       "7      0.108760 -0.163221       2        1  10.725640\n",
       "6     -0.024416 -0.213661       3        1  10.600765\n",
       "2      0.019637  0.032896       4        1  10.519355\n",
       "0      0.091236 -0.001494       5        1  10.086164\n",
       "5      0.052030  0.158877       6        1  10.045735\n",
       "1     -0.156221  0.059457       7        1   9.933686\n",
       "8      0.114481  0.103272       8        1   9.789201\n",
       "9      0.053690  0.000359       9        1   9.176038\n",
       "3     -0.023874  0.031871      10        1   8.137841, topic_info=     Category       Freq   Term      Total  loglift  logprob\n",
       "595   Default  60.000000   know  60.000000  30.0000  30.0000\n",
       "1199  Default  41.000000   want  41.000000  29.0000  29.0000\n",
       "447   Default  44.000000    get  44.000000  28.0000  28.0000\n",
       "640   Default  26.000000   look  26.000000  27.0000  27.0000\n",
       "1101  Default  26.000000  think  26.000000  26.0000  26.0000\n",
       "...       ...        ...    ...        ...      ...      ...\n",
       "1116  Topic10   4.333216   time  46.789337   0.1293  -4.3643\n",
       "625   Topic10   4.062785   like  45.008130   0.1037  -4.4287\n",
       "647   Topic10   3.089810   love  28.201567   0.2974  -4.7025\n",
       "620   Topic10   2.959332   life  27.185179   0.2909  -4.7456\n",
       "1229  Topic10   2.081877   will  13.550290   0.6355  -5.0973\n",
       "\n",
       "[453 rows x 6 columns], token_table=      Topic      Freq       Term\n",
       "term                            \n",
       "4         2  0.714014     accuse\n",
       "16        4  0.825616     afford\n",
       "17        3  0.908681     afraid\n",
       "21        7  0.828810        ago\n",
       "24        3  0.462043      alibi\n",
       "...     ...       ...        ...\n",
       "1259      7  0.395516       year\n",
       "1261      6  0.928268        yes\n",
       "1262      3  0.788667  yesterday\n",
       "1263      5  0.875404      young\n",
       "1263     10  0.087540      young\n",
       "\n",
       "[546 rows x 3 columns], R=30, lambda_step=0.01, plot_opts={'xlab': 'PC1', 'ylab': 'PC2'}, topic_order=[5, 8, 7, 3, 1, 6, 2, 9, 10, 4])"
      ]
     },
     "execution_count": 33,
     "metadata": {},
     "output_type": "execute_result"
    }
   ],
   "source": [
    "pyLDAvis.sklearn.prepare(lda_10, tf, c_vec)"
   ]
  },
  {
   "cell_type": "markdown",
   "metadata": {},
   "source": [
    "#### Visualization with 6 Topics"
   ]
  },
  {
   "cell_type": "code",
   "execution_count": 34,
   "metadata": {
    "ExecuteTime": {
     "end_time": "2020-03-12T02:53:33.832817Z",
     "start_time": "2020-03-12T02:53:10.136933Z"
    }
   },
   "outputs": [
    {
     "data": {
      "text/html": [
       "\n",
       "<link rel=\"stylesheet\" type=\"text/css\" href=\"https://cdn.rawgit.com/bmabey/pyLDAvis/files/ldavis.v1.0.0.css\">\n",
       "\n",
       "\n",
       "<div id=\"ldavis_el609821121449465448009235273\"></div>\n",
       "<script type=\"text/javascript\">\n",
       "\n",
       "var ldavis_el609821121449465448009235273_data = {\"mdsDat\": {\"x\": [0.18121707331271222, 0.07913225759155809, -0.16914104186309534, -0.10094490477305665, 0.050155801455921384, -0.040419185724039706], \"y\": [-0.15211954838982905, 0.18384679079776312, -0.12023650147504608, 0.03619842431538641, -0.0171136821654243, 0.06942451691714985], \"topics\": [1, 2, 3, 4, 5, 6], \"cluster\": [1, 1, 1, 1, 1, 1], \"Freq\": [18.457200006856723, 17.41059451008319, 16.752017872889855, 16.25494149805114, 16.075069244290642, 15.050176867828451]}, \"tinfo\": {\"Category\": [\"Default\", \"Default\", \"Default\", \"Default\", \"Default\", \"Default\", \"Default\", \"Default\", \"Default\", \"Default\", \"Default\", \"Default\", \"Default\", \"Default\", \"Default\", \"Default\", \"Default\", \"Default\", \"Default\", \"Default\", \"Default\", \"Default\", \"Default\", \"Default\", \"Default\", \"Default\", \"Default\", \"Default\", \"Default\", \"Default\", \"Topic1\", \"Topic1\", \"Topic1\", \"Topic1\", \"Topic1\", \"Topic1\", \"Topic1\", \"Topic1\", \"Topic1\", \"Topic1\", \"Topic1\", \"Topic1\", \"Topic1\", \"Topic1\", \"Topic1\", \"Topic1\", \"Topic1\", \"Topic1\", \"Topic1\", \"Topic1\", \"Topic1\", \"Topic1\", \"Topic1\", \"Topic1\", \"Topic1\", \"Topic1\", \"Topic1\", \"Topic1\", \"Topic1\", \"Topic1\", \"Topic1\", \"Topic1\", \"Topic1\", \"Topic1\", \"Topic1\", \"Topic1\", \"Topic1\", \"Topic1\", \"Topic1\", \"Topic1\", \"Topic1\", \"Topic1\", \"Topic1\", \"Topic1\", \"Topic2\", \"Topic2\", \"Topic2\", \"Topic2\", \"Topic2\", \"Topic2\", \"Topic2\", \"Topic2\", \"Topic2\", \"Topic2\", \"Topic2\", \"Topic2\", \"Topic2\", \"Topic2\", \"Topic2\", \"Topic2\", \"Topic2\", \"Topic2\", \"Topic2\", \"Topic2\", \"Topic2\", \"Topic2\", \"Topic2\", \"Topic2\", \"Topic2\", \"Topic2\", \"Topic2\", \"Topic2\", \"Topic2\", \"Topic2\", \"Topic2\", \"Topic2\", \"Topic2\", \"Topic2\", \"Topic2\", \"Topic2\", \"Topic2\", \"Topic2\", \"Topic2\", \"Topic2\", \"Topic2\", \"Topic2\", \"Topic2\", \"Topic2\", \"Topic2\", \"Topic2\", \"Topic2\", \"Topic3\", \"Topic3\", \"Topic3\", \"Topic3\", \"Topic3\", \"Topic3\", \"Topic3\", \"Topic3\", \"Topic3\", \"Topic3\", \"Topic3\", \"Topic3\", \"Topic3\", \"Topic3\", \"Topic3\", \"Topic3\", \"Topic3\", \"Topic3\", \"Topic3\", \"Topic3\", \"Topic3\", \"Topic3\", \"Topic3\", \"Topic3\", \"Topic3\", \"Topic3\", \"Topic3\", \"Topic3\", \"Topic3\", \"Topic3\", \"Topic3\", \"Topic3\", \"Topic3\", \"Topic3\", \"Topic3\", \"Topic3\", \"Topic3\", \"Topic3\", \"Topic3\", \"Topic3\", \"Topic3\", \"Topic3\", \"Topic3\", \"Topic4\", \"Topic4\", \"Topic4\", \"Topic4\", \"Topic4\", \"Topic4\", \"Topic4\", \"Topic4\", \"Topic4\", \"Topic4\", \"Topic4\", \"Topic4\", \"Topic4\", \"Topic4\", \"Topic4\", \"Topic4\", \"Topic4\", \"Topic4\", \"Topic4\", \"Topic4\", \"Topic4\", \"Topic4\", \"Topic4\", \"Topic4\", \"Topic4\", \"Topic4\", \"Topic4\", \"Topic4\", \"Topic4\", \"Topic4\", \"Topic4\", \"Topic4\", \"Topic4\", \"Topic4\", \"Topic4\", \"Topic4\", \"Topic4\", \"Topic4\", \"Topic4\", \"Topic4\", \"Topic4\", \"Topic4\", \"Topic4\", \"Topic4\", \"Topic4\", \"Topic4\", \"Topic4\", \"Topic5\", \"Topic5\", \"Topic5\", \"Topic5\", \"Topic5\", \"Topic5\", \"Topic5\", \"Topic5\", \"Topic5\", \"Topic5\", \"Topic5\", \"Topic5\", \"Topic5\", \"Topic5\", \"Topic5\", \"Topic5\", \"Topic5\", \"Topic5\", \"Topic5\", \"Topic5\", \"Topic5\", \"Topic5\", \"Topic5\", \"Topic5\", \"Topic5\", \"Topic5\", \"Topic5\", \"Topic5\", \"Topic5\", \"Topic5\", \"Topic5\", \"Topic5\", \"Topic5\", \"Topic5\", \"Topic5\", \"Topic5\", \"Topic5\", \"Topic5\", \"Topic5\", \"Topic5\", \"Topic5\", \"Topic5\", \"Topic5\", \"Topic5\", \"Topic5\", \"Topic5\", \"Topic5\", \"Topic5\", \"Topic5\", \"Topic6\", \"Topic6\", \"Topic6\", \"Topic6\", \"Topic6\", \"Topic6\", \"Topic6\", \"Topic6\", \"Topic6\", \"Topic6\", \"Topic6\", \"Topic6\", \"Topic6\", \"Topic6\", \"Topic6\", \"Topic6\", \"Topic6\", \"Topic6\", \"Topic6\", \"Topic6\", \"Topic6\", \"Topic6\", \"Topic6\", \"Topic6\", \"Topic6\", \"Topic6\", \"Topic6\", \"Topic6\", \"Topic6\", \"Topic6\", \"Topic6\", \"Topic6\", \"Topic6\", \"Topic6\", \"Topic6\", \"Topic6\", \"Topic6\", \"Topic6\", \"Topic6\", \"Topic6\", \"Topic6\", \"Topic6\", \"Topic6\", \"Topic6\", \"Topic6\", \"Topic6\", \"Topic6\"], \"Freq\": [62.0, 43.0, 33.0, 33.0, 26.0, 31.0, 32.0, 21.0, 33.0, 21.0, 28.0, 20.0, 19.0, 18.0, 26.0, 21.0, 16.0, 22.0, 22.0, 24.0, 27.0, 33.0, 20.0, 23.0, 45.0, 20.0, 19.0, 27.0, 13.0, 13.0, 25.690401588058542, 11.766590974810326, 11.412011967745157, 10.800989267994654, 9.997656948530393, 8.929259721268776, 7.531611196244768, 7.205440988831663, 19.438258488106406, 6.934944561713339, 6.9148856799392755, 5.311019707584698, 10.207456934774987, 4.69445067713092, 4.646686398054161, 4.18303572368219, 4.049357425419037, 3.8613333303793707, 3.6169062346162035, 27.337891892971818, 3.5065360812306148, 11.798652424011264, 3.1506421156519484, 3.111443490196668, 2.9063827836889145, 18.46937293951181, 2.8062991405406947, 2.7625869878700198, 2.6012683224377846, 2.5698411778861145, 16.45781012944014, 17.251690552182147, 7.4254089131550325, 19.664441847655564, 9.517452060783414, 9.758694241406118, 10.354432051571479, 7.656070147759358, 11.939047621504125, 15.790153676350487, 11.42141628690808, 6.495415315845457, 6.081889798079315, 5.44191273638686, 19.90198979504392, 18.970344598757343, 18.134906687328083, 12.146246849821143, 11.947011524184447, 10.307138984589455, 8.858023500751294, 7.870358383347689, 7.365087067985545, 6.870899413766806, 5.747436205667351, 5.039145214826466, 12.466611505386021, 4.008774123601026, 3.944169843703151, 3.7407878870321865, 3.660197609959469, 3.408728104270678, 8.08092336542828, 2.7432776007210538, 2.696080743198978, 15.92196732570073, 5.472154606998783, 2.5027743255291752, 2.4016165317212606, 2.3986757397486396, 22.622332621044006, 2.298182726223821, 2.256086416007871, 11.702888997302557, 10.383420509610485, 8.82956309951202, 22.72961547313017, 18.255183642104317, 12.53596591373954, 4.975251764714923, 7.342905542829205, 8.241359841023023, 11.809435741108494, 8.458316052922637, 9.756807293487467, 5.102706846236963, 6.569259907929707, 7.355807947846231, 6.402613299611751, 6.509325525784574, 5.757753892223952, 61.49863864213605, 33.32846482596237, 20.80672208489902, 12.834513270230486, 6.458018993095557, 6.134907991125498, 5.787655011096431, 5.0245733616405595, 4.784149794702515, 4.495597316274704, 4.453698992379666, 29.169460817472277, 3.9260166157729106, 3.7428924091580416, 3.725689965693031, 3.7143753389249445, 3.706889902219292, 3.3946335191798243, 3.0250084908461994, 3.0208545958762603, 2.8372492213937903, 6.95444577331927, 3.819763847240053, 2.4086036995909974, 2.3306181370272654, 2.283540387581595, 2.266139563998837, 2.227308862890713, 12.319586684421228, 4.469772695174581, 18.628597388723342, 16.145498898039172, 6.101324623600423, 8.868992812129248, 5.230681192287983, 8.603543311889352, 10.64595582188459, 9.995015743763707, 6.58242009211871, 6.199562669951673, 5.2672996335426605, 4.62541921450999, 4.309800868455576, 20.84955181191894, 15.644590810517629, 10.021458429358193, 9.070493854357238, 6.699448091268273, 6.531586259095971, 6.512225953509421, 6.135764666340022, 6.011747374744714, 5.651257627189156, 5.448210879422531, 5.367968441244516, 4.952027960708124, 4.377319505681955, 3.8624233476770318, 3.7931702195643355, 3.687136313885105, 3.1019134191823348, 3.021666239079356, 2.9856585663844037, 2.8776242965412533, 2.8776242965412533, 2.807581831466621, 2.769946424112145, 2.7372678160299637, 2.7295742673546375, 11.645554471085138, 2.640186373217589, 2.558309889717427, 2.5182874823035055, 6.05580298084383, 14.511626708555744, 6.199802314421374, 3.386976585737165, 4.001065663825543, 21.245475384810426, 5.956703431901732, 5.0310006987958955, 4.475139057527971, 11.269111280838944, 4.89496098318897, 10.226200067759688, 3.803791184429542, 6.858523313191644, 7.997188912737514, 5.112552251389721, 3.936017769009249, 12.509640704179175, 9.44267763725542, 7.177412933316783, 6.061919957001962, 6.018886306558259, 5.588537544551679, 5.515881537447051, 5.407874164702091, 4.467423480735842, 4.403972146846145, 4.036321954382403, 3.9313778114289146, 3.8276442166056954, 3.5394321714517325, 4.173976828979358, 3.3092154410028427, 3.1027154043337335, 3.0140736435464595, 2.9138396710309364, 2.880930970140611, 2.8037604600202135, 2.7382940312350654, 2.4152354463288237, 2.356379832156054, 2.263830574689118, 2.231479068195416, 2.396172259122678, 2.147068246260362, 12.133889554626395, 2.083282327696889, 4.89698407644913, 4.456582404495503, 17.125331469447424, 6.577587806415122, 4.783126760592996, 4.653540180205582, 8.33663912094611, 15.679324147970764, 22.586135222730654, 13.765082999304864, 6.651885257501494, 5.246802336738052, 5.292846009031745, 8.14564460426821, 7.140183961772037, 6.945017052536563, 6.6930490601496615, 5.540402516112121, 4.766157883726452, 43.207138810859426, 8.057612949919728, 7.946261679682439, 7.448993873610316, 6.1427779712591635, 5.933349679211594, 5.6004269690152855, 4.58228546832249, 4.231717103990489, 4.082310657817963, 3.61195426743024, 3.5543986704185735, 3.3697029791757642, 3.1754900394901835, 3.0777281622152137, 2.9959762076273, 2.886610390391871, 2.786036966016967, 9.028633374321716, 2.6075881328381487, 2.5023406305180016, 2.4878959508854632, 2.4443503364786436, 8.636972557984112, 2.3528925599992787, 2.1644700425955743, 1.9658579065260198, 5.612143569597001, 1.9226824969972918, 1.901586967393172, 21.442605681587594, 9.51722352679, 7.352635296673961, 5.8009759941330605, 6.251903782069379, 3.279833776635184, 3.4611956935454913, 4.239443913966839, 5.487711407887126, 5.322968156500484, 5.709593021971958, 4.48870823107439, 5.805909210630089, 4.464369585183934, 4.053999987496764, 3.830105265086131, 3.8537320566725812], \"Term\": [\"know\", \"want\", \"right\", \"need\", \"look\", \"lose\", \"day\", \"believe\", \"way\", \"good\", \"tell\", \"hear\", \"let\", \"change\", \"end\", \"take\", \"people\", \"leave\", \"wrong\", \"try\", \"come\", \"go\", \"wanna\", \"world\", \"like\", \"hand\", \"thing\", \"think\", \"fall\", \"care\", \"look\", \"turn\", \"hey\", \"true\", \"run\", \"give\", \"shake\", \"reason\", \"take\", \"hard\", \"lover\", \"thought\", \"yeah\", \"joe\", \"bear\", \"scene\", \"swear\", \"help\", \"alright\", \"day\", \"jetstream\", \"away\", \"later\", \"commit\", \"crime\", \"leave\", \"perfect\", \"busy\", \"foolish\", \"wheel\", \"hand\", \"world\", \"god\", \"go\", \"eye\", \"say\", \"wait\", \"young\", \"to\", \"get\", \"find\", \"oh\", \"come\", \"night\", \"hear\", \"let\", \"change\", \"word\", \"call\", \"step\", \"yes\", \"understand\", \"stranger\", \"strange\", \"cause\", \"line\", \"place\", \"wisdom\", \"miss\", \"peace\", \"pull\", \"fool\", \"burn\", \"tv\", \"company\", \"thing\", \"soul\", \"flower\", \"survive\", \"set\", \"tell\", \"payroll\", \"defend\", \"inside\", \"control\", \"mind\", \"way\", \"come\", \"see\", \"face\", \"friend\", \"heart\", \"feel\", \"oh\", \"lose\", \"stay\", \"to\", \"like\", \"go\", \"get\", \"wrong\", \"know\", \"right\", \"good\", \"care\", \"break\", \"future\", \"corner\", \"search\", \"cold\", \"hope\", \"cool\", \"need\", \"today\", \"land\", \"room\", \"little\", \"pain\", \"speak\", \"rule\", \"nearly\", \"complain\", \"apart\", \"kiss\", \"distance\", \"lot\", \"answer\", \"rise\", \"unkind\", \"live\", \"late\", \"end\", \"wrong\", \"forever\", \"night\", \"start\", \"love\", \"get\", \"time\", \"feel\", \"think\", \"try\", \"heart\", \"to\", \"believe\", \"people\", \"trust\", \"road\", \"forget\", \"anymore\", \"guess\", \"afraid\", \"moment\", \"town\", \"ago\", \"knee\", \"be\", \"matter\", \"final\", \"pray\", \"scream\", \"spirit\", \"ruin\", \"city\", \"royal\", \"port\", \"lonely\", \"sign\", \"realise\", \"smile\", \"long\", \"politic\", \"elevate\", \"earth\", \"sea\", \"wanna\", \"die\", \"goodbye\", \"meet\", \"time\", \"year\", \"hurt\", \"talk\", \"love\", \"work\", \"way\", \"car\", \"end\", \"like\", \"wait\", \"feeling\", \"fall\", \"far\", \"remember\", \"foot\", \"happen\", \"dark\", \"la\", \"shine\", \"close\", \"sense\", \"wild\", \"steal\", \"rock\", \"touch\", \"wide\", \"yesterday\", \"depend\", \"crazy\", \"shack\", \"west\", \"anytime\", \"beat\", \"point\", \"tonight\", \"woman\", \"accuse\", \"gate\", \"reach\", \"man\", \"return\", \"truth\", \"door\", \"try\", \"sky\", \"second\", \"walk\", \"stand\", \"think\", \"like\", \"life\", \"mean\", \"sun\", \"high\", \"feel\", \"find\", \"go\", \"time\", \"world\", \"get\", \"want\", \"free\", \"wake\", \"hang\", \"waste\", \"mile\", \"morning\", \"belong\", \"ground\", \"baby\", \"tomorrow\", \"special\", \"show\", \"use\", \"family\", \"shall\", \"send\", \"colony\", \"because\", \"conversation\", \"money\", \"alive\", \"music\", \"kind\", \"memory\", \"tight\", \"weak\", \"stop\", \"deny\", \"violent\", \"lose\", \"will\", \"home\", \"lie\", \"real\", \"wish\", \"chance\", \"start\", \"wanna\", \"night\", \"tell\", \"say\", \"like\", \"love\", \"time\", \"day\", \"get\"], \"Total\": [62.0, 43.0, 33.0, 33.0, 26.0, 31.0, 32.0, 21.0, 33.0, 21.0, 28.0, 20.0, 19.0, 18.0, 26.0, 21.0, 16.0, 22.0, 22.0, 24.0, 27.0, 33.0, 20.0, 23.0, 45.0, 20.0, 19.0, 27.0, 13.0, 13.0, 26.334654834518517, 12.41162651702074, 12.056325036125207, 11.446680740305952, 10.641602023482474, 9.573129339607172, 8.17496943039674, 7.849342646265902, 21.24113315626809, 7.579341851629256, 7.5589166421685015, 5.955246722669026, 11.574339773747857, 5.337777590533146, 5.290009797158743, 4.826426324553665, 4.6933880827126515, 4.505227849435812, 4.260546408485606, 32.316813140712824, 4.149863241571289, 14.068579831669272, 3.793967666007067, 3.754868011621663, 3.5500722153919604, 22.674735785913697, 3.449861624755681, 3.40591219515288, 3.2445939807814486, 3.2136674181422946, 20.67435710929429, 23.680593516261556, 10.193190606849953, 33.399134244116176, 14.284444777463301, 14.76098780290641, 15.982143361713637, 11.33558701433147, 26.04480151680554, 44.87565852060324, 26.847213995210293, 17.329947787825674, 27.05199486894122, 20.663134220276607, 20.54525837073393, 19.612861250566617, 18.778033123805407, 12.789257562812638, 12.590214416371687, 10.949993001017319, 9.50057353798322, 8.512885458584298, 8.007654849362561, 7.513840793987265, 6.39006362682402, 5.681631609985705, 14.462822203069317, 4.653200823531179, 4.586898975673267, 4.382980734044175, 4.3029185028168575, 4.0520759133581, 9.743257907308083, 3.385741643693041, 3.338697743913189, 19.74178187844367, 6.854851221576488, 3.1449662229328887, 3.043819065539548, 3.0432359981656956, 28.84367411054816, 2.9403779850087397, 2.8982789781551466, 15.534027472086116, 13.941021169639914, 11.799900143961214, 33.470581065028824, 27.05199486894122, 18.94003650281824, 7.091047832449866, 11.886264334694408, 14.841185306654904, 27.045398024884143, 17.329947787825674, 31.711808520602858, 8.038509751524472, 26.04480151680554, 45.13134049603245, 33.399134244116176, 44.87565852060324, 22.41956046863137, 62.14436080106444, 33.97219572817315, 21.449535158879396, 13.476957028563154, 7.1010087815976535, 6.77690428510552, 6.429863760841822, 5.667229741740479, 5.427545319618122, 5.13830070210939, 5.095591987659073, 33.5082718068409, 4.5689652205501154, 4.385442113129768, 4.368877386277207, 4.356666002971095, 4.349277559272189, 4.036811127829713, 3.6668890153682767, 3.664256850811327, 3.4792468749649257, 8.670104761009616, 4.799482714298665, 3.0505255465024055, 2.9725166498910696, 2.9255859606520676, 2.9081164134402897, 2.8691927372685986, 15.912442790200497, 5.814130058455858, 26.001045092109504, 22.41956046863137, 9.560769130469115, 20.663134220276607, 10.64270535452167, 28.498977897731535, 44.87565852060324, 47.03708017210628, 27.045398024884143, 27.448299396791334, 24.6016788138727, 14.841185306654904, 26.04480151680554, 21.490570753058744, 16.28560880243386, 10.661916372501752, 9.711193580703611, 7.340161434800811, 7.172213009852526, 7.152796030643181, 6.775853448618512, 6.652887036497311, 6.292191844009453, 6.088886373686383, 6.0083053594040035, 5.5924074176517795, 5.01813833166455, 4.503605254296186, 4.4339719555338295, 4.327622533692572, 3.7422618161966357, 3.661908656984418, 3.627671492176149, 3.517711166851674, 3.517711166851674, 3.447670377653545, 3.410165507097182, 3.377745291700445, 3.3697839679465056, 14.451895876789878, 3.2804781833683663, 3.1984000246350135, 3.158701490032762, 7.89863207454148, 20.50866675123082, 8.331525773772015, 4.339678856380366, 5.294027834459073, 47.03708017210628, 10.111685280450711, 8.050302204098456, 6.798531390030529, 28.498977897731535, 8.752759286808708, 33.470581065028824, 5.551162341592452, 26.001045092109504, 45.13134049603245, 15.982143361713637, 7.077804946918227, 13.148412570165103, 10.081423724378162, 7.815894918661388, 6.699879088528582, 6.656917012737103, 6.22695963303922, 6.153733004692982, 6.046047688381566, 5.106067910056791, 5.042504314070052, 4.674239704139736, 4.570355042095665, 4.4661150170447605, 4.178279731356499, 4.937920348359048, 3.9477101430996173, 3.740565190165638, 3.6521317913039257, 3.551687498450205, 3.5187783648081674, 3.4424617332697287, 3.3772554395987875, 3.0538335840489443, 2.995122688504454, 2.9021823049165767, 2.869330278947572, 3.083974045661613, 2.784914991322946, 15.782798617544962, 2.72112914379089, 6.41433449628385, 5.95608920330458, 24.6016788138727, 8.985624413141185, 6.4552157232174245, 6.295344443033262, 12.84730198592393, 27.448299396791334, 45.13134049603245, 27.15495170624474, 11.294082776281256, 8.220947908440948, 8.996167014161902, 27.045398024884143, 26.847213995210293, 33.399134244116176, 47.03708017210628, 23.680593516261556, 44.87565852060324, 43.84569187673421, 8.696243947376532, 8.584270578944231, 8.087228905325947, 6.78133402273195, 6.571444107024217, 6.238348683854963, 5.220101934778932, 4.870572980441456, 4.7203339918898495, 4.250530173084865, 4.192369002263752, 4.007510258807381, 3.8137364216842853, 3.7157951196182495, 3.6340653602015403, 3.5246290437120904, 3.4238329375570764, 11.2190399353605, 3.245806021722138, 3.1415317721346727, 3.1255534320361895, 3.0827883859110328, 10.953438848212649, 2.9912987141966676, 2.802221219769204, 2.6038963965413915, 7.435711572121478, 2.5603327038097197, 2.5403616244961937, 31.711808520602858, 13.603933087465341, 12.319709588339666, 10.095553785250559, 11.713643972097987, 4.961240238415926, 6.251691631825963, 10.64270535452167, 20.50866675123082, 20.663134220276607, 28.84367411054816, 14.76098780290641, 45.13134049603245, 28.498977897731535, 47.03708017210628, 32.316813140712824, 44.87565852060324], \"loglift\": [30.0, 29.0, 28.0, 27.0, 26.0, 25.0, 24.0, 23.0, 22.0, 21.0, 20.0, 19.0, 18.0, 17.0, 16.0, 15.0, 14.0, 13.0, 12.0, 11.0, 10.0, 9.0, 8.0, 7.0, 6.0, 5.0, 4.0, 3.0, 2.0, 1.0, 1.6649, 1.6363, 1.6348, 1.6317, 1.6273, 1.6201, 1.6077, 1.6041, 1.601, 1.6009, 1.6007, 1.5752, 1.564, 1.5613, 1.56, 1.5466, 1.5421, 1.5355, 1.5259, 1.5224, 1.5213, 1.5138, 1.5039, 1.5017, 1.4897, 1.4846, 1.4832, 1.4804, 1.4687, 1.4661, 1.4616, 1.373, 1.3729, 1.16, 1.2837, 1.2759, 1.2557, 1.2973, 0.9097, 0.6452, 0.835, 0.7084, 0.1973, 0.3555, 1.7163, 1.7148, 1.7132, 1.6965, 1.6957, 1.6876, 1.6781, 1.6696, 1.6644, 1.6586, 1.6421, 1.6281, 1.5996, 1.599, 1.5971, 1.5897, 1.5863, 1.5752, 1.561, 1.5377, 1.5343, 1.5331, 1.5228, 1.5197, 1.5111, 1.5101, 1.5051, 1.5017, 1.4976, 1.4649, 1.4535, 1.4581, 1.3611, 1.3548, 1.3354, 1.3937, 1.2664, 1.1599, 0.9195, 1.0308, 0.5694, 1.2936, 0.3707, -0.066, 0.0963, -0.1826, 0.3887, 1.7762, 1.7675, 1.7562, 1.7378, 1.6917, 1.6871, 1.6814, 1.6663, 1.6605, 1.653, 1.652, 1.648, 1.635, 1.6282, 1.6274, 1.6272, 1.6268, 1.6134, 1.5942, 1.5936, 1.5827, 1.5662, 1.5583, 1.5504, 1.5434, 1.5389, 1.5372, 1.5334, 1.5307, 1.5237, 1.4532, 1.4584, 1.3375, 0.9409, 1.0763, 0.589, 0.3479, 0.2378, 0.3735, 0.2988, 0.2454, 0.6208, -0.0123, 1.7865, 1.7766, 1.7548, 1.7485, 1.7254, 1.7232, 1.723, 1.7175, 1.7154, 1.7093, 1.7056, 1.7041, 1.6952, 1.6802, 1.6632, 1.6607, 1.6566, 1.6291, 1.6246, 1.622, 1.6159, 1.6159, 1.6114, 1.6088, 1.6065, 1.6061, 1.6009, 1.5996, 1.5935, 1.5902, 1.5511, 1.4709, 1.5212, 1.5689, 1.5368, 1.022, 1.2876, 1.3467, 1.3986, 0.889, 1.2356, 0.6311, 1.4388, 0.4841, 0.0863, 0.677, 1.23, 1.7781, 1.7624, 1.7427, 1.7278, 1.7271, 1.7197, 1.7185, 1.7164, 1.6943, 1.6925, 1.6812, 1.6773, 1.6736, 1.662, 1.6598, 1.6515, 1.6409, 1.6359, 1.6299, 1.6279, 1.6227, 1.6182, 1.5933, 1.588, 1.5795, 1.5765, 1.5756, 1.5678, 1.565, 1.5608, 1.558, 1.5379, 1.4656, 1.5159, 1.5281, 1.5257, 1.3954, 1.2679, 1.1357, 1.1485, 1.2985, 1.3788, 1.2975, 0.6279, 0.5035, 0.2574, -0.122, 0.3753, -0.4145, 1.8791, 1.8175, 1.8166, 1.8116, 1.7949, 1.7916, 1.7859, 1.7635, 1.7532, 1.7486, 1.731, 1.7287, 1.7204, 1.7106, 1.7054, 1.7007, 1.6941, 1.6876, 1.6766, 1.6748, 1.6663, 1.6656, 1.6617, 1.6562, 1.6537, 1.6355, 1.6127, 1.6124, 1.6074, 1.6042, 1.5025, 1.5365, 1.3776, 1.3397, 1.2659, 1.4799, 1.3025, 0.9733, 0.5754, 0.5375, 0.274, 0.7034, -0.1569, 0.04, -0.5575, -0.2389, -0.5611], \"logprob\": [30.0, 29.0, 28.0, 27.0, 26.0, 25.0, 24.0, 23.0, 22.0, 21.0, 20.0, 19.0, 18.0, 17.0, 16.0, 15.0, 14.0, 13.0, 12.0, 11.0, 10.0, 9.0, 8.0, 7.0, 6.0, 5.0, 4.0, 3.0, 2.0, 1.0, -3.4034, -4.1842, -4.2148, -4.2699, -4.3472, -4.4602, -4.6304, -4.6747, -3.6823, -4.7129, -4.7158, -4.9797, -4.3264, -5.1031, -5.1133, -5.2185, -5.2509, -5.2985, -5.3639, -3.3412, -5.3949, -4.1815, -5.5019, -5.5144, -5.5826, -3.7334, -5.6176, -5.6333, -5.6935, -5.7057, -3.8487, -3.8016, -4.6446, -3.6707, -4.3964, -4.3713, -4.3121, -4.614, -4.1697, -3.8901, -4.214, -4.7784, -4.8442, -4.9554, -3.6003, -3.6482, -3.6933, -4.0941, -4.1106, -4.2583, -4.4098, -4.528, -4.5944, -4.6638, -4.8424, -4.9739, -4.0681, -5.2026, -5.2189, -5.2718, -5.2936, -5.3648, -4.5016, -5.582, -5.5993, -3.8234, -4.8915, -5.6737, -5.715, -5.7162, -3.4722, -5.759, -5.7775, -4.1313, -4.2509, -4.413, -3.4675, -3.6867, -4.0625, -4.9866, -4.5974, -4.482, -4.1222, -4.456, -4.3132, -4.9614, -4.7087, -4.5956, -4.7344, -4.7179, -4.8406, -2.4336, -3.0462, -3.5173, -4.0004, -4.6872, -4.7386, -4.7968, -4.9382, -4.9873, -5.0495, -5.0588, -3.1794, -5.1849, -5.2327, -5.2373, -5.2404, -5.2424, -5.3304, -5.4457, -5.447, -5.5097, -4.6132, -5.2124, -5.6735, -5.7064, -5.7268, -5.7345, -5.7518, -4.0414, -5.0552, -3.6279, -3.7709, -4.7441, -4.37, -4.898, -4.4004, -4.1874, -4.2505, -4.6682, -4.7281, -4.891, -5.021, -5.0917, -3.4851, -3.7723, -4.2177, -4.3174, -4.6204, -4.6458, -4.6488, -4.7083, -4.7287, -4.7906, -4.8272, -4.842, -4.9226, -5.046, -5.1711, -5.1892, -5.2176, -5.3904, -5.4166, -5.4286, -5.4655, -5.4655, -5.4901, -5.5036, -5.5155, -5.5183, -4.0675, -5.5516, -5.5831, -5.5989, -4.7214, -3.8475, -4.6979, -5.3025, -5.1359, -3.4663, -4.7379, -4.9068, -5.0239, -4.1004, -4.9342, -4.1975, -5.1864, -4.597, -4.4434, -4.8907, -5.1523, -3.9848, -4.2661, -4.5404, -4.7093, -4.7164, -4.7906, -4.8037, -4.8235, -5.0145, -5.0288, -5.116, -5.1423, -5.1691, -5.2473, -5.0824, -5.3146, -5.379, -5.408, -5.4418, -5.4532, -5.4804, -5.504, -5.6295, -5.6542, -5.6943, -5.7087, -5.6374, -5.7472, -4.0153, -5.7774, -4.9227, -5.0169, -3.6708, -4.6276, -4.9462, -4.9737, -4.3907, -3.759, -3.394, -3.8892, -4.6164, -4.8537, -4.845, -4.4138, -4.5456, -4.5733, -4.6102, -4.7992, -4.9498, -2.6794, -4.3588, -4.3727, -4.4374, -4.6302, -4.6648, -4.7226, -4.9232, -5.0028, -5.0388, -5.1612, -5.1773, -5.2306, -5.29, -5.3212, -5.3482, -5.3854, -5.4208, -4.245, -5.487, -5.5282, -5.534, -5.5517, -4.2894, -5.5898, -5.6733, -5.7695, -4.7205, -5.7917, -5.8027, -3.3801, -4.1923, -4.4504, -4.6874, -4.6126, -5.2576, -5.2038, -5.001, -4.7429, -4.7734, -4.7033, -4.9439, -4.6866, -4.9493, -5.0457, -5.1025, -5.0964]}, \"token.table\": {\"Topic\": [5, 4, 4, 6, 1, 3, 4, 5, 3, 4, 1, 5, 6, 4, 1, 5, 1, 6, 4, 6, 3, 2, 4, 1, 2, 1, 4, 3, 2, 3, 6, 2, 4, 5, 3, 6, 1, 2, 5, 1, 2, 3, 2, 6, 6, 3, 3, 5, 1, 5, 1, 3, 6, 2, 6, 5, 4, 5, 3, 1, 5, 4, 4, 3, 4, 1, 2, 5, 2, 4, 5, 6, 5, 2, 3, 5, 2, 4, 4, 1, 2, 3, 4, 5, 2, 2, 1, 5, 3, 6, 4, 6, 1, 2, 3, 5, 1, 2, 3, 4, 5, 6, 1, 1, 2, 5, 1, 2, 3, 4, 6, 4, 1, 3, 6, 5, 1, 2, 2, 3, 5, 1, 1, 1, 2, 5, 1, 4, 6, 3, 2, 3, 4, 2, 5, 6, 1, 1, 1, 6, 3, 4, 3, 5, 3, 1, 3, 1, 1, 5, 2, 3, 6, 1, 2, 3, 4, 5, 6, 2, 3, 4, 5, 6, 2, 3, 3, 4, 4, 1, 4, 1, 2, 6, 3, 2, 3, 4, 5, 6, 1, 2, 5, 4, 2, 5, 3, 4, 6, 6, 2, 4, 2, 4, 6, 6, 6, 3, 3, 4, 1, 3, 4, 6, 1, 2, 4, 3, 2, 2, 4, 1, 2, 4, 5, 4, 4, 4, 2, 5, 4, 5, 6, 4, 1, 5, 5, 3, 3, 4, 5, 3, 4, 4, 3, 1, 1, 6, 1, 4, 2, 4, 3, 3, 5, 2, 3, 5, 6, 5, 2, 5, 1, 6, 5, 6, 4, 1, 5, 4, 2, 4, 3, 6, 4, 2, 5, 6, 3, 5, 6, 2, 6, 5, 2, 4, 6, 2, 2, 3, 5, 2, 1, 1, 4, 4, 6, 2, 6, 1, 2, 6, 1, 3, 5, 1, 6, 1, 3, 4, 5, 6, 1, 2, 3, 4, 5, 3, 6, 5, 5, 4, 1, 4, 5, 6, 1, 3, 5, 1, 2, 2, 3, 6, 6, 1, 4, 6, 2, 5, 6, 4, 6, 6, 6, 2, 4, 6, 5, 1, 5, 5, 2, 6, 2, 3, 6, 5, 2, 1, 4, 5, 1, 2, 5, 2, 3, 1, 5, 1, 4, 2, 5, 1, 5, 6], \"Freq\": [0.6970267642850688, 0.885497309748236, 0.8211682224204259, 0.6398866771882602, 0.9388467150676535, 0.6836237344925702, 0.9759888601166815, 0.8714693822175131, 0.8073720206334466, 0.11533886009049238, 0.8529645595774517, 0.14216075992957528, 0.8473976644179252, 0.8940693384065841, 0.9451778336375659, 0.8882952603538912, 0.17826837336556234, 0.8022076801450305, 0.9771727443307237, 0.957835701768101, 0.8449503703683721, 0.8210805950235059, 0.10263507437793824, 0.8808212978213139, 0.953121178333214, 0.18014245278100294, 0.7205698111240117, 0.9646094420608237, 0.9389577867133244, 0.31991341188654404, 0.47987011782981603, 0.9585668467684683, 0.8269767553291809, 0.7833816687243219, 0.9212267619262913, 0.8762109760356813, 0.22179510343204614, 0.6653853102961385, 0.07393170114401539, 0.7989628372328197, 0.8985539363272186, 0.8622555707634983, 0.717307568672051, 0.2151922706016153, 0.9242696513355657, 0.7849922069285632, 0.9331457435444103, 0.821438045347456, 0.8450532321548204, 0.9635520950168025, 0.8354784205496214, 0.030943645205541534, 0.12377458082216614, 0.6900646953155173, 0.7811484800487231, 0.8020178362048959, 0.7201562070285189, 0.2400520690095063, 0.6556247340046404, 0.16789540348811033, 0.6715816139524413, 0.9497573637352114, 0.9379689772677343, 0.7307398580592401, 0.2692199477060358, 0.7000622114327532, 0.07000622114327532, 0.21001866342982595, 0.705114408778789, 0.28204576351151556, 0.9887125103982618, 0.8073642123487723, 0.8927310512935646, 0.44369840624859525, 0.25882407031168053, 0.2957989374990635, 0.42386022538050316, 0.5651469671740043, 0.8881773099860883, 0.40972594035129556, 0.14899125103683475, 0.07449562551841737, 0.03724781275920869, 0.2607346893144608, 0.9539053164145915, 0.7403612528852632, 0.9246149187755878, 0.8955385493856295, 0.6275645733227322, 0.3137822866613661, 0.9536574995220058, 0.9199373946281056, 0.3365228878786195, 0.5889150537875841, 0.8853600032668275, 0.6485138883751321, 0.3565407289266654, 0.1559865689054161, 0.24512175113708243, 0.06685138667374975, 0.11141897778958293, 0.08913518223166635, 0.9401314534385378, 0.5988179170699115, 0.17964537512097342, 0.209586270974469, 0.6867329641904186, 0.1962094183401196, 0.9790421957609042, 0.6912953928812687, 0.821258610858029, 0.9786382793541729, 0.7739055640480882, 0.19347639101202205, 0.865562244119251, 0.9013181309786225, 0.9235630397770328, 0.9734606223540789, 0.5390405034840942, 0.3369003146775589, 0.13476012587102354, 0.887857425568591, 0.9123841607654019, 0.22231690417169556, 0.22231690417169556, 0.5557922604292389, 0.3246829782242523, 0.08117074455606307, 0.5681952118924415, 0.7784674801842384, 0.1242189391959589, 0.1242189391959589, 0.6210946959797945, 0.7724976682037811, 0.12874961136729685, 0.06437480568364842, 0.963887185469142, 0.936719433358892, 0.18259105909249262, 0.8216597659162168, 0.8334231495580058, 0.8321814057226907, 0.9815854441768619, 0.9750179273985821, 0.912108721723683, 0.17199477650927958, 0.6879791060371183, 0.7907289318459921, 0.7938350492790395, 0.17640778872867544, 0.9687520733085841, 0.3962140250140548, 0.5943210375210821, 0.11047708839453024, 0.03682569613151008, 0.11047708839453024, 0.11047708839453024, 0.5155597458411411, 0.11047708839453024, 0.15510286029761022, 0.022157551471087174, 0.1772604117686974, 0.509623683835005, 0.13294530882652306, 0.8800288971943009, 0.918133269172376, 0.7541268275534708, 0.1885317068883677, 0.8701527905465761, 0.13839014735859342, 0.8303408841515606, 0.9872922262842851, 0.31533994642730945, 0.6622138874973498, 0.6728305458182351, 0.07017795540517248, 0.3158007993232762, 0.38597875472844867, 0.07017795540517248, 0.14035591081034496, 0.9260586313321005, 0.19008035727358563, 0.7603214290943425, 0.7971083568501734, 0.3541677601655634, 0.619793580289736, 0.1888920933681069, 0.7555683734724276, 0.6686059103719812, 0.9130413197285814, 0.762718318816104, 0.169492959736912, 0.8720488550574363, 0.9018641030704994, 0.9549481646532889, 0.9617929846608579, 0.6487633108845242, 0.8187198993257665, 0.8654579432556556, 0.1193735094145732, 0.2419768437207135, 0.43555831869728434, 0.0483953687441427, 0.2419768437207135, 0.34622147010823734, 0.4616286268109831, 0.11540715670274578, 0.9196929709561609, 0.6801846599984169, 0.9126209405691824, 0.9824625038032858, 0.8696000959784757, 0.8297135808980177, 0.06914279840816814, 0.6549145344548498, 0.9145008234499601, 0.8528272668517518, 0.9021256877837918, 0.9296016174560231, 0.7181547753635094, 0.17074106100236777, 0.25611159150355167, 0.5122231830071033, 0.8881664367563138, 0.8917944234897234, 0.8956108126897483, 0.7349890043122824, 0.9713826054708938, 0.6877303779025848, 0.9267655850134868, 0.8956330020015494, 0.9155670087158171, 0.8528272668517518, 0.8192449023211027, 0.8181322061907841, 0.9397081358552338, 0.6774614364243984, 0.27098457456975933, 0.8287705500963819, 0.924295030090569, 0.12660420064673675, 0.7596252038804204, 0.8822652738380844, 0.15491349055978218, 0.7745674527989109, 0.6863767130578458, 0.15839462609027208, 0.21119283478702947, 0.8511534016188103, 0.7932566341765614, 0.6571951702745026, 0.8446689077541489, 0.9785969315376084, 0.8255217511645482, 0.8269865303259663, 0.7485944654556638, 0.8797226978445615, 0.22257774285280216, 0.7790220999848075, 0.8902647850829897, 0.7294104333383465, 0.1458820866676693, 0.7431608527131841, 0.9541144870215673, 0.801654226066145, 0.15567470914837123, 0.6226988365934849, 0.15567470914837123, 0.4698053580780281, 0.09396107161560562, 0.37584428646242246, 0.6220058387130487, 0.24880233548521946, 0.8752055284890652, 0.9132425928556248, 0.13448612016491795, 0.8069167209895077, 0.9316140961625842, 0.8741635512121537, 0.2432809479240804, 0.608202369810201, 0.6570692793940692, 0.8522627853284419, 0.8944908852187695, 0.04707846764309313, 0.5883623639460812, 0.2941811819730406, 0.7974018813223547, 0.20801788208409253, 0.15196196667919537, 0.8104638222890419, 0.05065398889306512, 0.18216064783177396, 0.21859277739812877, 0.5829140730616766, 0.8395957771098185, 0.713719525742769, 0.10629911511737665, 0.2125982302347533, 0.44645628349298194, 0.1488187611643273, 0.08503929209390132, 0.4607445363811638, 0.26876764622234556, 0.1535815121270546, 0.0767907560635273, 0.03839537803176365, 0.8754717549630175, 0.9410590766603028, 0.6677522786215659, 0.9573317865679091, 0.953562788412493, 0.9609772692678408, 0.9379176923382266, 0.7795040939783783, 0.15590081879567566, 0.08129526505614793, 0.2032381626403698, 0.6910097529772574, 0.9668354090049154, 0.8860687895629602, 0.9397518666168461, 0.6970601779453656, 0.7866301359848803, 0.7872894869432777, 0.625698304268482, 0.312849152134241, 0.9319370733283561, 0.1588475434583487, 0.7942377172917435, 0.1588475434583487, 0.7313981051010925, 0.24379936836703084, 0.9807120873103851, 0.8847816638860713, 0.6871706217264081, 0.2987698355332209, 0.7680797141762196, 0.8525686158592573, 0.9335129027552552, 0.8100576189588123, 0.8557541446702881, 0.29403261353039134, 0.7350815338259783, 0.8596233327760214, 0.20156250291142722, 0.6046875087342817, 0.689136584084262, 0.9382874604771769, 0.3427490579480808, 0.571248429913468, 0.1142496859826936, 0.7178874122528235, 0.04222867130898962, 0.2533720278539377, 0.2676234446431267, 0.713662519048338, 0.8639801660809484, 0.08639801660809483, 0.39558193209724846, 0.5933728981458727, 0.9473112295818846, 0.7599342128103901, 0.7057420131737051, 0.2646532549401394, 0.08821775164671314], \"Term\": [\"accuse\", \"afraid\", \"ago\", \"alive\", \"alright\", \"answer\", \"anymore\", \"anytime\", \"apart\", \"apart\", \"away\", \"away\", \"baby\", \"be\", \"bear\", \"beat\", \"because\", \"because\", \"believe\", \"belong\", \"break\", \"burn\", \"burn\", \"busy\", \"call\", \"car\", \"car\", \"care\", \"cause\", \"chance\", \"chance\", \"change\", \"city\", \"close\", \"cold\", \"colony\", \"come\", \"come\", \"come\", \"commit\", \"company\", \"complain\", \"control\", \"control\", \"conversation\", \"cool\", \"corner\", \"crazy\", \"crime\", \"dark\", \"day\", \"day\", \"day\", \"defend\", \"deny\", \"depend\", \"die\", \"die\", \"distance\", \"door\", \"door\", \"earth\", \"elevate\", \"end\", \"end\", \"eye\", \"eye\", \"eye\", \"face\", \"face\", \"fall\", \"family\", \"far\", \"feel\", \"feel\", \"feel\", \"feeling\", \"feeling\", \"final\", \"find\", \"find\", \"find\", \"find\", \"find\", \"flower\", \"fool\", \"foolish\", \"foot\", \"forever\", \"forever\", \"forget\", \"free\", \"friend\", \"friend\", \"future\", \"gate\", \"get\", \"get\", \"get\", \"get\", \"get\", \"get\", \"give\", \"go\", \"go\", \"go\", \"god\", \"god\", \"good\", \"goodbye\", \"ground\", \"guess\", \"hand\", \"hand\", \"hang\", \"happen\", \"hard\", \"hear\", \"heart\", \"heart\", \"heart\", \"help\", \"hey\", \"high\", \"high\", \"high\", \"home\", \"home\", \"home\", \"hope\", \"hurt\", \"hurt\", \"hurt\", \"inside\", \"inside\", \"inside\", \"jetstream\", \"joe\", \"kind\", \"kind\", \"kiss\", \"knee\", \"know\", \"la\", \"land\", \"late\", \"late\", \"later\", \"leave\", \"leave\", \"let\", \"lie\", \"lie\", \"life\", \"life\", \"life\", \"life\", \"life\", \"life\", \"like\", \"like\", \"like\", \"like\", \"like\", \"line\", \"little\", \"live\", \"live\", \"lonely\", \"long\", \"long\", \"look\", \"lose\", \"lose\", \"lot\", \"love\", \"love\", \"love\", \"love\", \"love\", \"lover\", \"man\", \"man\", \"matter\", \"mean\", \"mean\", \"meet\", \"meet\", \"memory\", \"mile\", \"mind\", \"mind\", \"miss\", \"moment\", \"money\", \"morning\", \"music\", \"nearly\", \"need\", \"need\", \"night\", \"night\", \"night\", \"night\", \"oh\", \"oh\", \"oh\", \"pain\", \"payroll\", \"peace\", \"people\", \"perfect\", \"place\", \"place\", \"point\", \"politic\", \"port\", \"pray\", \"pull\", \"reach\", \"real\", \"real\", \"real\", \"realise\", \"reason\", \"remember\", \"return\", \"right\", \"rise\", \"road\", \"rock\", \"room\", \"royal\", \"ruin\", \"rule\", \"run\", \"say\", \"say\", \"scene\", \"scream\", \"sea\", \"sea\", \"search\", \"second\", \"second\", \"see\", \"see\", \"see\", \"send\", \"sense\", \"set\", \"shack\", \"shake\", \"shall\", \"shine\", \"show\", \"sign\", \"sky\", \"sky\", \"smile\", \"soul\", \"soul\", \"speak\", \"special\", \"spirit\", \"stand\", \"stand\", \"stand\", \"start\", \"start\", \"start\", \"stay\", \"stay\", \"steal\", \"step\", \"stop\", \"stop\", \"strange\", \"stranger\", \"sun\", \"sun\", \"survive\", \"swear\", \"take\", \"take\", \"talk\", \"talk\", \"tell\", \"tell\", \"thing\", \"thing\", \"thing\", \"think\", \"think\", \"think\", \"thought\", \"tight\", \"time\", \"time\", \"time\", \"time\", \"time\", \"to\", \"to\", \"to\", \"to\", \"to\", \"today\", \"tomorrow\", \"tonight\", \"touch\", \"town\", \"true\", \"trust\", \"truth\", \"truth\", \"try\", \"try\", \"try\", \"turn\", \"tv\", \"understand\", \"unkind\", \"use\", \"violent\", \"wait\", \"wait\", \"wake\", \"walk\", \"walk\", \"walk\", \"wanna\", \"wanna\", \"want\", \"waste\", \"way\", \"way\", \"weak\", \"west\", \"wheel\", \"wide\", \"wild\", \"will\", \"will\", \"wisdom\", \"wish\", \"wish\", \"woman\", \"word\", \"work\", \"work\", \"work\", \"world\", \"world\", \"world\", \"wrong\", \"wrong\", \"yeah\", \"yeah\", \"year\", \"year\", \"yes\", \"yesterday\", \"young\", \"young\", \"young\"]}, \"R\": 30, \"lambda.step\": 0.01, \"plot.opts\": {\"xlab\": \"PC1\", \"ylab\": \"PC2\"}, \"topic.order\": [1, 6, 5, 2, 3, 4]};\n",
       "\n",
       "function LDAvis_load_lib(url, callback){\n",
       "  var s = document.createElement('script');\n",
       "  s.src = url;\n",
       "  s.async = true;\n",
       "  s.onreadystatechange = s.onload = callback;\n",
       "  s.onerror = function(){console.warn(\"failed to load library \" + url);};\n",
       "  document.getElementsByTagName(\"head\")[0].appendChild(s);\n",
       "}\n",
       "\n",
       "if(typeof(LDAvis) !== \"undefined\"){\n",
       "   // already loaded: just create the visualization\n",
       "   !function(LDAvis){\n",
       "       new LDAvis(\"#\" + \"ldavis_el609821121449465448009235273\", ldavis_el609821121449465448009235273_data);\n",
       "   }(LDAvis);\n",
       "}else if(typeof define === \"function\" && define.amd){\n",
       "   // require.js is available: use it to load d3/LDAvis\n",
       "   require.config({paths: {d3: \"https://cdnjs.cloudflare.com/ajax/libs/d3/3.5.5/d3.min\"}});\n",
       "   require([\"d3\"], function(d3){\n",
       "      window.d3 = d3;\n",
       "      LDAvis_load_lib(\"https://cdn.rawgit.com/bmabey/pyLDAvis/files/ldavis.v1.0.0.js\", function(){\n",
       "        new LDAvis(\"#\" + \"ldavis_el609821121449465448009235273\", ldavis_el609821121449465448009235273_data);\n",
       "      });\n",
       "    });\n",
       "}else{\n",
       "    // require.js not available: dynamically load d3 & LDAvis\n",
       "    LDAvis_load_lib(\"https://cdnjs.cloudflare.com/ajax/libs/d3/3.5.5/d3.min.js\", function(){\n",
       "         LDAvis_load_lib(\"https://cdn.rawgit.com/bmabey/pyLDAvis/files/ldavis.v1.0.0.js\", function(){\n",
       "                 new LDAvis(\"#\" + \"ldavis_el609821121449465448009235273\", ldavis_el609821121449465448009235273_data);\n",
       "            })\n",
       "         });\n",
       "}\n",
       "</script>"
      ],
      "text/plain": [
       "PreparedData(topic_coordinates=              x         y  topics  cluster       Freq\n",
       "topic                                                \n",
       "0      0.181217 -0.152120       1        1  18.457200\n",
       "5      0.079132  0.183847       2        1  17.410595\n",
       "4     -0.169141 -0.120237       3        1  16.752018\n",
       "1     -0.100945  0.036198       4        1  16.254941\n",
       "2      0.050156 -0.017114       5        1  16.075069\n",
       "3     -0.040419  0.069425       6        1  15.050177, topic_info=     Category       Freq   Term      Total  loglift  logprob\n",
       "595   Default  62.000000   know  62.000000  30.0000  30.0000\n",
       "1199  Default  43.000000   want  43.000000  29.0000  29.0000\n",
       "884   Default  33.000000  right  33.000000  28.0000  28.0000\n",
       "708   Default  33.000000   need  33.000000  27.0000  27.0000\n",
       "640   Default  26.000000   look  26.000000  26.0000  26.0000\n",
       "...       ...        ...    ...        ...      ...      ...\n",
       "625    Topic6   5.805909   like  45.131340  -0.1569  -4.6866\n",
       "647    Topic6   4.464370   love  28.498978   0.0400  -4.9493\n",
       "1116   Topic6   4.054000   time  47.037080  -0.5575  -5.0457\n",
       "246    Topic6   3.830105    day  32.316813  -0.2389  -5.1025\n",
       "447    Topic6   3.853732    get  44.875659  -0.5611  -5.0964\n",
       "\n",
       "[307 rows x 6 columns], token_table=      Topic      Freq       Term\n",
       "term                            \n",
       "4         5  0.697027     accuse\n",
       "17        4  0.885497     afraid\n",
       "21        4  0.821168        ago\n",
       "25        6  0.639887      alive\n",
       "28        1  0.938847    alright\n",
       "...     ...       ...        ...\n",
       "1261      2  0.947311        yes\n",
       "1262      5  0.759934  yesterday\n",
       "1263      1  0.705742      young\n",
       "1263      5  0.264653      young\n",
       "1263      6  0.088218      young\n",
       "\n",
       "[366 rows x 3 columns], R=30, lambda_step=0.01, plot_opts={'xlab': 'PC1', 'ylab': 'PC2'}, topic_order=[1, 6, 5, 2, 3, 4])"
      ]
     },
     "execution_count": 34,
     "metadata": {},
     "output_type": "execute_result"
    }
   ],
   "source": [
    "pyLDAvis.sklearn.prepare(lda_6, tf, c_vec)"
   ]
  },
  {
   "cell_type": "markdown",
   "metadata": {},
   "source": [
    "---"
   ]
  },
  {
   "cell_type": "markdown",
   "metadata": {},
   "source": [
    "### Prepare Modeling on Test Train split on Album, Lyrics"
   ]
  },
  {
   "cell_type": "code",
   "execution_count": 35,
   "metadata": {
    "ExecuteTime": {
     "end_time": "2020-03-12T02:54:02.094976Z",
     "start_time": "2020-03-12T02:54:02.058641Z"
    }
   },
   "outputs": [],
   "source": [
    "# Get list of albums\n",
    "uniqs = data['name'].unique().tolist()"
   ]
  },
  {
   "cell_type": "code",
   "execution_count": 36,
   "metadata": {
    "ExecuteTime": {
     "end_time": "2020-03-12T02:54:08.034636Z",
     "start_time": "2020-03-12T02:54:07.998496Z"
    }
   },
   "outputs": [],
   "source": [
    "# Establish a numeric mapping to each album\n",
    "df_map = pd.DataFrame({'name': uniqs,\n",
    "                       'mapping' : list(range(len(uniqs)))\n",
    "                        })"
   ]
  },
  {
   "cell_type": "code",
   "execution_count": 37,
   "metadata": {
    "ExecuteTime": {
     "end_time": "2020-03-12T02:54:09.322922Z",
     "start_time": "2020-03-12T02:54:09.280425Z"
    }
   },
   "outputs": [],
   "source": [
    "# Combine\n",
    "data = pd.merge(data, df_map, how='left', on='name')"
   ]
  },
  {
   "cell_type": "code",
   "execution_count": 38,
   "metadata": {
    "ExecuteTime": {
     "end_time": "2020-03-12T02:54:10.598522Z",
     "start_time": "2020-03-12T02:54:10.562764Z"
    }
   },
   "outputs": [],
   "source": [
    "# Select y, X\n",
    "y = pd.Series(data['mapping'])\n",
    "X = pd.DataFrame(data['song_lyrics'])"
   ]
  },
  {
   "cell_type": "code",
   "execution_count": 76,
   "metadata": {
    "ExecuteTime": {
     "end_time": "2020-03-12T03:36:26.305425Z",
     "start_time": "2020-03-12T03:36:26.268040Z"
    }
   },
   "outputs": [],
   "source": [
    "# Train/Test\n",
    "from sklearn.model_selection import train_test_split\n",
    "X_train, X_test, \\\n",
    "y_train, y_test = train_test_split(X, y,\n",
    "                                   test_size=.33,\n",
    "                                   random_state=42)"
   ]
  },
  {
   "cell_type": "code",
   "execution_count": 77,
   "metadata": {
    "ExecuteTime": {
     "end_time": "2020-03-12T03:36:30.175606Z",
     "start_time": "2020-03-12T03:36:30.136764Z"
    }
   },
   "outputs": [
    {
     "data": {
      "text/plain": [
       "((1963, 1), (1963,))"
      ]
     },
     "execution_count": 77,
     "metadata": {},
     "output_type": "execute_result"
    },
    {
     "data": {
      "text/plain": [
       "((967, 1), (967,))"
      ]
     },
     "execution_count": 77,
     "metadata": {},
     "output_type": "execute_result"
    }
   ],
   "source": [
    "# Check\n",
    "X_train.shape, y_train.shape\n",
    "X_test.shape, y_test.shape"
   ]
  },
  {
   "cell_type": "markdown",
   "metadata": {},
   "source": [
    "#### Model TfidF and Multinomial Bayes and Score"
   ]
  },
  {
   "cell_type": "code",
   "execution_count": 78,
   "metadata": {
    "ExecuteTime": {
     "end_time": "2020-03-12T03:36:31.804647Z",
     "start_time": "2020-03-12T03:36:31.767150Z"
    }
   },
   "outputs": [],
   "source": [
    "#from sklearn.feature_extraction.text import TfidfVectorizer\n",
    "tf = TfidfVectorizer(sublinear_tf=True, \n",
    "                     norm='l2',\n",
    "                     encoding='latin-1',\n",
    "                     ngram_range=(1, 1),\n",
    "                     stop_words='english',     \n",
    "                    )"
   ]
  },
  {
   "cell_type": "code",
   "execution_count": 154,
   "metadata": {
    "ExecuteTime": {
     "end_time": "2020-03-12T04:38:13.880129Z",
     "start_time": "2020-03-12T04:38:13.735602Z"
    }
   },
   "outputs": [],
   "source": [
    "xt_vec = tf.fit_transform(X_train['song_lyrics'])\n",
    "xv_vec = tf.transform(X_test['song_lyrics'])\n",
    "# qqq\n",
    "features = tf.fit_transform(data['song_lyrics']).toarray()\n",
    "labels = data['mapping']\n",
    "# t_labels = y_train\n",
    "# v_labels = y_test"
   ]
  },
  {
   "cell_type": "raw",
   "metadata": {
    "ExecuteTime": {
     "end_time": "2020-03-12T04:38:14.900469Z",
     "start_time": "2020-03-12T04:38:14.860275Z"
    }
   },
   "source": [
    "# Check now TfidF vectorized\n",
    "xt_vec.shape\n",
    "xv_vec.shape\n",
    "# qqq \n",
    "features.shape\n",
    "labels.shape\n",
    "# t_labels.shape\n",
    "# v_labels.shape"
   ]
  },
  {
   "cell_type": "code",
   "execution_count": 81,
   "metadata": {
    "ExecuteTime": {
     "end_time": "2020-03-12T03:36:34.425563Z",
     "start_time": "2020-03-12T03:36:34.389599Z"
    }
   },
   "outputs": [],
   "source": [
    "from sklearn.naive_bayes import MultinomialNB\n",
    "m = MultinomialNB()"
   ]
  },
  {
   "cell_type": "code",
   "execution_count": 82,
   "metadata": {
    "ExecuteTime": {
     "end_time": "2020-03-12T03:36:35.136200Z",
     "start_time": "2020-03-12T03:36:35.097673Z"
    }
   },
   "outputs": [
    {
     "data": {
      "text/plain": [
       "MultinomialNB(alpha=1.0, class_prior=None, fit_prior=True)"
      ]
     },
     "execution_count": 82,
     "metadata": {},
     "output_type": "execute_result"
    }
   ],
   "source": [
    "m.fit(xt_vec, y_train)"
   ]
  },
  {
   "cell_type": "code",
   "execution_count": 83,
   "metadata": {
    "ExecuteTime": {
     "end_time": "2020-03-12T03:36:35.834795Z",
     "start_time": "2020-03-12T03:36:35.797477Z"
    }
   },
   "outputs": [
    {
     "data": {
      "text/plain": [
       "0.6367804381049414"
      ]
     },
     "execution_count": 83,
     "metadata": {},
     "output_type": "execute_result"
    }
   ],
   "source": [
    "m.score(xt_vec, y_train)"
   ]
  },
  {
   "cell_type": "code",
   "execution_count": 84,
   "metadata": {
    "ExecuteTime": {
     "end_time": "2020-03-12T03:36:36.844733Z",
     "start_time": "2020-03-12T03:36:36.807362Z"
    }
   },
   "outputs": [
    {
     "data": {
      "text/plain": [
       "0.3784901758014478"
      ]
     },
     "execution_count": 84,
     "metadata": {},
     "output_type": "execute_result"
    }
   ],
   "source": [
    "m.score(xv_vec, y_test)"
   ]
  },
  {
   "cell_type": "markdown",
   "metadata": {},
   "source": [
    "#### Model LinearRegression and Score"
   ]
  },
  {
   "cell_type": "code",
   "execution_count": 85,
   "metadata": {
    "ExecuteTime": {
     "end_time": "2020-03-12T03:36:39.497026Z",
     "start_time": "2020-03-12T03:36:39.461865Z"
    }
   },
   "outputs": [],
   "source": [
    "from sklearn.linear_model import LinearRegression"
   ]
  },
  {
   "cell_type": "code",
   "execution_count": 86,
   "metadata": {
    "ExecuteTime": {
     "end_time": "2020-03-12T03:36:40.081964Z",
     "start_time": "2020-03-12T03:36:40.047077Z"
    }
   },
   "outputs": [],
   "source": [
    "lr = LinearRegression()"
   ]
  },
  {
   "cell_type": "code",
   "execution_count": 87,
   "metadata": {
    "ExecuteTime": {
     "end_time": "2020-03-12T03:36:40.699099Z",
     "start_time": "2020-03-12T03:36:40.610714Z"
    }
   },
   "outputs": [
    {
     "data": {
      "text/plain": [
       "LinearRegression(copy_X=True, fit_intercept=True, n_jobs=None, normalize=False)"
      ]
     },
     "execution_count": 87,
     "metadata": {},
     "output_type": "execute_result"
    }
   ],
   "source": [
    "lr.fit(xt_vec, y_train)"
   ]
  },
  {
   "cell_type": "code",
   "execution_count": 88,
   "metadata": {
    "ExecuteTime": {
     "end_time": "2020-03-12T03:36:41.469946Z",
     "start_time": "2020-03-12T03:36:41.432107Z"
    }
   },
   "outputs": [
    {
     "data": {
      "text/plain": [
       "0.731501887427533"
      ]
     },
     "execution_count": 88,
     "metadata": {},
     "output_type": "execute_result"
    }
   ],
   "source": [
    "lr.score(xt_vec, y_train)"
   ]
  },
  {
   "cell_type": "code",
   "execution_count": 89,
   "metadata": {
    "ExecuteTime": {
     "end_time": "2020-03-12T03:36:42.390477Z",
     "start_time": "2020-03-12T03:36:42.319165Z"
    }
   },
   "outputs": [
    {
     "data": {
      "text/plain": [
       "LinearRegression(copy_X=True, fit_intercept=True, n_jobs=None, normalize=False)"
      ]
     },
     "execution_count": 89,
     "metadata": {},
     "output_type": "execute_result"
    }
   ],
   "source": [
    "lr.fit(xv_vec, y_test)"
   ]
  },
  {
   "cell_type": "code",
   "execution_count": 90,
   "metadata": {
    "ExecuteTime": {
     "end_time": "2020-03-12T03:36:43.315204Z",
     "start_time": "2020-03-12T03:36:43.277093Z"
    }
   },
   "outputs": [
    {
     "data": {
      "text/plain": [
       "0.7100049773142008"
      ]
     },
     "execution_count": 90,
     "metadata": {},
     "output_type": "execute_result"
    }
   ],
   "source": [
    "lr.score(xv_vec, y_test)"
   ]
  },
  {
   "cell_type": "markdown",
   "metadata": {},
   "source": [
    "#### Model LinearSVC and Score"
   ]
  },
  {
   "cell_type": "code",
   "execution_count": 91,
   "metadata": {
    "ExecuteTime": {
     "end_time": "2020-03-12T03:36:45.833613Z",
     "start_time": "2020-03-12T03:36:45.796920Z"
    }
   },
   "outputs": [],
   "source": [
    "from sklearn.svm import LinearSVC"
   ]
  },
  {
   "cell_type": "code",
   "execution_count": 156,
   "metadata": {
    "ExecuteTime": {
     "end_time": "2020-03-12T04:41:10.418126Z",
     "start_time": "2020-03-12T04:41:10.297000Z"
    }
   },
   "outputs": [
    {
     "data": {
      "text/plain": [
       "LinearSVC(C=1.0, class_weight=None, dual=True, fit_intercept=True,\n",
       "          intercept_scaling=1, loss='squared_hinge', max_iter=1000,\n",
       "          multi_class='ovr', penalty='l2', random_state=None, tol=0.0001,\n",
       "          verbose=0)"
      ]
     },
     "execution_count": 156,
     "metadata": {},
     "output_type": "execute_result"
    }
   ],
   "source": [
    "model = LinearSVC()\n",
    "\n",
    "#from sklearn.model_selection import train_test_split\n",
    "X_train, X_test, \\\n",
    "y_train, y_test, \\\n",
    "idx_train, idx_test = train_test_split(features, labels,\n",
    "                                       data.index,\n",
    "                                       test_size=.33,\n",
    "                                       random_state=42)\n",
    "\n",
    "model.fit(X_train, y_train)\n",
    "y_pred = model.predict(X_test)"
   ]
  },
  {
   "cell_type": "code",
   "execution_count": 158,
   "metadata": {
    "ExecuteTime": {
     "end_time": "2020-03-12T04:41:58.646419Z",
     "start_time": "2020-03-12T04:41:58.604720Z"
    }
   },
   "outputs": [],
   "source": [
    "from sklearn.metrics import confusion_matrix\n",
    "conf_mtx = confusion_matrix(y_test, y_pred)"
   ]
  },
  {
   "cell_type": "code",
   "execution_count": 159,
   "metadata": {
    "ExecuteTime": {
     "end_time": "2020-03-12T04:42:01.512786Z",
     "start_time": "2020-03-12T04:42:00.832478Z"
    }
   },
   "outputs": [
    {
     "data": {
      "image/png": "[encoded data removed]",
      "text/plain": [
       "<Figure size 1152x864 with 2 Axes>"
      ]
     },
     "metadata": {
      "needs_background": "light"
     },
     "output_type": "display_data"
    }
   ],
   "source": [
    "fig, ax = plt.subplots(figsize=(16,12))\n",
    "sns.heatmap(conf_mtx, annot=True, fmt='d',\n",
    "            xticklabels=df_map.name.values, yticklabels=df_map.name.values)\n",
    "plt.ylabel('Actual')\n",
    "plt.xlabel('Predicted')\n",
    "plt.show();"
   ]
  },
  {
   "cell_type": "code",
   "execution_count": 139,
   "metadata": {
    "ExecuteTime": {
     "end_time": "2020-03-12T04:16:09.103819Z",
     "start_time": "2020-03-12T04:16:09.068208Z"
    }
   },
   "outputs": [],
   "source": [
    "col = ['name','song_lyrics']\n",
    "df = data[col]"
   ]
  },
  {
   "cell_type": "code",
   "execution_count": 140,
   "metadata": {
    "ExecuteTime": {
     "end_time": "2020-03-12T04:16:10.012506Z",
     "start_time": "2020-03-12T04:16:09.967687Z"
    }
   },
   "outputs": [
    {
     "data": {
      "text/plain": [
       "(2930, 3)"
      ]
     },
     "execution_count": 140,
     "metadata": {},
     "output_type": "execute_result"
    },
    {
     "data": {
      "text/plain": [
       "11"
      ]
     },
     "execution_count": 140,
     "metadata": {},
     "output_type": "execute_result"
    }
   ],
   "source": [
    "df['mapping'] = df['name'].factorize()[0]\n",
    "mapping_df = data[['name', 'mapping']].drop_duplicates().sort_values('mapping')\n",
    "mapping_id = dict(mapping_df.values)\n",
    "id_to_map = dict(df_map[['mapping', 'name']].values)\n",
    "\n",
    "df.shape\n",
    "len(id_to_map)"
   ]
  },
  {
   "cell_type": "code",
   "execution_count": 161,
   "metadata": {
    "ExecuteTime": {
     "end_time": "2020-03-12T04:43:27.716675Z",
     "start_time": "2020-03-12T04:43:27.587244Z"
    }
   },
   "outputs": [
    {
     "name": "stdout",
     "output_type": "stream",
     "text": [
      "'Waiting for the Siren's Call' predicted as 'Unknown Pleasures' : 10 examples.\n"
     ]
    },
    {
     "data": {
      "text/html": [
       "<div>\n",
       "<style scoped>\n",
       "    .dataframe tbody tr th:only-of-type {\n",
       "        vertical-align: middle;\n",
       "    }\n",
       "\n",
       "    .dataframe tbody tr th {\n",
       "        vertical-align: top;\n",
       "    }\n",
       "\n",
       "    .dataframe thead th {\n",
       "        text-align: right;\n",
       "    }\n",
       "</style>\n",
       "<table border=\"1\" class=\"dataframe\">\n",
       "  <thead>\n",
       "    <tr style=\"text-align: right;\">\n",
       "      <th></th>\n",
       "      <th>name</th>\n",
       "      <th>song_lyrics</th>\n",
       "    </tr>\n",
       "  </thead>\n",
       "  <tbody>\n",
       "    <tr>\n",
       "      <th>2710</th>\n",
       "      <td>Waiting for the Siren's Call</td>\n",
       "      <td>You sure know a lot for a girl</td>\n",
       "    </tr>\n",
       "    <tr>\n",
       "      <th>2685</th>\n",
       "      <td>Waiting for the Siren's Call</td>\n",
       "      <td>Looking for the one</td>\n",
       "    </tr>\n",
       "    <tr>\n",
       "      <th>2750</th>\n",
       "      <td>Waiting for the Siren's Call</td>\n",
       "      <td>To the wall and through the door</td>\n",
       "    </tr>\n",
       "    <tr>\n",
       "      <th>2661</th>\n",
       "      <td>Waiting for the Siren's Call</td>\n",
       "      <td>City gates are open wide</td>\n",
       "    </tr>\n",
       "    <tr>\n",
       "      <th>2805</th>\n",
       "      <td>Waiting for the Siren's Call</td>\n",
       "      <td>What is it that your eyes see</td>\n",
       "    </tr>\n",
       "    <tr>\n",
       "      <th>2803</th>\n",
       "      <td>Waiting for the Siren's Call</td>\n",
       "      <td>You've gotta get back in control</td>\n",
       "    </tr>\n",
       "    <tr>\n",
       "      <th>2819</th>\n",
       "      <td>Waiting for the Siren's Call</td>\n",
       "      <td>You've gotta get back in control</td>\n",
       "    </tr>\n",
       "    <tr>\n",
       "      <th>2880</th>\n",
       "      <td>Waiting for the Siren's Call</td>\n",
       "      <td>How will you know</td>\n",
       "    </tr>\n",
       "    <tr>\n",
       "      <th>2627</th>\n",
       "      <td>Waiting for the Siren's Call</td>\n",
       "      <td>The sun shone through my window pane</td>\n",
       "    </tr>\n",
       "    <tr>\n",
       "      <th>2689</th>\n",
       "      <td>Waiting for the Siren's Call</td>\n",
       "      <td>Tried to get it right</td>\n",
       "    </tr>\n",
       "  </tbody>\n",
       "</table>\n",
       "</div>"
      ],
      "text/plain": [
       "                              name                           song_lyrics\n",
       "2710  Waiting for the Siren's Call        You sure know a lot for a girl\n",
       "2685  Waiting for the Siren's Call                   Looking for the one\n",
       "2750  Waiting for the Siren's Call      To the wall and through the door\n",
       "2661  Waiting for the Siren's Call              City gates are open wide\n",
       "2805  Waiting for the Siren's Call         What is it that your eyes see\n",
       "2803  Waiting for the Siren's Call      You've gotta get back in control\n",
       "2819  Waiting for the Siren's Call      You've gotta get back in control\n",
       "2880  Waiting for the Siren's Call                     How will you know\n",
       "2627  Waiting for the Siren's Call  The sun shone through my window pane\n",
       "2689  Waiting for the Siren's Call                 Tried to get it right"
      ]
     },
     "metadata": {},
     "output_type": "display_data"
    },
    {
     "name": "stdout",
     "output_type": "stream",
     "text": [
      "\n",
      "'Closer' predicted as 'Brotherhood' : 10 examples.\n"
     ]
    },
    {
     "data": {
      "text/html": [
       "<div>\n",
       "<style scoped>\n",
       "    .dataframe tbody tr th:only-of-type {\n",
       "        vertical-align: middle;\n",
       "    }\n",
       "\n",
       "    .dataframe tbody tr th {\n",
       "        vertical-align: top;\n",
       "    }\n",
       "\n",
       "    .dataframe thead th {\n",
       "        text-align: right;\n",
       "    }\n",
       "</style>\n",
       "<table border=\"1\" class=\"dataframe\">\n",
       "  <thead>\n",
       "    <tr style=\"text-align: right;\">\n",
       "      <th></th>\n",
       "      <th>name</th>\n",
       "      <th>song_lyrics</th>\n",
       "    </tr>\n",
       "  </thead>\n",
       "  <tbody>\n",
       "    <tr>\n",
       "      <th>410</th>\n",
       "      <td>Closer</td>\n",
       "      <td>Instincts that can still betray us</td>\n",
       "    </tr>\n",
       "    <tr>\n",
       "      <th>387</th>\n",
       "      <td>Closer</td>\n",
       "      <td>Two the same, set free too</td>\n",
       "    </tr>\n",
       "    <tr>\n",
       "      <th>478</th>\n",
       "      <td>Closer</td>\n",
       "      <td>Pushed to the limit, we dragged ourselves in</td>\n",
       "    </tr>\n",
       "    <tr>\n",
       "      <th>324</th>\n",
       "      <td>Closer</td>\n",
       "      <td>Mother I tried please believe me</td>\n",
       "    </tr>\n",
       "    <tr>\n",
       "      <th>414</th>\n",
       "      <td>Closer</td>\n",
       "      <td>You take my place in the showdown</td>\n",
       "    </tr>\n",
       "    <tr>\n",
       "      <th>480</th>\n",
       "      <td>Closer</td>\n",
       "      <td>We saw ourselves now as we never had seen</td>\n",
       "    </tr>\n",
       "    <tr>\n",
       "      <th>445</th>\n",
       "      <td>Closer</td>\n",
       "      <td>Just for one moment, thought I'd found my way</td>\n",
       "    </tr>\n",
       "    <tr>\n",
       "      <th>482</th>\n",
       "      <td>Closer</td>\n",
       "      <td>The sorrows we suffered and never were free</td>\n",
       "    </tr>\n",
       "    <tr>\n",
       "      <th>361</th>\n",
       "      <td>Closer</td>\n",
       "      <td>The sound from broken homes</td>\n",
       "    </tr>\n",
       "    <tr>\n",
       "      <th>290</th>\n",
       "      <td>Closer</td>\n",
       "      <td>Wins a minute to add to his life</td>\n",
       "    </tr>\n",
       "  </tbody>\n",
       "</table>\n",
       "</div>"
      ],
      "text/plain": [
       "       name                                    song_lyrics\n",
       "410  Closer             Instincts that can still betray us\n",
       "387  Closer                     Two the same, set free too\n",
       "478  Closer   Pushed to the limit, we dragged ourselves in\n",
       "324  Closer               Mother I tried please believe me\n",
       "414  Closer              You take my place in the showdown\n",
       "480  Closer      We saw ourselves now as we never had seen\n",
       "445  Closer  Just for one moment, thought I'd found my way\n",
       "482  Closer    The sorrows we suffered and never were free\n",
       "361  Closer                    The sound from broken homes\n",
       "290  Closer               Wins a minute to add to his life"
      ]
     },
     "metadata": {},
     "output_type": "display_data"
    },
    {
     "name": "stdout",
     "output_type": "stream",
     "text": [
      "\n",
      "'Closer' predicted as 'Get Ready' : 11 examples.\n"
     ]
    },
    {
     "data": {
      "text/html": [
       "<div>\n",
       "<style scoped>\n",
       "    .dataframe tbody tr th:only-of-type {\n",
       "        vertical-align: middle;\n",
       "    }\n",
       "\n",
       "    .dataframe tbody tr th {\n",
       "        vertical-align: top;\n",
       "    }\n",
       "\n",
       "    .dataframe thead th {\n",
       "        text-align: right;\n",
       "    }\n",
       "</style>\n",
       "<table border=\"1\" class=\"dataframe\">\n",
       "  <thead>\n",
       "    <tr style=\"text-align: right;\">\n",
       "      <th></th>\n",
       "      <th>name</th>\n",
       "      <th>song_lyrics</th>\n",
       "    </tr>\n",
       "  </thead>\n",
       "  <tbody>\n",
       "    <tr>\n",
       "      <th>298</th>\n",
       "      <td>Closer</td>\n",
       "      <td>This is the way, this is the way</td>\n",
       "    </tr>\n",
       "    <tr>\n",
       "      <th>366</th>\n",
       "      <td>Closer</td>\n",
       "      <td>Hands him the bag she packed, the tears she tr...</td>\n",
       "    </tr>\n",
       "    <tr>\n",
       "      <th>463</th>\n",
       "      <td>Closer</td>\n",
       "      <td>Stood by the gate at the foot of the garden</td>\n",
       "    </tr>\n",
       "    <tr>\n",
       "      <th>423</th>\n",
       "      <td>Closer</td>\n",
       "      <td>Then ripped apart at their roots</td>\n",
       "    </tr>\n",
       "    <tr>\n",
       "      <th>367</th>\n",
       "      <td>Closer</td>\n",
       "      <td>A cruel wind that blows down to our lunacy</td>\n",
       "    </tr>\n",
       "    <tr>\n",
       "      <th>313</th>\n",
       "      <td>Closer</td>\n",
       "      <td>All the dead wood from jungles and cities on fire</td>\n",
       "    </tr>\n",
       "    <tr>\n",
       "      <th>415</th>\n",
       "      <td>Closer</td>\n",
       "      <td>I'll observe with a pitiful eye</td>\n",
       "    </tr>\n",
       "    <tr>\n",
       "      <th>464</th>\n",
       "      <td>Closer</td>\n",
       "      <td>Watching them pass like clouds in the sky</td>\n",
       "    </tr>\n",
       "    <tr>\n",
       "      <th>315</th>\n",
       "      <td>Closer</td>\n",
       "      <td>Take my hand and I'll show you what was and wi...</td>\n",
       "    </tr>\n",
       "    <tr>\n",
       "      <th>297</th>\n",
       "      <td>Closer</td>\n",
       "      <td>This is the way, this is the way</td>\n",
       "    </tr>\n",
       "    <tr>\n",
       "      <th>449</th>\n",
       "      <td>Closer</td>\n",
       "      <td>Let's take a ride out, see what we can find</td>\n",
       "    </tr>\n",
       "  </tbody>\n",
       "</table>\n",
       "</div>"
      ],
      "text/plain": [
       "       name                                        song_lyrics\n",
       "298  Closer                   This is the way, this is the way\n",
       "366  Closer  Hands him the bag she packed, the tears she tr...\n",
       "463  Closer        Stood by the gate at the foot of the garden\n",
       "423  Closer                   Then ripped apart at their roots\n",
       "367  Closer         A cruel wind that blows down to our lunacy\n",
       "313  Closer  All the dead wood from jungles and cities on fire\n",
       "415  Closer                    I'll observe with a pitiful eye\n",
       "464  Closer          Watching them pass like clouds in the sky\n",
       "315  Closer  Take my hand and I'll show you what was and wi...\n",
       "297  Closer                   This is the way, this is the way\n",
       "449  Closer        Let's take a ride out, see what we can find"
      ]
     },
     "metadata": {},
     "output_type": "display_data"
    },
    {
     "name": "stdout",
     "output_type": "stream",
     "text": [
      "\n",
      "'Waiting for the Siren's Call' predicted as 'Get Ready' : 10 examples.\n"
     ]
    },
    {
     "data": {
      "text/html": [
       "<div>\n",
       "<style scoped>\n",
       "    .dataframe tbody tr th:only-of-type {\n",
       "        vertical-align: middle;\n",
       "    }\n",
       "\n",
       "    .dataframe tbody tr th {\n",
       "        vertical-align: top;\n",
       "    }\n",
       "\n",
       "    .dataframe thead th {\n",
       "        text-align: right;\n",
       "    }\n",
       "</style>\n",
       "<table border=\"1\" class=\"dataframe\">\n",
       "  <thead>\n",
       "    <tr style=\"text-align: right;\">\n",
       "      <th></th>\n",
       "      <th>name</th>\n",
       "      <th>song_lyrics</th>\n",
       "    </tr>\n",
       "  </thead>\n",
       "  <tbody>\n",
       "    <tr>\n",
       "      <th>2899</th>\n",
       "      <td>Waiting for the Siren's Call</td>\n",
       "      <td>And I'll take you there</td>\n",
       "    </tr>\n",
       "    <tr>\n",
       "      <th>2578</th>\n",
       "      <td>Waiting for the Siren's Call</td>\n",
       "      <td>I swear it's true</td>\n",
       "    </tr>\n",
       "    <tr>\n",
       "      <th>2519</th>\n",
       "      <td>Waiting for the Siren's Call</td>\n",
       "      <td>All shrunk down in a two-foot tube</td>\n",
       "    </tr>\n",
       "    <tr>\n",
       "      <th>2531</th>\n",
       "      <td>Waiting for the Siren's Call</td>\n",
       "      <td>I'll never let you go</td>\n",
       "    </tr>\n",
       "    <tr>\n",
       "      <th>2832</th>\n",
       "      <td>Waiting for the Siren's Call</td>\n",
       "      <td>I'm coming back for more</td>\n",
       "    </tr>\n",
       "    <tr>\n",
       "      <th>2891</th>\n",
       "      <td>Waiting for the Siren's Call</td>\n",
       "      <td>What are you gonna do?</td>\n",
       "    </tr>\n",
       "    <tr>\n",
       "      <th>2513</th>\n",
       "      <td>Waiting for the Siren's Call</td>\n",
       "      <td>I'll never let you go</td>\n",
       "    </tr>\n",
       "    <tr>\n",
       "      <th>2562</th>\n",
       "      <td>Waiting for the Siren's Call</td>\n",
       "      <td>What do you want me to do</td>\n",
       "    </tr>\n",
       "    <tr>\n",
       "      <th>2509</th>\n",
       "      <td>Waiting for the Siren's Call</td>\n",
       "      <td>This time I'll get it right (This time I'll ge...</td>\n",
       "    </tr>\n",
       "    <tr>\n",
       "      <th>2921</th>\n",
       "      <td>Waiting for the Siren's Call</td>\n",
       "      <td>And I'll take you there</td>\n",
       "    </tr>\n",
       "  </tbody>\n",
       "</table>\n",
       "</div>"
      ],
      "text/plain": [
       "                              name  \\\n",
       "2899  Waiting for the Siren's Call   \n",
       "2578  Waiting for the Siren's Call   \n",
       "2519  Waiting for the Siren's Call   \n",
       "2531  Waiting for the Siren's Call   \n",
       "2832  Waiting for the Siren's Call   \n",
       "2891  Waiting for the Siren's Call   \n",
       "2513  Waiting for the Siren's Call   \n",
       "2562  Waiting for the Siren's Call   \n",
       "2509  Waiting for the Siren's Call   \n",
       "2921  Waiting for the Siren's Call   \n",
       "\n",
       "                                            song_lyrics  \n",
       "2899                            And I'll take you there  \n",
       "2578                                  I swear it's true  \n",
       "2519                 All shrunk down in a two-foot tube  \n",
       "2531                              I'll never let you go  \n",
       "2832                           I'm coming back for more  \n",
       "2891                             What are you gonna do?  \n",
       "2513                              I'll never let you go  \n",
       "2562                          What do you want me to do  \n",
       "2509  This time I'll get it right (This time I'll ge...  \n",
       "2921                            And I'll take you there  "
      ]
     },
     "metadata": {},
     "output_type": "display_data"
    },
    {
     "name": "stdout",
     "output_type": "stream",
     "text": [
      "\n",
      "'Closer' predicted as 'Republic ' : 17 examples.\n"
     ]
    },
    {
     "data": {
      "text/html": [
       "<div>\n",
       "<style scoped>\n",
       "    .dataframe tbody tr th:only-of-type {\n",
       "        vertical-align: middle;\n",
       "    }\n",
       "\n",
       "    .dataframe tbody tr th {\n",
       "        vertical-align: top;\n",
       "    }\n",
       "\n",
       "    .dataframe thead th {\n",
       "        text-align: right;\n",
       "    }\n",
       "</style>\n",
       "<table border=\"1\" class=\"dataframe\">\n",
       "  <thead>\n",
       "    <tr style=\"text-align: right;\">\n",
       "      <th></th>\n",
       "      <th>name</th>\n",
       "      <th>song_lyrics</th>\n",
       "    </tr>\n",
       "  </thead>\n",
       "  <tbody>\n",
       "    <tr>\n",
       "      <th>420</th>\n",
       "      <td>Closer</td>\n",
       "      <td>An abyss that laughs at creation</td>\n",
       "    </tr>\n",
       "    <tr>\n",
       "      <th>402</th>\n",
       "      <td>Closer</td>\n",
       "      <td>Where dogs and vultures eat</td>\n",
       "    </tr>\n",
       "    <tr>\n",
       "      <th>485</th>\n",
       "      <td>Closer</td>\n",
       "      <td>Where have they been?</td>\n",
       "    </tr>\n",
       "    <tr>\n",
       "      <th>486</th>\n",
       "      <td>Closer</td>\n",
       "      <td>Where have they been?</td>\n",
       "    </tr>\n",
       "    <tr>\n",
       "      <th>289</th>\n",
       "      <td>Closer</td>\n",
       "      <td>In arenas he kills for a prize</td>\n",
       "    </tr>\n",
       "    <tr>\n",
       "      <th>450</th>\n",
       "      <td>Closer</td>\n",
       "      <td>A valueless collection of hopes and past desires</td>\n",
       "    </tr>\n",
       "    <tr>\n",
       "      <th>331</th>\n",
       "      <td>Closer</td>\n",
       "      <td>This is my one lucky prize</td>\n",
       "    </tr>\n",
       "    <tr>\n",
       "      <th>393</th>\n",
       "      <td>Closer</td>\n",
       "      <td>On stranger waves, the lows and highs</td>\n",
       "    </tr>\n",
       "    <tr>\n",
       "      <th>322</th>\n",
       "      <td>Closer</td>\n",
       "      <td>A blindness that touches perfection</td>\n",
       "    </tr>\n",
       "    <tr>\n",
       "      <th>291</th>\n",
       "      <td>Closer</td>\n",
       "      <td>But the sickness is drowned by cries for more</td>\n",
       "    </tr>\n",
       "    <tr>\n",
       "      <th>408</th>\n",
       "      <td>Closer</td>\n",
       "      <td>In you. In you. In you</td>\n",
       "    </tr>\n",
       "    <tr>\n",
       "      <th>365</th>\n",
       "      <td>Closer</td>\n",
       "      <td>A worried parent's glance, a kiss, a last goodbye</td>\n",
       "    </tr>\n",
       "    <tr>\n",
       "      <th>432</th>\n",
       "      <td>Closer</td>\n",
       "      <td>The past is now part of my future</td>\n",
       "    </tr>\n",
       "    <tr>\n",
       "      <th>422</th>\n",
       "      <td>Closer</td>\n",
       "      <td>Foundations that lasted the ages</td>\n",
       "    </tr>\n",
       "    <tr>\n",
       "      <th>456</th>\n",
       "      <td>Closer</td>\n",
       "      <td>Gotta find some therapy, this treatment takes ...</td>\n",
       "    </tr>\n",
       "    <tr>\n",
       "      <th>350</th>\n",
       "      <td>Closer</td>\n",
       "      <td>Sanctuary from these feverish smiles</td>\n",
       "    </tr>\n",
       "    <tr>\n",
       "      <th>303</th>\n",
       "      <td>Closer</td>\n",
       "      <td>You'll see the horrors of a faraway place</td>\n",
       "    </tr>\n",
       "  </tbody>\n",
       "</table>\n",
       "</div>"
      ],
      "text/plain": [
       "       name                                        song_lyrics\n",
       "420  Closer                   An abyss that laughs at creation\n",
       "402  Closer                        Where dogs and vultures eat\n",
       "485  Closer                              Where have they been?\n",
       "486  Closer                              Where have they been?\n",
       "289  Closer                     In arenas he kills for a prize\n",
       "450  Closer   A valueless collection of hopes and past desires\n",
       "331  Closer                         This is my one lucky prize\n",
       "393  Closer              On stranger waves, the lows and highs\n",
       "322  Closer                A blindness that touches perfection\n",
       "291  Closer      But the sickness is drowned by cries for more\n",
       "408  Closer                             In you. In you. In you\n",
       "365  Closer  A worried parent's glance, a kiss, a last goodbye\n",
       "432  Closer                  The past is now part of my future\n",
       "422  Closer                   Foundations that lasted the ages\n",
       "456  Closer  Gotta find some therapy, this treatment takes ...\n",
       "350  Closer               Sanctuary from these feverish smiles\n",
       "303  Closer          You'll see the horrors of a faraway place"
      ]
     },
     "metadata": {},
     "output_type": "display_data"
    },
    {
     "name": "stdout",
     "output_type": "stream",
     "text": [
      "\n",
      "'Technique' predicted as 'Republic ' : 11 examples.\n"
     ]
    },
    {
     "data": {
      "text/html": [
       "<div>\n",
       "<style scoped>\n",
       "    .dataframe tbody tr th:only-of-type {\n",
       "        vertical-align: middle;\n",
       "    }\n",
       "\n",
       "    .dataframe tbody tr th {\n",
       "        vertical-align: top;\n",
       "    }\n",
       "\n",
       "    .dataframe thead th {\n",
       "        text-align: right;\n",
       "    }\n",
       "</style>\n",
       "<table border=\"1\" class=\"dataframe\">\n",
       "  <thead>\n",
       "    <tr style=\"text-align: right;\">\n",
       "      <th></th>\n",
       "      <th>name</th>\n",
       "      <th>song_lyrics</th>\n",
       "    </tr>\n",
       "  </thead>\n",
       "  <tbody>\n",
       "    <tr>\n",
       "      <th>532</th>\n",
       "      <td>Technique</td>\n",
       "      <td>I was blind and I couldn't see</td>\n",
       "    </tr>\n",
       "    <tr>\n",
       "      <th>506</th>\n",
       "      <td>Technique</td>\n",
       "      <td>And that's why we could be</td>\n",
       "    </tr>\n",
       "    <tr>\n",
       "      <th>535</th>\n",
       "      <td>Technique</td>\n",
       "      <td>And all this emotion</td>\n",
       "    </tr>\n",
       "    <tr>\n",
       "      <th>567</th>\n",
       "      <td>Technique</td>\n",
       "      <td>No price or pride would fall before</td>\n",
       "    </tr>\n",
       "    <tr>\n",
       "      <th>612</th>\n",
       "      <td>Technique</td>\n",
       "      <td>Then you break your life in two</td>\n",
       "    </tr>\n",
       "    <tr>\n",
       "      <th>509</th>\n",
       "      <td>Technique</td>\n",
       "      <td>The past doesn't matter</td>\n",
       "    </tr>\n",
       "    <tr>\n",
       "      <th>642</th>\n",
       "      <td>Technique</td>\n",
       "      <td>It's not for me or anyone</td>\n",
       "    </tr>\n",
       "    <tr>\n",
       "      <th>718</th>\n",
       "      <td>Technique</td>\n",
       "      <td>Without you there's no tomorrow</td>\n",
       "    </tr>\n",
       "    <tr>\n",
       "      <th>655</th>\n",
       "      <td>Technique</td>\n",
       "      <td>Grow up, children, don't you suffer</td>\n",
       "    </tr>\n",
       "    <tr>\n",
       "      <th>561</th>\n",
       "      <td>Technique</td>\n",
       "      <td>Can't you see?</td>\n",
       "    </tr>\n",
       "    <tr>\n",
       "      <th>582</th>\n",
       "      <td>Technique</td>\n",
       "      <td>And almost anything that you see</td>\n",
       "    </tr>\n",
       "  </tbody>\n",
       "</table>\n",
       "</div>"
      ],
      "text/plain": [
       "          name                          song_lyrics\n",
       "532  Technique       I was blind and I couldn't see\n",
       "506  Technique           And that's why we could be\n",
       "535  Technique                 And all this emotion\n",
       "567  Technique  No price or pride would fall before\n",
       "612  Technique      Then you break your life in two\n",
       "509  Technique            The past doesn't matter  \n",
       "642  Technique            It's not for me or anyone\n",
       "718  Technique      Without you there's no tomorrow\n",
       "655  Technique  Grow up, children, don't you suffer\n",
       "561  Technique                       Can't you see?\n",
       "582  Technique     And almost anything that you see"
      ]
     },
     "metadata": {},
     "output_type": "display_data"
    },
    {
     "name": "stdout",
     "output_type": "stream",
     "text": [
      "\n",
      "'Brotherhood' predicted as 'Republic ' : 12 examples.\n"
     ]
    },
    {
     "data": {
      "text/html": [
       "<div>\n",
       "<style scoped>\n",
       "    .dataframe tbody tr th:only-of-type {\n",
       "        vertical-align: middle;\n",
       "    }\n",
       "\n",
       "    .dataframe tbody tr th {\n",
       "        vertical-align: top;\n",
       "    }\n",
       "\n",
       "    .dataframe thead th {\n",
       "        text-align: right;\n",
       "    }\n",
       "</style>\n",
       "<table border=\"1\" class=\"dataframe\">\n",
       "  <thead>\n",
       "    <tr style=\"text-align: right;\">\n",
       "      <th></th>\n",
       "      <th>name</th>\n",
       "      <th>song_lyrics</th>\n",
       "    </tr>\n",
       "  </thead>\n",
       "  <tbody>\n",
       "    <tr>\n",
       "      <th>961</th>\n",
       "      <td>Brotherhood</td>\n",
       "      <td>When I am with you</td>\n",
       "    </tr>\n",
       "    <tr>\n",
       "      <th>755</th>\n",
       "      <td>Brotherhood</td>\n",
       "      <td>Why can't we be ourselves like we were yesterday</td>\n",
       "    </tr>\n",
       "    <tr>\n",
       "      <th>817</th>\n",
       "      <td>Brotherhood</td>\n",
       "      <td>Shall we leave our world alone</td>\n",
       "    </tr>\n",
       "    <tr>\n",
       "      <th>807</th>\n",
       "      <td>Brotherhood</td>\n",
       "      <td>[Pre-Chorus 2]</td>\n",
       "    </tr>\n",
       "    <tr>\n",
       "      <th>802</th>\n",
       "      <td>Brotherhood</td>\n",
       "      <td>I need you, I need you</td>\n",
       "    </tr>\n",
       "    <tr>\n",
       "      <th>944</th>\n",
       "      <td>Brotherhood</td>\n",
       "      <td>What shall I say</td>\n",
       "    </tr>\n",
       "    <tr>\n",
       "      <th>867</th>\n",
       "      <td>Brotherhood</td>\n",
       "      <td>From a stolen pen to a velvet glove</td>\n",
       "    </tr>\n",
       "    <tr>\n",
       "      <th>819</th>\n",
       "      <td>Brotherhood</td>\n",
       "      <td>[Pre-Chorus 2]</td>\n",
       "    </tr>\n",
       "    <tr>\n",
       "      <th>979</th>\n",
       "      <td>Brotherhood</td>\n",
       "      <td>I still follow you</td>\n",
       "    </tr>\n",
       "    <tr>\n",
       "      <th>940</th>\n",
       "      <td>Brotherhood</td>\n",
       "      <td>Or all the problems of our economics</td>\n",
       "    </tr>\n",
       "    <tr>\n",
       "      <th>964</th>\n",
       "      <td>Brotherhood</td>\n",
       "      <td>I guess I should've known</td>\n",
       "    </tr>\n",
       "    <tr>\n",
       "      <th>788</th>\n",
       "      <td>Brotherhood</td>\n",
       "      <td>I need you, I need you</td>\n",
       "    </tr>\n",
       "  </tbody>\n",
       "</table>\n",
       "</div>"
      ],
      "text/plain": [
       "            name                                       song_lyrics\n",
       "961  Brotherhood                                When I am with you\n",
       "755  Brotherhood  Why can't we be ourselves like we were yesterday\n",
       "817  Brotherhood                    Shall we leave our world alone\n",
       "807  Brotherhood                                    [Pre-Chorus 2]\n",
       "802  Brotherhood                            I need you, I need you\n",
       "944  Brotherhood                                  What shall I say\n",
       "867  Brotherhood               From a stolen pen to a velvet glove\n",
       "819  Brotherhood                                    [Pre-Chorus 2]\n",
       "979  Brotherhood                                I still follow you\n",
       "940  Brotherhood              Or all the problems of our economics\n",
       "964  Brotherhood                         I guess I should've known\n",
       "788  Brotherhood                            I need you, I need you"
      ]
     },
     "metadata": {},
     "output_type": "display_data"
    },
    {
     "name": "stdout",
     "output_type": "stream",
     "text": [
      "\n",
      "'Get Ready' predicted as 'Republic ' : 18 examples.\n"
     ]
    },
    {
     "data": {
      "text/html": [
       "<div>\n",
       "<style scoped>\n",
       "    .dataframe tbody tr th:only-of-type {\n",
       "        vertical-align: middle;\n",
       "    }\n",
       "\n",
       "    .dataframe tbody tr th {\n",
       "        vertical-align: top;\n",
       "    }\n",
       "\n",
       "    .dataframe thead th {\n",
       "        text-align: right;\n",
       "    }\n",
       "</style>\n",
       "<table border=\"1\" class=\"dataframe\">\n",
       "  <thead>\n",
       "    <tr style=\"text-align: right;\">\n",
       "      <th></th>\n",
       "      <th>name</th>\n",
       "      <th>song_lyrics</th>\n",
       "    </tr>\n",
       "  </thead>\n",
       "  <tbody>\n",
       "    <tr>\n",
       "      <th>1544</th>\n",
       "      <td>Get Ready</td>\n",
       "      <td>The crew are stranded</td>\n",
       "    </tr>\n",
       "    <tr>\n",
       "      <th>1462</th>\n",
       "      <td>Get Ready</td>\n",
       "      <td>I can't get enough of this</td>\n",
       "    </tr>\n",
       "    <tr>\n",
       "      <th>1326</th>\n",
       "      <td>Get Ready</td>\n",
       "      <td>Yet it only seems just like yesterday</td>\n",
       "    </tr>\n",
       "    <tr>\n",
       "      <th>1398</th>\n",
       "      <td>Get Ready</td>\n",
       "      <td>Don't steal my crown</td>\n",
       "    </tr>\n",
       "    <tr>\n",
       "      <th>1497</th>\n",
       "      <td>Get Ready</td>\n",
       "      <td>I can't get enough of this</td>\n",
       "    </tr>\n",
       "    <tr>\n",
       "      <th>1486</th>\n",
       "      <td>Get Ready</td>\n",
       "      <td>I can't get enough of this</td>\n",
       "    </tr>\n",
       "    <tr>\n",
       "      <th>1361</th>\n",
       "      <td>Get Ready</td>\n",
       "      <td>But I'm seeking sanctuary</td>\n",
       "    </tr>\n",
       "    <tr>\n",
       "      <th>1538</th>\n",
       "      <td>Get Ready</td>\n",
       "      <td>My heart is burning</td>\n",
       "    </tr>\n",
       "    <tr>\n",
       "      <th>1264</th>\n",
       "      <td>Get Ready</td>\n",
       "      <td>I put my future out of frame</td>\n",
       "    </tr>\n",
       "    <tr>\n",
       "      <th>1494</th>\n",
       "      <td>Get Ready</td>\n",
       "      <td>I can't get enough of this</td>\n",
       "    </tr>\n",
       "    <tr>\n",
       "      <th>1551</th>\n",
       "      <td>Get Ready</td>\n",
       "      <td>The sweetest symphony</td>\n",
       "    </tr>\n",
       "    <tr>\n",
       "      <th>1450</th>\n",
       "      <td>Get Ready</td>\n",
       "      <td>But I'm not the only one</td>\n",
       "    </tr>\n",
       "    <tr>\n",
       "      <th>1456</th>\n",
       "      <td>Get Ready</td>\n",
       "      <td>It made me feel sick</td>\n",
       "    </tr>\n",
       "    <tr>\n",
       "      <th>1375</th>\n",
       "      <td>Get Ready</td>\n",
       "      <td>There together you and me</td>\n",
       "    </tr>\n",
       "    <tr>\n",
       "      <th>1229</th>\n",
       "      <td>Get Ready</td>\n",
       "      <td>Your behavior is so volatile</td>\n",
       "    </tr>\n",
       "    <tr>\n",
       "      <th>1502</th>\n",
       "      <td>Get Ready</td>\n",
       "      <td>I can't get enough of this</td>\n",
       "    </tr>\n",
       "    <tr>\n",
       "      <th>1211</th>\n",
       "      <td>Get Ready</td>\n",
       "      <td>(whenever you're here with me)</td>\n",
       "    </tr>\n",
       "    <tr>\n",
       "      <th>1190</th>\n",
       "      <td>Get Ready</td>\n",
       "      <td>We're like crystal, we break easy</td>\n",
       "    </tr>\n",
       "  </tbody>\n",
       "</table>\n",
       "</div>"
      ],
      "text/plain": [
       "           name                            song_lyrics\n",
       "1544  Get Ready                  The crew are stranded\n",
       "1462  Get Ready             I can't get enough of this\n",
       "1326  Get Ready  Yet it only seems just like yesterday\n",
       "1398  Get Ready                   Don't steal my crown\n",
       "1497  Get Ready             I can't get enough of this\n",
       "1486  Get Ready             I can't get enough of this\n",
       "1361  Get Ready              But I'm seeking sanctuary\n",
       "1538  Get Ready                    My heart is burning\n",
       "1264  Get Ready           I put my future out of frame\n",
       "1494  Get Ready             I can't get enough of this\n",
       "1551  Get Ready                  The sweetest symphony\n",
       "1450  Get Ready               But I'm not the only one\n",
       "1456  Get Ready                   It made me feel sick\n",
       "1375  Get Ready              There together you and me\n",
       "1229  Get Ready           Your behavior is so volatile\n",
       "1502  Get Ready             I can't get enough of this\n",
       "1211  Get Ready         (whenever you're here with me)\n",
       "1190  Get Ready      We're like crystal, we break easy"
      ]
     },
     "metadata": {},
     "output_type": "display_data"
    },
    {
     "name": "stdout",
     "output_type": "stream",
     "text": [
      "\n",
      "'Low-Life' predicted as 'Republic ' : 12 examples.\n"
     ]
    },
    {
     "data": {
      "text/html": [
       "<div>\n",
       "<style scoped>\n",
       "    .dataframe tbody tr th:only-of-type {\n",
       "        vertical-align: middle;\n",
       "    }\n",
       "\n",
       "    .dataframe tbody tr th {\n",
       "        vertical-align: top;\n",
       "    }\n",
       "\n",
       "    .dataframe thead th {\n",
       "        text-align: right;\n",
       "    }\n",
       "</style>\n",
       "<table border=\"1\" class=\"dataframe\">\n",
       "  <thead>\n",
       "    <tr style=\"text-align: right;\">\n",
       "      <th></th>\n",
       "      <th>name</th>\n",
       "      <th>song_lyrics</th>\n",
       "    </tr>\n",
       "  </thead>\n",
       "  <tbody>\n",
       "    <tr>\n",
       "      <th>2290</th>\n",
       "      <td>Low-Life</td>\n",
       "      <td>I think I'll go there when it gets seasonable</td>\n",
       "    </tr>\n",
       "    <tr>\n",
       "      <th>2359</th>\n",
       "      <td>Low-Life</td>\n",
       "      <td>My friend, he took his final breath</td>\n",
       "    </tr>\n",
       "    <tr>\n",
       "      <th>2392</th>\n",
       "      <td>Low-Life</td>\n",
       "      <td>Without you I'm on my own</td>\n",
       "    </tr>\n",
       "    <tr>\n",
       "      <th>2335</th>\n",
       "      <td>Low-Life</td>\n",
       "      <td>Suggested we go out together</td>\n",
       "    </tr>\n",
       "    <tr>\n",
       "      <th>2396</th>\n",
       "      <td>Low-Life</td>\n",
       "      <td>Without you I'm on my own</td>\n",
       "    </tr>\n",
       "    <tr>\n",
       "      <th>2303</th>\n",
       "      <td>Low-Life</td>\n",
       "      <td>With our rifles and grenades</td>\n",
       "    </tr>\n",
       "    <tr>\n",
       "      <th>2417</th>\n",
       "      <td>Low-Life</td>\n",
       "      <td>I feel so low, I feel so humble</td>\n",
       "    </tr>\n",
       "    <tr>\n",
       "      <th>2490</th>\n",
       "      <td>Low-Life</td>\n",
       "      <td>What do I get out of this?</td>\n",
       "    </tr>\n",
       "    <tr>\n",
       "      <th>2376</th>\n",
       "      <td>Low-Life</td>\n",
       "      <td>Without you I'm on my own</td>\n",
       "    </tr>\n",
       "    <tr>\n",
       "      <th>2428</th>\n",
       "      <td>Low-Life</td>\n",
       "      <td>You were me and I was you</td>\n",
       "    </tr>\n",
       "    <tr>\n",
       "      <th>2360</th>\n",
       "      <td>Low-Life</td>\n",
       "      <td>Now I know the perfect kiss is the kiss of death</td>\n",
       "    </tr>\n",
       "    <tr>\n",
       "      <th>2337</th>\n",
       "      <td>Low-Life</td>\n",
       "      <td>This friend of mine would fall apart</td>\n",
       "    </tr>\n",
       "  </tbody>\n",
       "</table>\n",
       "</div>"
      ],
      "text/plain": [
       "          name                                       song_lyrics\n",
       "2290  Low-Life     I think I'll go there when it gets seasonable\n",
       "2359  Low-Life               My friend, he took his final breath\n",
       "2392  Low-Life                         Without you I'm on my own\n",
       "2335  Low-Life                      Suggested we go out together\n",
       "2396  Low-Life                         Without you I'm on my own\n",
       "2303  Low-Life                      With our rifles and grenades\n",
       "2417  Low-Life                   I feel so low, I feel so humble\n",
       "2490  Low-Life                        What do I get out of this?\n",
       "2376  Low-Life                         Without you I'm on my own\n",
       "2428  Low-Life                         You were me and I was you\n",
       "2360  Low-Life  Now I know the perfect kiss is the kiss of death\n",
       "2337  Low-Life              This friend of mine would fall apart"
      ]
     },
     "metadata": {},
     "output_type": "display_data"
    },
    {
     "name": "stdout",
     "output_type": "stream",
     "text": [
      "\n",
      "'Waiting for the Siren's Call' predicted as 'Republic ' : 24 examples.\n"
     ]
    },
    {
     "data": {
      "text/html": [
       "<div>\n",
       "<style scoped>\n",
       "    .dataframe tbody tr th:only-of-type {\n",
       "        vertical-align: middle;\n",
       "    }\n",
       "\n",
       "    .dataframe tbody tr th {\n",
       "        vertical-align: top;\n",
       "    }\n",
       "\n",
       "    .dataframe thead th {\n",
       "        text-align: right;\n",
       "    }\n",
       "</style>\n",
       "<table border=\"1\" class=\"dataframe\">\n",
       "  <thead>\n",
       "    <tr style=\"text-align: right;\">\n",
       "      <th></th>\n",
       "      <th>name</th>\n",
       "      <th>song_lyrics</th>\n",
       "    </tr>\n",
       "  </thead>\n",
       "  <tbody>\n",
       "    <tr>\n",
       "      <th>2779</th>\n",
       "      <td>Waiting for the Siren's Call</td>\n",
       "      <td>When you're gone</td>\n",
       "    </tr>\n",
       "    <tr>\n",
       "      <th>2615</th>\n",
       "      <td>Waiting for the Siren's Call</td>\n",
       "      <td>You were not real</td>\n",
       "    </tr>\n",
       "    <tr>\n",
       "      <th>2505</th>\n",
       "      <td>Waiting for the Siren's Call</td>\n",
       "      <td>And isn't what you wanna do</td>\n",
       "    </tr>\n",
       "    <tr>\n",
       "      <th>2834</th>\n",
       "      <td>Waiting for the Siren's Call</td>\n",
       "      <td>J-E-T (J-E-T)</td>\n",
       "    </tr>\n",
       "    <tr>\n",
       "      <th>2900</th>\n",
       "      <td>Waiting for the Siren's Call</td>\n",
       "      <td>Wherever you go</td>\n",
       "    </tr>\n",
       "    <tr>\n",
       "      <th>2863</th>\n",
       "      <td>Waiting for the Siren's Call</td>\n",
       "      <td>J-E-T (J-E-T)</td>\n",
       "    </tr>\n",
       "    <tr>\n",
       "      <th>2607</th>\n",
       "      <td>Waiting for the Siren's Call</td>\n",
       "      <td>You were not real</td>\n",
       "    </tr>\n",
       "    <tr>\n",
       "      <th>2637</th>\n",
       "      <td>Waiting for the Siren's Call</td>\n",
       "      <td>Couldn't get a cab at half past five</td>\n",
       "    </tr>\n",
       "    <tr>\n",
       "      <th>2916</th>\n",
       "      <td>Waiting for the Siren's Call</td>\n",
       "      <td>Wherever you go</td>\n",
       "    </tr>\n",
       "    <tr>\n",
       "      <th>2873</th>\n",
       "      <td>Waiting for the Siren's Call</td>\n",
       "      <td>But you're gone</td>\n",
       "    </tr>\n",
       "    <tr>\n",
       "      <th>2838</th>\n",
       "      <td>Waiting for the Siren's Call</td>\n",
       "      <td>J-E-T (J-E-T)</td>\n",
       "    </tr>\n",
       "    <tr>\n",
       "      <th>2581</th>\n",
       "      <td>Waiting for the Siren's Call</td>\n",
       "      <td>To Dracula's castle</td>\n",
       "    </tr>\n",
       "    <tr>\n",
       "      <th>2761</th>\n",
       "      <td>Waiting for the Siren's Call</td>\n",
       "      <td>First to Paris then to Spain</td>\n",
       "    </tr>\n",
       "    <tr>\n",
       "      <th>2683</th>\n",
       "      <td>Waiting for the Siren's Call</td>\n",
       "      <td>House music all night long</td>\n",
       "    </tr>\n",
       "    <tr>\n",
       "      <th>2504</th>\n",
       "      <td>Waiting for the Siren's Call</td>\n",
       "      <td>Isn't where you wanna be</td>\n",
       "    </tr>\n",
       "    <tr>\n",
       "      <th>2926</th>\n",
       "      <td>Waiting for the Siren's Call</td>\n",
       "      <td>Whatever I do (Whatever I do)</td>\n",
       "    </tr>\n",
       "    <tr>\n",
       "      <th>2850</th>\n",
       "      <td>Waiting for the Siren's Call</td>\n",
       "      <td>J-E-T (J-E-T)</td>\n",
       "    </tr>\n",
       "    <tr>\n",
       "      <th>2867</th>\n",
       "      <td>Waiting for the Siren's Call</td>\n",
       "      <td>J-E-T (J-E-T)</td>\n",
       "    </tr>\n",
       "    <tr>\n",
       "      <th>2521</th>\n",
       "      <td>Waiting for the Siren's Call</td>\n",
       "      <td>With mountains, lakes and the human race</td>\n",
       "    </tr>\n",
       "    <tr>\n",
       "      <th>2917</th>\n",
       "      <td>Waiting for the Siren's Call</td>\n",
       "      <td>Whatever you do</td>\n",
       "    </tr>\n",
       "    <tr>\n",
       "      <th>2745</th>\n",
       "      <td>Waiting for the Siren's Call</td>\n",
       "      <td>Cutting through the breaking waves</td>\n",
       "    </tr>\n",
       "    <tr>\n",
       "      <th>2656</th>\n",
       "      <td>Waiting for the Siren's Call</td>\n",
       "      <td>Who's that over there</td>\n",
       "    </tr>\n",
       "    <tr>\n",
       "      <th>2929</th>\n",
       "      <td>Waiting for the Siren's Call</td>\n",
       "      <td>Whatever I do (Whatever I do)</td>\n",
       "    </tr>\n",
       "    <tr>\n",
       "      <th>2874</th>\n",
       "      <td>Waiting for the Siren's Call</td>\n",
       "      <td>But you're gone</td>\n",
       "    </tr>\n",
       "  </tbody>\n",
       "</table>\n",
       "</div>"
      ],
      "text/plain": [
       "                              name                               song_lyrics\n",
       "2779  Waiting for the Siren's Call                          When you're gone\n",
       "2615  Waiting for the Siren's Call                         You were not real\n",
       "2505  Waiting for the Siren's Call               And isn't what you wanna do\n",
       "2834  Waiting for the Siren's Call                             J-E-T (J-E-T)\n",
       "2900  Waiting for the Siren's Call                           Wherever you go\n",
       "2863  Waiting for the Siren's Call                             J-E-T (J-E-T)\n",
       "2607  Waiting for the Siren's Call                         You were not real\n",
       "2637  Waiting for the Siren's Call      Couldn't get a cab at half past five\n",
       "2916  Waiting for the Siren's Call                           Wherever you go\n",
       "2873  Waiting for the Siren's Call                           But you're gone\n",
       "2838  Waiting for the Siren's Call                             J-E-T (J-E-T)\n",
       "2581  Waiting for the Siren's Call                       To Dracula's castle\n",
       "2761  Waiting for the Siren's Call              First to Paris then to Spain\n",
       "2683  Waiting for the Siren's Call                House music all night long\n",
       "2504  Waiting for the Siren's Call                  Isn't where you wanna be\n",
       "2926  Waiting for the Siren's Call             Whatever I do (Whatever I do)\n",
       "2850  Waiting for the Siren's Call                             J-E-T (J-E-T)\n",
       "2867  Waiting for the Siren's Call                             J-E-T (J-E-T)\n",
       "2521  Waiting for the Siren's Call  With mountains, lakes and the human race\n",
       "2917  Waiting for the Siren's Call                           Whatever you do\n",
       "2745  Waiting for the Siren's Call        Cutting through the breaking waves\n",
       "2656  Waiting for the Siren's Call                     Who's that over there\n",
       "2929  Waiting for the Siren's Call             Whatever I do (Whatever I do)\n",
       "2874  Waiting for the Siren's Call                           But you're gone"
      ]
     },
     "metadata": {},
     "output_type": "display_data"
    },
    {
     "name": "stdout",
     "output_type": "stream",
     "text": [
      "\n",
      "'Get Ready' predicted as 'Waiting for the Siren's Call' : 15 examples.\n"
     ]
    },
    {
     "data": {
      "text/html": [
       "<div>\n",
       "<style scoped>\n",
       "    .dataframe tbody tr th:only-of-type {\n",
       "        vertical-align: middle;\n",
       "    }\n",
       "\n",
       "    .dataframe tbody tr th {\n",
       "        vertical-align: top;\n",
       "    }\n",
       "\n",
       "    .dataframe thead th {\n",
       "        text-align: right;\n",
       "    }\n",
       "</style>\n",
       "<table border=\"1\" class=\"dataframe\">\n",
       "  <thead>\n",
       "    <tr style=\"text-align: right;\">\n",
       "      <th></th>\n",
       "      <th>name</th>\n",
       "      <th>song_lyrics</th>\n",
       "    </tr>\n",
       "  </thead>\n",
       "  <tbody>\n",
       "    <tr>\n",
       "      <th>1222</th>\n",
       "      <td>Get Ready</td>\n",
       "      <td>You can drink this magic potion</td>\n",
       "    </tr>\n",
       "    <tr>\n",
       "      <th>1505</th>\n",
       "      <td>Get Ready</td>\n",
       "      <td>But all the time when I'm alone</td>\n",
       "    </tr>\n",
       "    <tr>\n",
       "      <th>1221</th>\n",
       "      <td>Get Ready</td>\n",
       "      <td>And if you think you'd like to try</td>\n",
       "    </tr>\n",
       "    <tr>\n",
       "      <th>1426</th>\n",
       "      <td>Get Ready</td>\n",
       "      <td>Don't wanna have to work</td>\n",
       "    </tr>\n",
       "    <tr>\n",
       "      <th>1259</th>\n",
       "      <td>Get Ready</td>\n",
       "      <td>That's just the way it is</td>\n",
       "    </tr>\n",
       "    <tr>\n",
       "      <th>1244</th>\n",
       "      <td>Get Ready</td>\n",
       "      <td>I've got a message that I need to send</td>\n",
       "    </tr>\n",
       "    <tr>\n",
       "      <th>1436</th>\n",
       "      <td>Get Ready</td>\n",
       "      <td>Don't wanna wake at night</td>\n",
       "    </tr>\n",
       "    <tr>\n",
       "      <th>1421</th>\n",
       "      <td>Get Ready</td>\n",
       "      <td>I've got to get back there today</td>\n",
       "    </tr>\n",
       "    <tr>\n",
       "      <th>1228</th>\n",
       "      <td>Get Ready</td>\n",
       "      <td>I'm doing my best to confound you</td>\n",
       "    </tr>\n",
       "    <tr>\n",
       "      <th>1376</th>\n",
       "      <td>Get Ready</td>\n",
       "      <td>Why don't you run over here and rescue me?</td>\n",
       "    </tr>\n",
       "    <tr>\n",
       "      <th>1289</th>\n",
       "      <td>Get Ready</td>\n",
       "      <td>It's time to get up</td>\n",
       "    </tr>\n",
       "    <tr>\n",
       "      <th>1263</th>\n",
       "      <td>Get Ready</td>\n",
       "      <td>I took each day the way it came</td>\n",
       "    </tr>\n",
       "    <tr>\n",
       "      <th>1207</th>\n",
       "      <td>Get Ready</td>\n",
       "      <td>I don't know what to say, you don't care anyway</td>\n",
       "    </tr>\n",
       "    <tr>\n",
       "      <th>1536</th>\n",
       "      <td>Get Ready</td>\n",
       "      <td>I'm gonna live to get high</td>\n",
       "    </tr>\n",
       "    <tr>\n",
       "      <th>1543</th>\n",
       "      <td>Get Ready</td>\n",
       "      <td>It's time to run</td>\n",
       "    </tr>\n",
       "  </tbody>\n",
       "</table>\n",
       "</div>"
      ],
      "text/plain": [
       "           name                                      song_lyrics\n",
       "1222  Get Ready                  You can drink this magic potion\n",
       "1505  Get Ready                  But all the time when I'm alone\n",
       "1221  Get Ready               And if you think you'd like to try\n",
       "1426  Get Ready                         Don't wanna have to work\n",
       "1259  Get Ready                        That's just the way it is\n",
       "1244  Get Ready           I've got a message that I need to send\n",
       "1436  Get Ready                        Don't wanna wake at night\n",
       "1421  Get Ready                 I've got to get back there today\n",
       "1228  Get Ready                I'm doing my best to confound you\n",
       "1376  Get Ready       Why don't you run over here and rescue me?\n",
       "1289  Get Ready                              It's time to get up\n",
       "1263  Get Ready                  I took each day the way it came\n",
       "1207  Get Ready  I don't know what to say, you don't care anyway\n",
       "1536  Get Ready                       I'm gonna live to get high\n",
       "1543  Get Ready                                 It's time to run"
      ]
     },
     "metadata": {},
     "output_type": "display_data"
    },
    {
     "name": "stdout",
     "output_type": "stream",
     "text": [
      "\n",
      "'Republic ' predicted as 'Waiting for the Siren's Call' : 12 examples.\n"
     ]
    },
    {
     "data": {
      "text/html": [
       "<div>\n",
       "<style scoped>\n",
       "    .dataframe tbody tr th:only-of-type {\n",
       "        vertical-align: middle;\n",
       "    }\n",
       "\n",
       "    .dataframe tbody tr th {\n",
       "        vertical-align: top;\n",
       "    }\n",
       "\n",
       "    .dataframe thead th {\n",
       "        text-align: right;\n",
       "    }\n",
       "</style>\n",
       "<table border=\"1\" class=\"dataframe\">\n",
       "  <thead>\n",
       "    <tr style=\"text-align: right;\">\n",
       "      <th></th>\n",
       "      <th>name</th>\n",
       "      <th>song_lyrics</th>\n",
       "    </tr>\n",
       "  </thead>\n",
       "  <tbody>\n",
       "    <tr>\n",
       "      <th>2102</th>\n",
       "      <td>Republic</td>\n",
       "      <td>I may be wrong but you're missing</td>\n",
       "    </tr>\n",
       "    <tr>\n",
       "      <th>2181</th>\n",
       "      <td>Republic</td>\n",
       "      <td>I've not got much to give</td>\n",
       "    </tr>\n",
       "    <tr>\n",
       "      <th>2187</th>\n",
       "      <td>Republic</td>\n",
       "      <td>Look at me, I'm not you</td>\n",
       "    </tr>\n",
       "    <tr>\n",
       "      <th>2103</th>\n",
       "      <td>Republic</td>\n",
       "      <td>There's something wrong you could say</td>\n",
       "    </tr>\n",
       "    <tr>\n",
       "      <th>2250</th>\n",
       "      <td>Republic</td>\n",
       "      <td>A master plan just for two</td>\n",
       "    </tr>\n",
       "    <tr>\n",
       "      <th>2059</th>\n",
       "      <td>Republic</td>\n",
       "      <td>You've got your finger on the pulse</td>\n",
       "    </tr>\n",
       "    <tr>\n",
       "      <th>2119</th>\n",
       "      <td>Republic</td>\n",
       "      <td>It could take all day</td>\n",
       "    </tr>\n",
       "    <tr>\n",
       "      <th>2078</th>\n",
       "      <td>Republic</td>\n",
       "      <td>For you to say goodbye</td>\n",
       "    </tr>\n",
       "    <tr>\n",
       "      <th>2104</th>\n",
       "      <td>Republic</td>\n",
       "      <td>Ruined in a day</td>\n",
       "    </tr>\n",
       "    <tr>\n",
       "      <th>2177</th>\n",
       "      <td>Republic</td>\n",
       "      <td>Almost all the time</td>\n",
       "    </tr>\n",
       "    <tr>\n",
       "      <th>2132</th>\n",
       "      <td>Republic</td>\n",
       "      <td>I'd give you a piece of my love for free</td>\n",
       "    </tr>\n",
       "    <tr>\n",
       "      <th>2206</th>\n",
       "      <td>Republic</td>\n",
       "      <td>You keep getting high, juvenile delinquent</td>\n",
       "    </tr>\n",
       "  </tbody>\n",
       "</table>\n",
       "</div>"
      ],
      "text/plain": [
       "           name                                 song_lyrics\n",
       "2102  Republic            I may be wrong but you're missing\n",
       "2181  Republic                    I've not got much to give\n",
       "2187  Republic                      Look at me, I'm not you\n",
       "2103  Republic        There's something wrong you could say\n",
       "2250  Republic                   A master plan just for two\n",
       "2059  Republic          You've got your finger on the pulse\n",
       "2119  Republic                        It could take all day\n",
       "2078  Republic                       For you to say goodbye\n",
       "2104  Republic                              Ruined in a day\n",
       "2177  Republic                          Almost all the time\n",
       "2132  Republic     I'd give you a piece of my love for free\n",
       "2206  Republic   You keep getting high, juvenile delinquent"
      ]
     },
     "metadata": {},
     "output_type": "display_data"
    },
    {
     "name": "stdout",
     "output_type": "stream",
     "text": [
      "\n"
     ]
    }
   ],
   "source": [
    "from IPython.display import display\n",
    "\n",
    "for predicted in df_map.mapping:\n",
    "  for actual in df_map.mapping:\n",
    "    if predicted != actual and conf_mtx[actual, predicted] >= 10:\n",
    "      print(\"'{}' predicted as '{}' : {} examples.\".format(id_to_map[actual], id_to_map[predicted], conf_mtx[actual, predicted]))\n",
    "      display(df.loc[idx_test[(y_test == actual) & (y_pred == predicted)]][['name', 'song_lyrics']])\n",
    "      print('')"
   ]
  },
  {
   "cell_type": "code",
   "execution_count": 163,
   "metadata": {
    "ExecuteTime": {
     "end_time": "2020-03-12T04:44:45.263141Z",
     "start_time": "2020-03-12T04:44:45.220799Z"
    }
   },
   "outputs": [
    {
     "name": "stdout",
     "output_type": "stream",
     "text": [
      "                              precision    recall  f1-score   support\n",
      "\n",
      "           Unknown Pleasures       0.51      0.53      0.52        90\n",
      "                      Closer       0.47      0.20      0.28        79\n",
      "                   Technique       0.47      0.35      0.40        80\n",
      "                 Brotherhood       0.35      0.34      0.34        82\n",
      "  Power, Corruption and Lies       0.55      0.53      0.54        68\n",
      "                   Get Ready       0.46      0.51      0.48       124\n",
      "                 Lost Sirens       0.51      0.44      0.47        84\n",
      "                   Movement        0.35      0.27      0.31        44\n",
      "                   Republic        0.34      0.62      0.44        97\n",
      "                    Low-Life       0.41      0.33      0.37        75\n",
      "Waiting for the Siren's Call       0.44      0.46      0.45       144\n",
      "\n",
      "                    accuracy                           0.43       967\n",
      "                   macro avg       0.44      0.42      0.42       967\n",
      "                weighted avg       0.44      0.43      0.43       967\n",
      "\n"
     ]
    }
   ],
   "source": [
    "from sklearn import metrics\n",
    "print(metrics.classification_report(y_test, y_pred, \n",
    "                                    target_names=df['name'].unique()))"
   ]
  },
  {
   "cell_type": "code",
   "execution_count": 164,
   "metadata": {
    "ExecuteTime": {
     "end_time": "2020-03-12T17:01:58.975414Z",
     "start_time": "2020-03-12T17:01:58.799721Z"
    }
   },
   "outputs": [
    {
     "data": {
      "text/plain": [
       "-0.14351813736631902"
      ]
     },
     "execution_count": 164,
     "metadata": {},
     "output_type": "execute_result"
    }
   ],
   "source": [
    "# R2 from sklearn\n",
    "metrics.r2_score(y_test, y_pred)"
   ]
  },
  {
   "cell_type": "code",
   "execution_count": null,
   "metadata": {},
   "outputs": [],
   "source": []
  },
  {
   "cell_type": "markdown",
   "metadata": {},
   "source": []
  },
  {
   "cell_type": "code",
   "execution_count": null,
   "metadata": {},
   "outputs": [],
   "source": []
  },
  {
   "cell_type": "code",
   "execution_count": null,
   "metadata": {},
   "outputs": [],
   "source": []
  },
  {
   "cell_type": "markdown",
   "metadata": {},
   "source": [
    "---"
   ]
  },
  {
   "cell_type": "markdown",
   "metadata": {},
   "source": [
    "#### Perform a t-SNE plot to explore high dimensional data "
   ]
  },
  {
   "cell_type": "code",
   "execution_count": 311,
   "metadata": {
    "ExecuteTime": {
     "end_time": "2020-03-09T21:00:33.635070Z",
     "start_time": "2020-03-09T21:00:33.457974Z"
    }
   },
   "outputs": [],
   "source": [
    "from sklearn.decomposition import TruncatedSVD\n",
    "X_reduced = TruncatedSVD(n_components=50, random_state=42).fit_transform(t_vec_weights)\n",
    "# Credit: [T-SNE Dimension Reduction sklearn](http://bit.ly/38zNyyg)"
   ]
  },
  {
   "cell_type": "code",
   "execution_count": 312,
   "metadata": {
    "ExecuteTime": {
     "end_time": "2020-03-09T21:00:50.198569Z",
     "start_time": "2020-03-09T21:00:35.010461Z"
    }
   },
   "outputs": [
    {
     "name": "stdout",
     "output_type": "stream",
     "text": [
      "[t-SNE] Computing 121 nearest neighbors...\n",
      "[t-SNE] Indexed 2930 samples in 0.005s...\n",
      "[t-SNE] Computed neighbors for 2930 samples in 0.645s...\n",
      "[t-SNE] Computed conditional probabilities for sample 1000 / 2930\n",
      "[t-SNE] Computed conditional probabilities for sample 2000 / 2930\n",
      "[t-SNE] Computed conditional probabilities for sample 2930 / 2930\n",
      "[t-SNE] Mean sigma: 0.000000\n",
      "[t-SNE] Computed conditional probabilities in 0.171s\n",
      "[t-SNE] Iteration 50: error = 77.4691086, gradient norm = 0.0017759 (50 iterations in 0.685s)\n",
      "[t-SNE] Iteration 100: error = 76.2207031, gradient norm = 0.0056794 (50 iterations in 0.740s)\n",
      "[t-SNE] Iteration 150: error = 75.9552994, gradient norm = 0.0021882 (50 iterations in 0.684s)\n",
      "[t-SNE] Iteration 200: error = 75.9185944, gradient norm = 0.0004942 (50 iterations in 0.689s)\n",
      "[t-SNE] Iteration 250: error = 75.9126282, gradient norm = 0.0003301 (50 iterations in 0.708s)\n",
      "[t-SNE] KL divergence after 250 iterations with early exaggeration: 75.912628\n",
      "[t-SNE] Iteration 300: error = 1.2469153, gradient norm = 0.0010768 (50 iterations in 0.756s)\n",
      "[t-SNE] Iteration 350: error = 0.9596313, gradient norm = 0.0003900 (50 iterations in 0.761s)\n",
      "[t-SNE] Iteration 400: error = 0.8661549, gradient norm = 0.0002338 (50 iterations in 0.744s)\n",
      "[t-SNE] Iteration 450: error = 0.8262383, gradient norm = 0.0001696 (50 iterations in 0.712s)\n",
      "[t-SNE] Iteration 500: error = 0.8066220, gradient norm = 0.0001397 (50 iterations in 0.677s)\n",
      "[t-SNE] Iteration 550: error = 0.7931908, gradient norm = 0.0001231 (50 iterations in 0.676s)\n",
      "[t-SNE] Iteration 600: error = 0.7833635, gradient norm = 0.0001081 (50 iterations in 0.675s)\n",
      "[t-SNE] Iteration 650: error = 0.7732008, gradient norm = 0.0001007 (50 iterations in 0.699s)\n",
      "[t-SNE] Iteration 700: error = 0.7673298, gradient norm = 0.0001015 (50 iterations in 0.693s)\n",
      "[t-SNE] Iteration 750: error = 0.7629724, gradient norm = 0.0000979 (50 iterations in 0.694s)\n",
      "[t-SNE] Iteration 800: error = 0.7580296, gradient norm = 0.0000957 (50 iterations in 0.710s)\n",
      "[t-SNE] Iteration 850: error = 0.7550275, gradient norm = 0.0000877 (50 iterations in 0.696s)\n",
      "[t-SNE] Iteration 900: error = 0.7525620, gradient norm = 0.0000867 (50 iterations in 0.699s)\n",
      "[t-SNE] Iteration 950: error = 0.7499410, gradient norm = 0.0000989 (50 iterations in 0.705s)\n",
      "[t-SNE] Iteration 1000: error = 0.7478307, gradient norm = 0.0000770 (50 iterations in 0.877s)\n",
      "[t-SNE] KL divergence after 1000 iterations: 0.747831\n"
     ]
    }
   ],
   "source": [
    "# Create t-distributed Stochastic Neighbor Embedding n-array\n",
    "from sklearn.manifold import TSNE\n",
    "X_embedded = TSNE(n_components=2, perplexity=40, verbose=1).fit_transform(X_reduced)\n",
    "# Credit: [T-SNE Dimension Reduction sklearn](http://bit.ly/38zNyyg)"
   ]
  },
  {
   "cell_type": "code",
   "execution_count": 313,
   "metadata": {
    "ExecuteTime": {
     "end_time": "2020-03-09T21:00:57.272733Z",
     "start_time": "2020-03-09T21:00:57.048349Z"
    },
    "scrolled": true
   },
   "outputs": [
    {
     "data": {
      "image/png": "[encoded data removed]",
      "text/plain": [
       "<Figure size 576x576 with 1 Axes>"
      ]
     },
     "metadata": {},
     "output_type": "display_data"
    }
   ],
   "source": [
    "fig = plt.figure(figsize=(8, 8))\n",
    "ax = plt.axes(frameon=False)\n",
    "t = np.arange(2930)\n",
    "plt.setp(ax, xticks=(), yticks=())\n",
    "plt.subplots_adjust(left=0.0, bottom=0.0, right=1.0, top=0.9,\n",
    "                wspace=0.0, hspace=0.0)\n",
    "plt.scatter(X_embedded[:, 0], X_embedded[:, 1], c=t, cmap='binary', marker=\"o\");"
   ]
  },
  {
   "cell_type": "markdown",
   "metadata": {},
   "source": [
    "---"
   ]
  },
  {
   "cell_type": "code",
   "execution_count": null,
   "metadata": {},
   "outputs": [],
   "source": []
  }
 ],
 "metadata": {
  "kernelspec": {
   "display_name": "Python [conda env:dsi] *",
   "language": "python",
   "name": "conda-env-dsi-py"
  },
  "language_info": {
   "codemirror_mode": {
    "name": "ipython",
    "version": 3
   },
   "file_extension": ".py",
   "mimetype": "text/x-python",
   "name": "python",
   "nbconvert_exporter": "python",
   "pygments_lexer": "ipython3",
   "version": "3.7.3"
  }
 },
 "nbformat": 4,
 "nbformat_minor": 2
}
